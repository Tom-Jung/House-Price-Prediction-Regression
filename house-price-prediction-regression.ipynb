{
 "cells": [
  {
   "cell_type": "code",
   "execution_count": 1,
   "id": "e3aa8f06",
   "metadata": {
    "_cell_guid": "b1076dfc-b9ad-4769-8c92-a6c4dae69d19",
    "_uuid": "8f2839f25d086af736a60e9eeb907d3b93b6e0e5",
    "execution": {
     "iopub.execute_input": "2022-03-11T12:05:05.578622Z",
     "iopub.status.busy": "2022-03-11T12:05:05.577470Z",
     "iopub.status.idle": "2022-03-11T12:05:06.705303Z",
     "shell.execute_reply": "2022-03-11T12:05:06.704254Z",
     "shell.execute_reply.started": "2022-03-10T15:44:00.278736Z"
    },
    "papermill": {
     "duration": 1.240444,
     "end_time": "2022-03-11T12:05:06.705549",
     "exception": false,
     "start_time": "2022-03-11T12:05:05.465105",
     "status": "completed"
    },
    "tags": []
   },
   "outputs": [
    {
     "name": "stdout",
     "output_type": "stream",
     "text": [
      "/kaggle/input/house-prices-advanced-regression-techniques/sample_submission.csv\n",
      "/kaggle/input/house-prices-advanced-regression-techniques/data_description.txt\n",
      "/kaggle/input/house-prices-advanced-regression-techniques/train.csv\n",
      "/kaggle/input/house-prices-advanced-regression-techniques/test.csv\n"
     ]
    }
   ],
   "source": [
    "# This Python 3 environment comes with many helpful analytics libraries installed\n",
    "# It is defined by the kaggle/python Docker image: https://github.com/kaggle/docker-python\n",
    "# For example, here's several helpful packages to load\n",
    "\n",
    "import numpy as np # linear algebra\n",
    "import pandas as pd# data processing, CSV file I/O (e.g. pd.read_csv)\n",
    "import seaborn as sns\n",
    "import matplotlib.pyplot as plt\n",
    "\n",
    "# Input data files are available in the read-only \"../input/\" directory\n",
    "# For example, running this (by clicking run or pressing Shift+Enter) will list all files under the input directory\n",
    "\n",
    "import os\n",
    "for dirname, _, filenames in os.walk('/kaggle/input'):\n",
    "    for filename in filenames:\n",
    "        print(os.path.join(dirname, filename))\n",
    "\n",
    "# You can write up to 20GB to the current directory (/kaggle/working/) that gets preserved as output when you create a version using \"Save & Run All\" \n",
    "# You can also write temporary files to /kaggle/temp/, but they won't be saved outside of the current session"
   ]
  },
  {
   "cell_type": "code",
   "execution_count": 2,
   "id": "9eba25d1",
   "metadata": {
    "execution": {
     "iopub.execute_input": "2022-03-11T12:05:06.955412Z",
     "iopub.status.busy": "2022-03-11T12:05:06.954769Z",
     "iopub.status.idle": "2022-03-11T12:05:07.041855Z",
     "shell.execute_reply": "2022-03-11T12:05:07.040949Z",
     "shell.execute_reply.started": "2022-03-10T15:44:00.292158Z"
    },
    "papermill": {
     "duration": 0.20654,
     "end_time": "2022-03-11T12:05:07.042094",
     "exception": false,
     "start_time": "2022-03-11T12:05:06.835554",
     "status": "completed"
    },
    "tags": []
   },
   "outputs": [],
   "source": [
    "df_sub = pd.read_csv('/kaggle/input/house-prices-advanced-regression-techniques/sample_submission.csv')\n",
    "df_train = pd.read_csv('/kaggle/input/house-prices-advanced-regression-techniques/train.csv') \n",
    "df_test = pd.read_csv('/kaggle/input/house-prices-advanced-regression-techniques/test.csv')"
   ]
  },
  {
   "cell_type": "code",
   "execution_count": 3,
   "id": "fb42c1a0",
   "metadata": {
    "execution": {
     "iopub.execute_input": "2022-03-11T12:05:07.290532Z",
     "iopub.status.busy": "2022-03-11T12:05:07.289546Z",
     "iopub.status.idle": "2022-03-11T12:05:07.311923Z",
     "shell.execute_reply": "2022-03-11T12:05:07.312439Z",
     "shell.execute_reply.started": "2022-03-10T15:44:00.34758Z"
    },
    "papermill": {
     "duration": 0.147405,
     "end_time": "2022-03-11T12:05:07.312630",
     "exception": false,
     "start_time": "2022-03-11T12:05:07.165225",
     "status": "completed"
    },
    "tags": []
   },
   "outputs": [
    {
     "data": {
      "text/html": [
       "<div>\n",
       "<style scoped>\n",
       "    .dataframe tbody tr th:only-of-type {\n",
       "        vertical-align: middle;\n",
       "    }\n",
       "\n",
       "    .dataframe tbody tr th {\n",
       "        vertical-align: top;\n",
       "    }\n",
       "\n",
       "    .dataframe thead th {\n",
       "        text-align: right;\n",
       "    }\n",
       "</style>\n",
       "<table border=\"1\" class=\"dataframe\">\n",
       "  <thead>\n",
       "    <tr style=\"text-align: right;\">\n",
       "      <th></th>\n",
       "      <th>Id</th>\n",
       "      <th>MSSubClass</th>\n",
       "      <th>MSZoning</th>\n",
       "      <th>LotFrontage</th>\n",
       "      <th>LotArea</th>\n",
       "      <th>Street</th>\n",
       "      <th>Alley</th>\n",
       "      <th>LotShape</th>\n",
       "      <th>LandContour</th>\n",
       "      <th>Utilities</th>\n",
       "      <th>...</th>\n",
       "      <th>PoolArea</th>\n",
       "      <th>PoolQC</th>\n",
       "      <th>Fence</th>\n",
       "      <th>MiscFeature</th>\n",
       "      <th>MiscVal</th>\n",
       "      <th>MoSold</th>\n",
       "      <th>YrSold</th>\n",
       "      <th>SaleType</th>\n",
       "      <th>SaleCondition</th>\n",
       "      <th>SalePrice</th>\n",
       "    </tr>\n",
       "  </thead>\n",
       "  <tbody>\n",
       "    <tr>\n",
       "      <th>0</th>\n",
       "      <td>1</td>\n",
       "      <td>60</td>\n",
       "      <td>RL</td>\n",
       "      <td>65.0</td>\n",
       "      <td>8450</td>\n",
       "      <td>Pave</td>\n",
       "      <td>NaN</td>\n",
       "      <td>Reg</td>\n",
       "      <td>Lvl</td>\n",
       "      <td>AllPub</td>\n",
       "      <td>...</td>\n",
       "      <td>0</td>\n",
       "      <td>NaN</td>\n",
       "      <td>NaN</td>\n",
       "      <td>NaN</td>\n",
       "      <td>0</td>\n",
       "      <td>2</td>\n",
       "      <td>2008</td>\n",
       "      <td>WD</td>\n",
       "      <td>Normal</td>\n",
       "      <td>208500</td>\n",
       "    </tr>\n",
       "    <tr>\n",
       "      <th>1</th>\n",
       "      <td>2</td>\n",
       "      <td>20</td>\n",
       "      <td>RL</td>\n",
       "      <td>80.0</td>\n",
       "      <td>9600</td>\n",
       "      <td>Pave</td>\n",
       "      <td>NaN</td>\n",
       "      <td>Reg</td>\n",
       "      <td>Lvl</td>\n",
       "      <td>AllPub</td>\n",
       "      <td>...</td>\n",
       "      <td>0</td>\n",
       "      <td>NaN</td>\n",
       "      <td>NaN</td>\n",
       "      <td>NaN</td>\n",
       "      <td>0</td>\n",
       "      <td>5</td>\n",
       "      <td>2007</td>\n",
       "      <td>WD</td>\n",
       "      <td>Normal</td>\n",
       "      <td>181500</td>\n",
       "    </tr>\n",
       "    <tr>\n",
       "      <th>2</th>\n",
       "      <td>3</td>\n",
       "      <td>60</td>\n",
       "      <td>RL</td>\n",
       "      <td>68.0</td>\n",
       "      <td>11250</td>\n",
       "      <td>Pave</td>\n",
       "      <td>NaN</td>\n",
       "      <td>IR1</td>\n",
       "      <td>Lvl</td>\n",
       "      <td>AllPub</td>\n",
       "      <td>...</td>\n",
       "      <td>0</td>\n",
       "      <td>NaN</td>\n",
       "      <td>NaN</td>\n",
       "      <td>NaN</td>\n",
       "      <td>0</td>\n",
       "      <td>9</td>\n",
       "      <td>2008</td>\n",
       "      <td>WD</td>\n",
       "      <td>Normal</td>\n",
       "      <td>223500</td>\n",
       "    </tr>\n",
       "    <tr>\n",
       "      <th>3</th>\n",
       "      <td>4</td>\n",
       "      <td>70</td>\n",
       "      <td>RL</td>\n",
       "      <td>60.0</td>\n",
       "      <td>9550</td>\n",
       "      <td>Pave</td>\n",
       "      <td>NaN</td>\n",
       "      <td>IR1</td>\n",
       "      <td>Lvl</td>\n",
       "      <td>AllPub</td>\n",
       "      <td>...</td>\n",
       "      <td>0</td>\n",
       "      <td>NaN</td>\n",
       "      <td>NaN</td>\n",
       "      <td>NaN</td>\n",
       "      <td>0</td>\n",
       "      <td>2</td>\n",
       "      <td>2006</td>\n",
       "      <td>WD</td>\n",
       "      <td>Abnorml</td>\n",
       "      <td>140000</td>\n",
       "    </tr>\n",
       "    <tr>\n",
       "      <th>4</th>\n",
       "      <td>5</td>\n",
       "      <td>60</td>\n",
       "      <td>RL</td>\n",
       "      <td>84.0</td>\n",
       "      <td>14260</td>\n",
       "      <td>Pave</td>\n",
       "      <td>NaN</td>\n",
       "      <td>IR1</td>\n",
       "      <td>Lvl</td>\n",
       "      <td>AllPub</td>\n",
       "      <td>...</td>\n",
       "      <td>0</td>\n",
       "      <td>NaN</td>\n",
       "      <td>NaN</td>\n",
       "      <td>NaN</td>\n",
       "      <td>0</td>\n",
       "      <td>12</td>\n",
       "      <td>2008</td>\n",
       "      <td>WD</td>\n",
       "      <td>Normal</td>\n",
       "      <td>250000</td>\n",
       "    </tr>\n",
       "  </tbody>\n",
       "</table>\n",
       "<p>5 rows × 81 columns</p>\n",
       "</div>"
      ],
      "text/plain": [
       "   Id  MSSubClass MSZoning  LotFrontage  LotArea Street Alley LotShape  \\\n",
       "0   1          60       RL         65.0     8450   Pave   NaN      Reg   \n",
       "1   2          20       RL         80.0     9600   Pave   NaN      Reg   \n",
       "2   3          60       RL         68.0    11250   Pave   NaN      IR1   \n",
       "3   4          70       RL         60.0     9550   Pave   NaN      IR1   \n",
       "4   5          60       RL         84.0    14260   Pave   NaN      IR1   \n",
       "\n",
       "  LandContour Utilities  ... PoolArea PoolQC Fence MiscFeature MiscVal MoSold  \\\n",
       "0         Lvl    AllPub  ...        0    NaN   NaN         NaN       0      2   \n",
       "1         Lvl    AllPub  ...        0    NaN   NaN         NaN       0      5   \n",
       "2         Lvl    AllPub  ...        0    NaN   NaN         NaN       0      9   \n",
       "3         Lvl    AllPub  ...        0    NaN   NaN         NaN       0      2   \n",
       "4         Lvl    AllPub  ...        0    NaN   NaN         NaN       0     12   \n",
       "\n",
       "  YrSold  SaleType  SaleCondition  SalePrice  \n",
       "0   2008        WD         Normal     208500  \n",
       "1   2007        WD         Normal     181500  \n",
       "2   2008        WD         Normal     223500  \n",
       "3   2006        WD        Abnorml     140000  \n",
       "4   2008        WD         Normal     250000  \n",
       "\n",
       "[5 rows x 81 columns]"
      ]
     },
     "execution_count": 3,
     "metadata": {},
     "output_type": "execute_result"
    }
   ],
   "source": [
    "df_train.head()"
   ]
  },
  {
   "cell_type": "code",
   "execution_count": 4,
   "id": "fbe5de5d",
   "metadata": {
    "execution": {
     "iopub.execute_input": "2022-03-11T12:05:07.532932Z",
     "iopub.status.busy": "2022-03-11T12:05:07.532188Z",
     "iopub.status.idle": "2022-03-11T12:05:07.564941Z",
     "shell.execute_reply": "2022-03-11T12:05:07.564200Z",
     "shell.execute_reply.started": "2022-03-10T15:44:00.379354Z"
    },
    "papermill": {
     "duration": 0.142643,
     "end_time": "2022-03-11T12:05:07.565088",
     "exception": false,
     "start_time": "2022-03-11T12:05:07.422445",
     "status": "completed"
    },
    "tags": []
   },
   "outputs": [
    {
     "name": "stdout",
     "output_type": "stream",
     "text": [
      "<class 'pandas.core.frame.DataFrame'>\n",
      "RangeIndex: 1460 entries, 0 to 1459\n",
      "Data columns (total 81 columns):\n",
      " #   Column         Non-Null Count  Dtype  \n",
      "---  ------         --------------  -----  \n",
      " 0   Id             1460 non-null   int64  \n",
      " 1   MSSubClass     1460 non-null   int64  \n",
      " 2   MSZoning       1460 non-null   object \n",
      " 3   LotFrontage    1201 non-null   float64\n",
      " 4   LotArea        1460 non-null   int64  \n",
      " 5   Street         1460 non-null   object \n",
      " 6   Alley          91 non-null     object \n",
      " 7   LotShape       1460 non-null   object \n",
      " 8   LandContour    1460 non-null   object \n",
      " 9   Utilities      1460 non-null   object \n",
      " 10  LotConfig      1460 non-null   object \n",
      " 11  LandSlope      1460 non-null   object \n",
      " 12  Neighborhood   1460 non-null   object \n",
      " 13  Condition1     1460 non-null   object \n",
      " 14  Condition2     1460 non-null   object \n",
      " 15  BldgType       1460 non-null   object \n",
      " 16  HouseStyle     1460 non-null   object \n",
      " 17  OverallQual    1460 non-null   int64  \n",
      " 18  OverallCond    1460 non-null   int64  \n",
      " 19  YearBuilt      1460 non-null   int64  \n",
      " 20  YearRemodAdd   1460 non-null   int64  \n",
      " 21  RoofStyle      1460 non-null   object \n",
      " 22  RoofMatl       1460 non-null   object \n",
      " 23  Exterior1st    1460 non-null   object \n",
      " 24  Exterior2nd    1460 non-null   object \n",
      " 25  MasVnrType     1452 non-null   object \n",
      " 26  MasVnrArea     1452 non-null   float64\n",
      " 27  ExterQual      1460 non-null   object \n",
      " 28  ExterCond      1460 non-null   object \n",
      " 29  Foundation     1460 non-null   object \n",
      " 30  BsmtQual       1423 non-null   object \n",
      " 31  BsmtCond       1423 non-null   object \n",
      " 32  BsmtExposure   1422 non-null   object \n",
      " 33  BsmtFinType1   1423 non-null   object \n",
      " 34  BsmtFinSF1     1460 non-null   int64  \n",
      " 35  BsmtFinType2   1422 non-null   object \n",
      " 36  BsmtFinSF2     1460 non-null   int64  \n",
      " 37  BsmtUnfSF      1460 non-null   int64  \n",
      " 38  TotalBsmtSF    1460 non-null   int64  \n",
      " 39  Heating        1460 non-null   object \n",
      " 40  HeatingQC      1460 non-null   object \n",
      " 41  CentralAir     1460 non-null   object \n",
      " 42  Electrical     1459 non-null   object \n",
      " 43  1stFlrSF       1460 non-null   int64  \n",
      " 44  2ndFlrSF       1460 non-null   int64  \n",
      " 45  LowQualFinSF   1460 non-null   int64  \n",
      " 46  GrLivArea      1460 non-null   int64  \n",
      " 47  BsmtFullBath   1460 non-null   int64  \n",
      " 48  BsmtHalfBath   1460 non-null   int64  \n",
      " 49  FullBath       1460 non-null   int64  \n",
      " 50  HalfBath       1460 non-null   int64  \n",
      " 51  BedroomAbvGr   1460 non-null   int64  \n",
      " 52  KitchenAbvGr   1460 non-null   int64  \n",
      " 53  KitchenQual    1460 non-null   object \n",
      " 54  TotRmsAbvGrd   1460 non-null   int64  \n",
      " 55  Functional     1460 non-null   object \n",
      " 56  Fireplaces     1460 non-null   int64  \n",
      " 57  FireplaceQu    770 non-null    object \n",
      " 58  GarageType     1379 non-null   object \n",
      " 59  GarageYrBlt    1379 non-null   float64\n",
      " 60  GarageFinish   1379 non-null   object \n",
      " 61  GarageCars     1460 non-null   int64  \n",
      " 62  GarageArea     1460 non-null   int64  \n",
      " 63  GarageQual     1379 non-null   object \n",
      " 64  GarageCond     1379 non-null   object \n",
      " 65  PavedDrive     1460 non-null   object \n",
      " 66  WoodDeckSF     1460 non-null   int64  \n",
      " 67  OpenPorchSF    1460 non-null   int64  \n",
      " 68  EnclosedPorch  1460 non-null   int64  \n",
      " 69  3SsnPorch      1460 non-null   int64  \n",
      " 70  ScreenPorch    1460 non-null   int64  \n",
      " 71  PoolArea       1460 non-null   int64  \n",
      " 72  PoolQC         7 non-null      object \n",
      " 73  Fence          281 non-null    object \n",
      " 74  MiscFeature    54 non-null     object \n",
      " 75  MiscVal        1460 non-null   int64  \n",
      " 76  MoSold         1460 non-null   int64  \n",
      " 77  YrSold         1460 non-null   int64  \n",
      " 78  SaleType       1460 non-null   object \n",
      " 79  SaleCondition  1460 non-null   object \n",
      " 80  SalePrice      1460 non-null   int64  \n",
      "dtypes: float64(3), int64(35), object(43)\n",
      "memory usage: 924.0+ KB\n"
     ]
    }
   ],
   "source": [
    "df_train.info()"
   ]
  },
  {
   "cell_type": "code",
   "execution_count": 5,
   "id": "13322352",
   "metadata": {
    "execution": {
     "iopub.execute_input": "2022-03-11T12:05:07.799053Z",
     "iopub.status.busy": "2022-03-11T12:05:07.798345Z",
     "iopub.status.idle": "2022-03-11T12:05:07.804573Z",
     "shell.execute_reply": "2022-03-11T12:05:07.805047Z",
     "shell.execute_reply.started": "2022-03-10T15:44:00.405725Z"
    },
    "papermill": {
     "duration": 0.126086,
     "end_time": "2022-03-11T12:05:07.805220",
     "exception": false,
     "start_time": "2022-03-11T12:05:07.679134",
     "status": "completed"
    },
    "tags": []
   },
   "outputs": [
    {
     "data": {
      "text/plain": [
       "Id                 0\n",
       "MSSubClass         0\n",
       "MSZoning           0\n",
       "LotFrontage      259\n",
       "LotArea            0\n",
       "                ... \n",
       "MoSold             0\n",
       "YrSold             0\n",
       "SaleType           0\n",
       "SaleCondition      0\n",
       "SalePrice          0\n",
       "Length: 81, dtype: int64"
      ]
     },
     "execution_count": 5,
     "metadata": {},
     "output_type": "execute_result"
    }
   ],
   "source": [
    "df_train.isnull().sum().head(100)"
   ]
  },
  {
   "cell_type": "code",
   "execution_count": 6,
   "id": "fce4a358",
   "metadata": {
    "execution": {
     "iopub.execute_input": "2022-03-11T12:05:08.030173Z",
     "iopub.status.busy": "2022-03-11T12:05:08.029334Z",
     "iopub.status.idle": "2022-03-11T12:05:08.118038Z",
     "shell.execute_reply": "2022-03-11T12:05:08.118466Z",
     "shell.execute_reply.started": "2022-03-10T15:44:00.422715Z"
    },
    "papermill": {
     "duration": 0.204173,
     "end_time": "2022-03-11T12:05:08.118649",
     "exception": false,
     "start_time": "2022-03-11T12:05:07.914476",
     "status": "completed"
    },
    "tags": []
   },
   "outputs": [
    {
     "data": {
      "text/html": [
       "<div>\n",
       "<style scoped>\n",
       "    .dataframe tbody tr th:only-of-type {\n",
       "        vertical-align: middle;\n",
       "    }\n",
       "\n",
       "    .dataframe tbody tr th {\n",
       "        vertical-align: top;\n",
       "    }\n",
       "\n",
       "    .dataframe thead th {\n",
       "        text-align: right;\n",
       "    }\n",
       "</style>\n",
       "<table border=\"1\" class=\"dataframe\">\n",
       "  <thead>\n",
       "    <tr style=\"text-align: right;\">\n",
       "      <th></th>\n",
       "      <th>Id</th>\n",
       "      <th>MSSubClass</th>\n",
       "      <th>LotFrontage</th>\n",
       "      <th>LotArea</th>\n",
       "      <th>OverallQual</th>\n",
       "      <th>OverallCond</th>\n",
       "      <th>YearBuilt</th>\n",
       "      <th>YearRemodAdd</th>\n",
       "      <th>MasVnrArea</th>\n",
       "      <th>BsmtFinSF1</th>\n",
       "      <th>...</th>\n",
       "      <th>WoodDeckSF</th>\n",
       "      <th>OpenPorchSF</th>\n",
       "      <th>EnclosedPorch</th>\n",
       "      <th>3SsnPorch</th>\n",
       "      <th>ScreenPorch</th>\n",
       "      <th>PoolArea</th>\n",
       "      <th>MiscVal</th>\n",
       "      <th>MoSold</th>\n",
       "      <th>YrSold</th>\n",
       "      <th>SalePrice</th>\n",
       "    </tr>\n",
       "  </thead>\n",
       "  <tbody>\n",
       "    <tr>\n",
       "      <th>count</th>\n",
       "      <td>1460.000000</td>\n",
       "      <td>1460.000000</td>\n",
       "      <td>1201.000000</td>\n",
       "      <td>1460.000000</td>\n",
       "      <td>1460.000000</td>\n",
       "      <td>1460.000000</td>\n",
       "      <td>1460.000000</td>\n",
       "      <td>1460.000000</td>\n",
       "      <td>1452.000000</td>\n",
       "      <td>1460.000000</td>\n",
       "      <td>...</td>\n",
       "      <td>1460.000000</td>\n",
       "      <td>1460.000000</td>\n",
       "      <td>1460.000000</td>\n",
       "      <td>1460.000000</td>\n",
       "      <td>1460.000000</td>\n",
       "      <td>1460.000000</td>\n",
       "      <td>1460.000000</td>\n",
       "      <td>1460.000000</td>\n",
       "      <td>1460.000000</td>\n",
       "      <td>1460.000000</td>\n",
       "    </tr>\n",
       "    <tr>\n",
       "      <th>mean</th>\n",
       "      <td>730.500000</td>\n",
       "      <td>56.897260</td>\n",
       "      <td>70.049958</td>\n",
       "      <td>10516.828082</td>\n",
       "      <td>6.099315</td>\n",
       "      <td>5.575342</td>\n",
       "      <td>1971.267808</td>\n",
       "      <td>1984.865753</td>\n",
       "      <td>103.685262</td>\n",
       "      <td>443.639726</td>\n",
       "      <td>...</td>\n",
       "      <td>94.244521</td>\n",
       "      <td>46.660274</td>\n",
       "      <td>21.954110</td>\n",
       "      <td>3.409589</td>\n",
       "      <td>15.060959</td>\n",
       "      <td>2.758904</td>\n",
       "      <td>43.489041</td>\n",
       "      <td>6.321918</td>\n",
       "      <td>2007.815753</td>\n",
       "      <td>180921.195890</td>\n",
       "    </tr>\n",
       "    <tr>\n",
       "      <th>std</th>\n",
       "      <td>421.610009</td>\n",
       "      <td>42.300571</td>\n",
       "      <td>24.284752</td>\n",
       "      <td>9981.264932</td>\n",
       "      <td>1.382997</td>\n",
       "      <td>1.112799</td>\n",
       "      <td>30.202904</td>\n",
       "      <td>20.645407</td>\n",
       "      <td>181.066207</td>\n",
       "      <td>456.098091</td>\n",
       "      <td>...</td>\n",
       "      <td>125.338794</td>\n",
       "      <td>66.256028</td>\n",
       "      <td>61.119149</td>\n",
       "      <td>29.317331</td>\n",
       "      <td>55.757415</td>\n",
       "      <td>40.177307</td>\n",
       "      <td>496.123024</td>\n",
       "      <td>2.703626</td>\n",
       "      <td>1.328095</td>\n",
       "      <td>79442.502883</td>\n",
       "    </tr>\n",
       "    <tr>\n",
       "      <th>min</th>\n",
       "      <td>1.000000</td>\n",
       "      <td>20.000000</td>\n",
       "      <td>21.000000</td>\n",
       "      <td>1300.000000</td>\n",
       "      <td>1.000000</td>\n",
       "      <td>1.000000</td>\n",
       "      <td>1872.000000</td>\n",
       "      <td>1950.000000</td>\n",
       "      <td>0.000000</td>\n",
       "      <td>0.000000</td>\n",
       "      <td>...</td>\n",
       "      <td>0.000000</td>\n",
       "      <td>0.000000</td>\n",
       "      <td>0.000000</td>\n",
       "      <td>0.000000</td>\n",
       "      <td>0.000000</td>\n",
       "      <td>0.000000</td>\n",
       "      <td>0.000000</td>\n",
       "      <td>1.000000</td>\n",
       "      <td>2006.000000</td>\n",
       "      <td>34900.000000</td>\n",
       "    </tr>\n",
       "    <tr>\n",
       "      <th>25%</th>\n",
       "      <td>365.750000</td>\n",
       "      <td>20.000000</td>\n",
       "      <td>59.000000</td>\n",
       "      <td>7553.500000</td>\n",
       "      <td>5.000000</td>\n",
       "      <td>5.000000</td>\n",
       "      <td>1954.000000</td>\n",
       "      <td>1967.000000</td>\n",
       "      <td>0.000000</td>\n",
       "      <td>0.000000</td>\n",
       "      <td>...</td>\n",
       "      <td>0.000000</td>\n",
       "      <td>0.000000</td>\n",
       "      <td>0.000000</td>\n",
       "      <td>0.000000</td>\n",
       "      <td>0.000000</td>\n",
       "      <td>0.000000</td>\n",
       "      <td>0.000000</td>\n",
       "      <td>5.000000</td>\n",
       "      <td>2007.000000</td>\n",
       "      <td>129975.000000</td>\n",
       "    </tr>\n",
       "    <tr>\n",
       "      <th>50%</th>\n",
       "      <td>730.500000</td>\n",
       "      <td>50.000000</td>\n",
       "      <td>69.000000</td>\n",
       "      <td>9478.500000</td>\n",
       "      <td>6.000000</td>\n",
       "      <td>5.000000</td>\n",
       "      <td>1973.000000</td>\n",
       "      <td>1994.000000</td>\n",
       "      <td>0.000000</td>\n",
       "      <td>383.500000</td>\n",
       "      <td>...</td>\n",
       "      <td>0.000000</td>\n",
       "      <td>25.000000</td>\n",
       "      <td>0.000000</td>\n",
       "      <td>0.000000</td>\n",
       "      <td>0.000000</td>\n",
       "      <td>0.000000</td>\n",
       "      <td>0.000000</td>\n",
       "      <td>6.000000</td>\n",
       "      <td>2008.000000</td>\n",
       "      <td>163000.000000</td>\n",
       "    </tr>\n",
       "    <tr>\n",
       "      <th>75%</th>\n",
       "      <td>1095.250000</td>\n",
       "      <td>70.000000</td>\n",
       "      <td>80.000000</td>\n",
       "      <td>11601.500000</td>\n",
       "      <td>7.000000</td>\n",
       "      <td>6.000000</td>\n",
       "      <td>2000.000000</td>\n",
       "      <td>2004.000000</td>\n",
       "      <td>166.000000</td>\n",
       "      <td>712.250000</td>\n",
       "      <td>...</td>\n",
       "      <td>168.000000</td>\n",
       "      <td>68.000000</td>\n",
       "      <td>0.000000</td>\n",
       "      <td>0.000000</td>\n",
       "      <td>0.000000</td>\n",
       "      <td>0.000000</td>\n",
       "      <td>0.000000</td>\n",
       "      <td>8.000000</td>\n",
       "      <td>2009.000000</td>\n",
       "      <td>214000.000000</td>\n",
       "    </tr>\n",
       "    <tr>\n",
       "      <th>max</th>\n",
       "      <td>1460.000000</td>\n",
       "      <td>190.000000</td>\n",
       "      <td>313.000000</td>\n",
       "      <td>215245.000000</td>\n",
       "      <td>10.000000</td>\n",
       "      <td>9.000000</td>\n",
       "      <td>2010.000000</td>\n",
       "      <td>2010.000000</td>\n",
       "      <td>1600.000000</td>\n",
       "      <td>5644.000000</td>\n",
       "      <td>...</td>\n",
       "      <td>857.000000</td>\n",
       "      <td>547.000000</td>\n",
       "      <td>552.000000</td>\n",
       "      <td>508.000000</td>\n",
       "      <td>480.000000</td>\n",
       "      <td>738.000000</td>\n",
       "      <td>15500.000000</td>\n",
       "      <td>12.000000</td>\n",
       "      <td>2010.000000</td>\n",
       "      <td>755000.000000</td>\n",
       "    </tr>\n",
       "  </tbody>\n",
       "</table>\n",
       "<p>8 rows × 38 columns</p>\n",
       "</div>"
      ],
      "text/plain": [
       "                Id   MSSubClass  LotFrontage        LotArea  OverallQual  \\\n",
       "count  1460.000000  1460.000000  1201.000000    1460.000000  1460.000000   \n",
       "mean    730.500000    56.897260    70.049958   10516.828082     6.099315   \n",
       "std     421.610009    42.300571    24.284752    9981.264932     1.382997   \n",
       "min       1.000000    20.000000    21.000000    1300.000000     1.000000   \n",
       "25%     365.750000    20.000000    59.000000    7553.500000     5.000000   \n",
       "50%     730.500000    50.000000    69.000000    9478.500000     6.000000   \n",
       "75%    1095.250000    70.000000    80.000000   11601.500000     7.000000   \n",
       "max    1460.000000   190.000000   313.000000  215245.000000    10.000000   \n",
       "\n",
       "       OverallCond    YearBuilt  YearRemodAdd   MasVnrArea   BsmtFinSF1  ...  \\\n",
       "count  1460.000000  1460.000000   1460.000000  1452.000000  1460.000000  ...   \n",
       "mean      5.575342  1971.267808   1984.865753   103.685262   443.639726  ...   \n",
       "std       1.112799    30.202904     20.645407   181.066207   456.098091  ...   \n",
       "min       1.000000  1872.000000   1950.000000     0.000000     0.000000  ...   \n",
       "25%       5.000000  1954.000000   1967.000000     0.000000     0.000000  ...   \n",
       "50%       5.000000  1973.000000   1994.000000     0.000000   383.500000  ...   \n",
       "75%       6.000000  2000.000000   2004.000000   166.000000   712.250000  ...   \n",
       "max       9.000000  2010.000000   2010.000000  1600.000000  5644.000000  ...   \n",
       "\n",
       "        WoodDeckSF  OpenPorchSF  EnclosedPorch    3SsnPorch  ScreenPorch  \\\n",
       "count  1460.000000  1460.000000    1460.000000  1460.000000  1460.000000   \n",
       "mean     94.244521    46.660274      21.954110     3.409589    15.060959   \n",
       "std     125.338794    66.256028      61.119149    29.317331    55.757415   \n",
       "min       0.000000     0.000000       0.000000     0.000000     0.000000   \n",
       "25%       0.000000     0.000000       0.000000     0.000000     0.000000   \n",
       "50%       0.000000    25.000000       0.000000     0.000000     0.000000   \n",
       "75%     168.000000    68.000000       0.000000     0.000000     0.000000   \n",
       "max     857.000000   547.000000     552.000000   508.000000   480.000000   \n",
       "\n",
       "          PoolArea       MiscVal       MoSold       YrSold      SalePrice  \n",
       "count  1460.000000   1460.000000  1460.000000  1460.000000    1460.000000  \n",
       "mean      2.758904     43.489041     6.321918  2007.815753  180921.195890  \n",
       "std      40.177307    496.123024     2.703626     1.328095   79442.502883  \n",
       "min       0.000000      0.000000     1.000000  2006.000000   34900.000000  \n",
       "25%       0.000000      0.000000     5.000000  2007.000000  129975.000000  \n",
       "50%       0.000000      0.000000     6.000000  2008.000000  163000.000000  \n",
       "75%       0.000000      0.000000     8.000000  2009.000000  214000.000000  \n",
       "max     738.000000  15500.000000    12.000000  2010.000000  755000.000000  \n",
       "\n",
       "[8 rows x 38 columns]"
      ]
     },
     "execution_count": 6,
     "metadata": {},
     "output_type": "execute_result"
    }
   ],
   "source": [
    "df_train.describe()"
   ]
  },
  {
   "cell_type": "code",
   "execution_count": 7,
   "id": "504efbb9",
   "metadata": {
    "execution": {
     "iopub.execute_input": "2022-03-11T12:05:08.351246Z",
     "iopub.status.busy": "2022-03-11T12:05:08.350197Z",
     "iopub.status.idle": "2022-03-11T12:05:08.686076Z",
     "shell.execute_reply": "2022-03-11T12:05:08.685583Z",
     "shell.execute_reply.started": "2022-03-10T15:44:00.521371Z"
    },
    "papermill": {
     "duration": 0.448827,
     "end_time": "2022-03-11T12:05:08.686221",
     "exception": false,
     "start_time": "2022-03-11T12:05:08.237394",
     "status": "completed"
    },
    "tags": []
   },
   "outputs": [
    {
     "data": {
      "text/plain": [
       "<AxesSubplot:>"
      ]
     },
     "execution_count": 7,
     "metadata": {},
     "output_type": "execute_result"
    },
    {
     "data": {
      "image/png": "[encoded data removed]",
      "text/plain": [
       "<Figure size 432x288 with 1 Axes>"
      ]
     },
     "metadata": {
      "needs_background": "light"
     },
     "output_type": "display_data"
    }
   ],
   "source": [
    "missing = df_train.isnull().sum()\n",
    "missing = missing[missing > 0]\n",
    "missing.sort_values(inplace=True)\n",
    "missing.plot.bar()"
   ]
  },
  {
   "cell_type": "code",
   "execution_count": 8,
   "id": "ee2198cf",
   "metadata": {
    "execution": {
     "iopub.execute_input": "2022-03-11T12:05:08.913690Z",
     "iopub.status.busy": "2022-03-11T12:05:08.912769Z",
     "iopub.status.idle": "2022-03-11T12:05:08.920079Z",
     "shell.execute_reply": "2022-03-11T12:05:08.920599Z",
     "shell.execute_reply.started": "2022-03-10T15:44:00.841218Z"
    },
    "papermill": {
     "duration": 0.124763,
     "end_time": "2022-03-11T12:05:08.920790",
     "exception": false,
     "start_time": "2022-03-11T12:05:08.796027",
     "status": "completed"
    },
    "tags": []
   },
   "outputs": [
    {
     "data": {
      "text/plain": [
       "0       65.0\n",
       "1       80.0\n",
       "2       68.0\n",
       "3       60.0\n",
       "4       84.0\n",
       "        ... \n",
       "1455    62.0\n",
       "1456    85.0\n",
       "1457    66.0\n",
       "1458    68.0\n",
       "1459    75.0\n",
       "Name: LotFrontage, Length: 1460, dtype: float64"
      ]
     },
     "execution_count": 8,
     "metadata": {},
     "output_type": "execute_result"
    }
   ],
   "source": [
    "df_train.LotFrontage"
   ]
  },
  {
   "cell_type": "code",
   "execution_count": 9,
   "id": "afa1331e",
   "metadata": {
    "execution": {
     "iopub.execute_input": "2022-03-11T12:05:09.149539Z",
     "iopub.status.busy": "2022-03-11T12:05:09.148617Z",
     "iopub.status.idle": "2022-03-11T12:05:09.464011Z",
     "shell.execute_reply": "2022-03-11T12:05:09.463550Z",
     "shell.execute_reply.started": "2022-03-10T15:44:00.851454Z"
    },
    "papermill": {
     "duration": 0.429775,
     "end_time": "2022-03-11T12:05:09.464147",
     "exception": false,
     "start_time": "2022-03-11T12:05:09.034372",
     "status": "completed"
    },
    "tags": []
   },
   "outputs": [
    {
     "name": "stderr",
     "output_type": "stream",
     "text": [
      "/opt/conda/lib/python3.7/site-packages/seaborn/distributions.py:2619: FutureWarning: `distplot` is a deprecated function and will be removed in a future version. Please adapt your code to use either `displot` (a figure-level function with similar flexibility) or `histplot` (an axes-level function for histograms).\n",
      "  warnings.warn(msg, FutureWarning)\n"
     ]
    },
    {
     "data": {
      "image/png": "[encoded data removed]",
      "text/plain": [
       "<Figure size 432x288 with 1 Axes>"
      ]
     },
     "metadata": {
      "needs_background": "light"
     },
     "output_type": "display_data"
    }
   ],
   "source": [
    "ax = sns.distplot(df_train['LotFrontage'])"
   ]
  },
  {
   "cell_type": "code",
   "execution_count": 10,
   "id": "df9787c8",
   "metadata": {
    "execution": {
     "iopub.execute_input": "2022-03-11T12:05:09.691197Z",
     "iopub.status.busy": "2022-03-11T12:05:09.690243Z",
     "iopub.status.idle": "2022-03-11T12:05:09.845353Z",
     "shell.execute_reply": "2022-03-11T12:05:09.845771Z",
     "shell.execute_reply.started": "2022-03-10T15:44:01.182675Z"
    },
    "papermill": {
     "duration": 0.270626,
     "end_time": "2022-03-11T12:05:09.845938",
     "exception": false,
     "start_time": "2022-03-11T12:05:09.575312",
     "status": "completed"
    },
    "tags": []
   },
   "outputs": [
    {
     "data": {
      "image/png": "[encoded data removed]",
      "text/plain": [
       "<Figure size 432x288 with 1 Axes>"
      ]
     },
     "metadata": {
      "needs_background": "light"
     },
     "output_type": "display_data"
    }
   ],
   "source": [
    "ax = sns.boxplot(x=df_train['LotFrontage'])"
   ]
  },
  {
   "cell_type": "code",
   "execution_count": 11,
   "id": "55a60a41",
   "metadata": {
    "execution": {
     "iopub.execute_input": "2022-03-11T12:05:10.075704Z",
     "iopub.status.busy": "2022-03-11T12:05:10.075131Z",
     "iopub.status.idle": "2022-03-11T12:05:10.079039Z",
     "shell.execute_reply": "2022-03-11T12:05:10.079474Z",
     "shell.execute_reply.started": "2022-03-10T15:44:01.348579Z"
    },
    "papermill": {
     "duration": 0.121613,
     "end_time": "2022-03-11T12:05:10.079653",
     "exception": false,
     "start_time": "2022-03-11T12:05:09.958040",
     "status": "completed"
    },
    "tags": []
   },
   "outputs": [],
   "source": [
    "df_train['LotFrontage'].fillna(df_train.LotFrontage.median(), inplace = True)"
   ]
  },
  {
   "cell_type": "code",
   "execution_count": 12,
   "id": "0c889753",
   "metadata": {
    "execution": {
     "iopub.execute_input": "2022-03-11T12:05:10.307894Z",
     "iopub.status.busy": "2022-03-11T12:05:10.307278Z",
     "iopub.status.idle": "2022-03-11T12:05:10.593869Z",
     "shell.execute_reply": "2022-03-11T12:05:10.594320Z",
     "shell.execute_reply.started": "2022-03-10T15:44:01.355995Z"
    },
    "papermill": {
     "duration": 0.400848,
     "end_time": "2022-03-11T12:05:10.594487",
     "exception": false,
     "start_time": "2022-03-11T12:05:10.193639",
     "status": "completed"
    },
    "tags": []
   },
   "outputs": [
    {
     "name": "stderr",
     "output_type": "stream",
     "text": [
      "/opt/conda/lib/python3.7/site-packages/seaborn/distributions.py:2619: FutureWarning: `distplot` is a deprecated function and will be removed in a future version. Please adapt your code to use either `displot` (a figure-level function with similar flexibility) or `histplot` (an axes-level function for histograms).\n",
      "  warnings.warn(msg, FutureWarning)\n"
     ]
    },
    {
     "data": {
      "image/png": "[encoded data removed]",
      "text/plain": [
       "<Figure size 432x288 with 1 Axes>"
      ]
     },
     "metadata": {
      "needs_background": "light"
     },
     "output_type": "display_data"
    }
   ],
   "source": [
    "ax = sns.distplot(df_train['LotFrontage'])"
   ]
  },
  {
   "cell_type": "code",
   "execution_count": 13,
   "id": "ca4bf7a5",
   "metadata": {
    "execution": {
     "iopub.execute_input": "2022-03-11T12:05:10.828465Z",
     "iopub.status.busy": "2022-03-11T12:05:10.827843Z",
     "iopub.status.idle": "2022-03-11T12:05:10.979019Z",
     "shell.execute_reply": "2022-03-11T12:05:10.978469Z",
     "shell.execute_reply.started": "2022-03-10T15:44:01.67672Z"
    },
    "papermill": {
     "duration": 0.272587,
     "end_time": "2022-03-11T12:05:10.979154",
     "exception": false,
     "start_time": "2022-03-11T12:05:10.706567",
     "status": "completed"
    },
    "tags": []
   },
   "outputs": [
    {
     "data": {
      "image/png": "[encoded data removed]",
      "text/plain": [
       "<Figure size 432x288 with 1 Axes>"
      ]
     },
     "metadata": {
      "needs_background": "light"
     },
     "output_type": "display_data"
    }
   ],
   "source": [
    "ax = sns.boxplot(x=df_train['LotFrontage'])"
   ]
  },
  {
   "cell_type": "code",
   "execution_count": 14,
   "id": "f894efbe",
   "metadata": {
    "execution": {
     "iopub.execute_input": "2022-03-11T12:05:11.219431Z",
     "iopub.status.busy": "2022-03-11T12:05:11.218747Z",
     "iopub.status.idle": "2022-03-11T12:05:11.226619Z",
     "shell.execute_reply": "2022-03-11T12:05:11.226144Z",
     "shell.execute_reply.started": "2022-03-10T15:44:01.848091Z"
    },
    "papermill": {
     "duration": 0.131263,
     "end_time": "2022-03-11T12:05:11.226772",
     "exception": false,
     "start_time": "2022-03-11T12:05:11.095509",
     "status": "completed"
    },
    "tags": []
   },
   "outputs": [
    {
     "data": {
      "text/plain": [
       "Id               0\n",
       "MSSubClass       0\n",
       "MSZoning         0\n",
       "LotFrontage      0\n",
       "LotArea          0\n",
       "                ..\n",
       "MoSold           0\n",
       "YrSold           0\n",
       "SaleType         0\n",
       "SaleCondition    0\n",
       "SalePrice        0\n",
       "Length: 81, dtype: int64"
      ]
     },
     "execution_count": 14,
     "metadata": {},
     "output_type": "execute_result"
    }
   ],
   "source": [
    "df_train.isnull().sum()"
   ]
  },
  {
   "cell_type": "code",
   "execution_count": 15,
   "id": "15b1f1de",
   "metadata": {
    "execution": {
     "iopub.execute_input": "2022-03-11T12:05:11.458924Z",
     "iopub.status.busy": "2022-03-11T12:05:11.457959Z",
     "iopub.status.idle": "2022-03-11T12:05:11.657319Z",
     "shell.execute_reply": "2022-03-11T12:05:11.656678Z",
     "shell.execute_reply.started": "2022-03-10T15:44:01.870016Z"
    },
    "papermill": {
     "duration": 0.316636,
     "end_time": "2022-03-11T12:05:11.657455",
     "exception": false,
     "start_time": "2022-03-11T12:05:11.340819",
     "status": "completed"
    },
    "tags": []
   },
   "outputs": [
    {
     "data": {
      "image/png": "[encoded data removed]",
      "text/plain": [
       "<Figure size 432x288 with 1 Axes>"
      ]
     },
     "metadata": {
      "needs_background": "light"
     },
     "output_type": "display_data"
    }
   ],
   "source": [
    "fig, ax = plt.subplots()\n",
    "ax.scatter(x = df_train['GrLivArea'], y = df_train['SalePrice'])\n",
    "plt.ylabel('SalePrice', fontsize=13)\n",
    "plt.xlabel('GrLivArea', fontsize=13)\n",
    "plt.show()"
   ]
  },
  {
   "cell_type": "code",
   "execution_count": 16,
   "id": "786e52d8",
   "metadata": {
    "execution": {
     "iopub.execute_input": "2022-03-11T12:05:11.893813Z",
     "iopub.status.busy": "2022-03-11T12:05:11.893164Z",
     "iopub.status.idle": "2022-03-11T12:05:12.195226Z",
     "shell.execute_reply": "2022-03-11T12:05:12.194602Z",
     "shell.execute_reply.started": "2022-03-10T15:44:02.091048Z"
    },
    "papermill": {
     "duration": 0.419062,
     "end_time": "2022-03-11T12:05:12.195363",
     "exception": false,
     "start_time": "2022-03-11T12:05:11.776301",
     "status": "completed"
    },
    "tags": []
   },
   "outputs": [
    {
     "name": "stderr",
     "output_type": "stream",
     "text": [
      "/opt/conda/lib/python3.7/site-packages/seaborn/distributions.py:2619: FutureWarning: `distplot` is a deprecated function and will be removed in a future version. Please adapt your code to use either `displot` (a figure-level function with similar flexibility) or `histplot` (an axes-level function for histograms).\n",
      "  warnings.warn(msg, FutureWarning)\n"
     ]
    },
    {
     "data": {
      "image/png": "[encoded data removed]",
      "text/plain": [
       "<Figure size 432x288 with 1 Axes>"
      ]
     },
     "metadata": {
      "needs_background": "light"
     },
     "output_type": "display_data"
    }
   ],
   "source": [
    "ax = sns.distplot(df_train['SalePrice'])"
   ]
  },
  {
   "cell_type": "code",
   "execution_count": 17,
   "id": "c1e099c7",
   "metadata": {
    "execution": {
     "iopub.execute_input": "2022-03-11T12:05:12.429910Z",
     "iopub.status.busy": "2022-03-11T12:05:12.429261Z",
     "iopub.status.idle": "2022-03-11T12:05:12.602129Z",
     "shell.execute_reply": "2022-03-11T12:05:12.601568Z",
     "shell.execute_reply.started": "2022-03-10T15:44:02.367625Z"
    },
    "papermill": {
     "duration": 0.290678,
     "end_time": "2022-03-11T12:05:12.602276",
     "exception": false,
     "start_time": "2022-03-11T12:05:12.311598",
     "status": "completed"
    },
    "tags": []
   },
   "outputs": [
    {
     "data": {
      "image/png": "[encoded data removed]",
      "text/plain": [
       "<Figure size 432x288 with 1 Axes>"
      ]
     },
     "metadata": {
      "needs_background": "light"
     },
     "output_type": "display_data"
    }
   ],
   "source": [
    "ax = sns.boxplot(x=df_train['SalePrice'])"
   ]
  },
  {
   "cell_type": "code",
   "execution_count": 18,
   "id": "3e709f23",
   "metadata": {
    "execution": {
     "iopub.execute_input": "2022-03-11T12:05:12.839860Z",
     "iopub.status.busy": "2022-03-11T12:05:12.839219Z",
     "iopub.status.idle": "2022-03-11T12:05:12.845836Z",
     "shell.execute_reply": "2022-03-11T12:05:12.846324Z",
     "shell.execute_reply.started": "2022-03-10T15:44:02.496619Z"
    },
    "papermill": {
     "duration": 0.126405,
     "end_time": "2022-03-11T12:05:12.846508",
     "exception": false,
     "start_time": "2022-03-11T12:05:12.720103",
     "status": "completed"
    },
    "tags": []
   },
   "outputs": [],
   "source": [
    "df_train = df_train.drop(df_train[(df_train['GrLivArea']>4000) & (df_train['SalePrice']<300000)].index)"
   ]
  },
  {
   "cell_type": "code",
   "execution_count": 19,
   "id": "ab082509",
   "metadata": {
    "execution": {
     "iopub.execute_input": "2022-03-11T12:05:13.084634Z",
     "iopub.status.busy": "2022-03-11T12:05:13.083982Z",
     "iopub.status.idle": "2022-03-11T12:05:13.386800Z",
     "shell.execute_reply": "2022-03-11T12:05:13.386145Z",
     "shell.execute_reply.started": "2022-03-10T15:44:02.51079Z"
    },
    "papermill": {
     "duration": 0.424961,
     "end_time": "2022-03-11T12:05:13.386971",
     "exception": false,
     "start_time": "2022-03-11T12:05:12.962010",
     "status": "completed"
    },
    "tags": []
   },
   "outputs": [
    {
     "data": {
      "image/png": "[encoded data removed]",
      "text/plain": [
       "<Figure size 432x288 with 1 Axes>"
      ]
     },
     "metadata": {
      "needs_background": "light"
     },
     "output_type": "display_data"
    }
   ],
   "source": [
    "fig, ax = plt.subplots()\n",
    "ax.scatter(df_train['GrLivArea'], df_train['SalePrice'])\n",
    "plt.ylabel('SalePrice', fontsize=13)\n",
    "plt.xlabel('GrLivArea', fontsize=13)\n",
    "plt.show()"
   ]
  },
  {
   "cell_type": "code",
   "execution_count": 20,
   "id": "9b07c393",
   "metadata": {
    "execution": {
     "iopub.execute_input": "2022-03-11T12:05:13.630225Z",
     "iopub.status.busy": "2022-03-11T12:05:13.629545Z",
     "iopub.status.idle": "2022-03-11T12:05:13.794371Z",
     "shell.execute_reply": "2022-03-11T12:05:13.793780Z",
     "shell.execute_reply.started": "2022-03-10T15:44:02.716897Z"
    },
    "papermill": {
     "duration": 0.286812,
     "end_time": "2022-03-11T12:05:13.794510",
     "exception": false,
     "start_time": "2022-03-11T12:05:13.507698",
     "status": "completed"
    },
    "tags": []
   },
   "outputs": [
    {
     "data": {
      "image/png": "[encoded data removed]",
      "text/plain": [
       "<Figure size 432x288 with 1 Axes>"
      ]
     },
     "metadata": {
      "needs_background": "light"
     },
     "output_type": "display_data"
    }
   ],
   "source": [
    "ax = sns.boxplot(x=df_train['SalePrice'])"
   ]
  },
  {
   "cell_type": "code",
   "execution_count": 21,
   "id": "41e515e5",
   "metadata": {
    "execution": {
     "iopub.execute_input": "2022-03-11T12:05:14.038075Z",
     "iopub.status.busy": "2022-03-11T12:05:14.037354Z",
     "iopub.status.idle": "2022-03-11T12:05:14.334306Z",
     "shell.execute_reply": "2022-03-11T12:05:14.333495Z",
     "shell.execute_reply.started": "2022-03-10T15:44:02.901018Z"
    },
    "papermill": {
     "duration": 0.419927,
     "end_time": "2022-03-11T12:05:14.334449",
     "exception": false,
     "start_time": "2022-03-11T12:05:13.914522",
     "status": "completed"
    },
    "tags": []
   },
   "outputs": [
    {
     "name": "stderr",
     "output_type": "stream",
     "text": [
      "/opt/conda/lib/python3.7/site-packages/seaborn/distributions.py:2619: FutureWarning: `distplot` is a deprecated function and will be removed in a future version. Please adapt your code to use either `displot` (a figure-level function with similar flexibility) or `histplot` (an axes-level function for histograms).\n",
      "  warnings.warn(msg, FutureWarning)\n"
     ]
    },
    {
     "data": {
      "image/png": "[encoded data removed]",
      "text/plain": [
       "<Figure size 432x288 with 1 Axes>"
      ]
     },
     "metadata": {
      "needs_background": "light"
     },
     "output_type": "display_data"
    }
   ],
   "source": [
    "ax = sns.distplot(df_train['SalePrice'])"
   ]
  },
  {
   "cell_type": "code",
   "execution_count": 22,
   "id": "8b6c7fed",
   "metadata": {
    "execution": {
     "iopub.execute_input": "2022-03-11T12:05:14.574759Z",
     "iopub.status.busy": "2022-03-11T12:05:14.574171Z",
     "iopub.status.idle": "2022-03-11T12:05:14.578278Z",
     "shell.execute_reply": "2022-03-11T12:05:14.578801Z",
     "shell.execute_reply.started": "2022-03-10T15:44:03.231185Z"
    },
    "papermill": {
     "duration": 0.125551,
     "end_time": "2022-03-11T12:05:14.578971",
     "exception": false,
     "start_time": "2022-03-11T12:05:14.453420",
     "status": "completed"
    },
    "tags": []
   },
   "outputs": [],
   "source": [
    "df_train[\"SalePrice\"] = np.log1p(df_train[\"SalePrice\"])"
   ]
  },
  {
   "cell_type": "code",
   "execution_count": 23,
   "id": "e26c5dfe",
   "metadata": {
    "execution": {
     "iopub.execute_input": "2022-03-11T12:05:14.820865Z",
     "iopub.status.busy": "2022-03-11T12:05:14.820243Z",
     "iopub.status.idle": "2022-03-11T12:05:15.114436Z",
     "shell.execute_reply": "2022-03-11T12:05:15.113840Z",
     "shell.execute_reply.started": "2022-03-10T15:44:03.237759Z"
    },
    "papermill": {
     "duration": 0.415857,
     "end_time": "2022-03-11T12:05:15.114586",
     "exception": false,
     "start_time": "2022-03-11T12:05:14.698729",
     "status": "completed"
    },
    "tags": []
   },
   "outputs": [
    {
     "name": "stderr",
     "output_type": "stream",
     "text": [
      "/opt/conda/lib/python3.7/site-packages/seaborn/distributions.py:2619: FutureWarning: `distplot` is a deprecated function and will be removed in a future version. Please adapt your code to use either `displot` (a figure-level function with similar flexibility) or `histplot` (an axes-level function for histograms).\n",
      "  warnings.warn(msg, FutureWarning)\n"
     ]
    },
    {
     "data": {
      "image/png": "[encoded data removed]",
      "text/plain": [
       "<Figure size 432x288 with 1 Axes>"
      ]
     },
     "metadata": {
      "needs_background": "light"
     },
     "output_type": "display_data"
    }
   ],
   "source": [
    "ax = sns.distplot(df_train['SalePrice'])"
   ]
  },
  {
   "cell_type": "code",
   "execution_count": 24,
   "id": "27f36910",
   "metadata": {
    "execution": {
     "iopub.execute_input": "2022-03-11T12:05:15.370258Z",
     "iopub.status.busy": "2022-03-11T12:05:15.369549Z",
     "iopub.status.idle": "2022-03-11T12:05:15.372485Z",
     "shell.execute_reply": "2022-03-11T12:05:15.373031Z",
     "shell.execute_reply.started": "2022-03-10T15:44:03.548354Z"
    },
    "papermill": {
     "duration": 0.132132,
     "end_time": "2022-03-11T12:05:15.373200",
     "exception": false,
     "start_time": "2022-03-11T12:05:15.241068",
     "status": "completed"
    },
    "tags": []
   },
   "outputs": [
    {
     "data": {
      "text/plain": [
       "(1458, 81)"
      ]
     },
     "metadata": {},
     "output_type": "display_data"
    }
   ],
   "source": [
    "ntrain = df_train.shape\n",
    "display (ntrain)"
   ]
  },
  {
   "cell_type": "code",
   "execution_count": 25,
   "id": "70216949",
   "metadata": {
    "execution": {
     "iopub.execute_input": "2022-03-11T12:05:15.630450Z",
     "iopub.status.busy": "2022-03-11T12:05:15.629855Z",
     "iopub.status.idle": "2022-03-11T12:05:15.646327Z",
     "shell.execute_reply": "2022-03-11T12:05:15.646805Z",
     "shell.execute_reply.started": "2022-03-10T15:44:03.556748Z"
    },
    "papermill": {
     "duration": 0.147497,
     "end_time": "2022-03-11T12:05:15.647073",
     "exception": false,
     "start_time": "2022-03-11T12:05:15.499576",
     "status": "completed"
    },
    "tags": []
   },
   "outputs": [
    {
     "data": {
      "text/html": [
       "<div>\n",
       "<style scoped>\n",
       "    .dataframe tbody tr th:only-of-type {\n",
       "        vertical-align: middle;\n",
       "    }\n",
       "\n",
       "    .dataframe tbody tr th {\n",
       "        vertical-align: top;\n",
       "    }\n",
       "\n",
       "    .dataframe thead th {\n",
       "        text-align: right;\n",
       "    }\n",
       "</style>\n",
       "<table border=\"1\" class=\"dataframe\">\n",
       "  <thead>\n",
       "    <tr style=\"text-align: right;\">\n",
       "      <th></th>\n",
       "      <th>Missing Ratio</th>\n",
       "    </tr>\n",
       "  </thead>\n",
       "  <tbody>\n",
       "    <tr>\n",
       "      <th>PoolQC</th>\n",
       "      <td>99.588477</td>\n",
       "    </tr>\n",
       "    <tr>\n",
       "      <th>MiscFeature</th>\n",
       "      <td>96.296296</td>\n",
       "    </tr>\n",
       "    <tr>\n",
       "      <th>Alley</th>\n",
       "      <td>93.758573</td>\n",
       "    </tr>\n",
       "    <tr>\n",
       "      <th>Fence</th>\n",
       "      <td>80.727023</td>\n",
       "    </tr>\n",
       "    <tr>\n",
       "      <th>FireplaceQu</th>\n",
       "      <td>47.325103</td>\n",
       "    </tr>\n",
       "    <tr>\n",
       "      <th>GarageType</th>\n",
       "      <td>5.555556</td>\n",
       "    </tr>\n",
       "    <tr>\n",
       "      <th>GarageYrBlt</th>\n",
       "      <td>5.555556</td>\n",
       "    </tr>\n",
       "    <tr>\n",
       "      <th>GarageFinish</th>\n",
       "      <td>5.555556</td>\n",
       "    </tr>\n",
       "    <tr>\n",
       "      <th>GarageQual</th>\n",
       "      <td>5.555556</td>\n",
       "    </tr>\n",
       "    <tr>\n",
       "      <th>GarageCond</th>\n",
       "      <td>5.555556</td>\n",
       "    </tr>\n",
       "    <tr>\n",
       "      <th>BsmtExposure</th>\n",
       "      <td>2.606310</td>\n",
       "    </tr>\n",
       "    <tr>\n",
       "      <th>BsmtFinType2</th>\n",
       "      <td>2.606310</td>\n",
       "    </tr>\n",
       "    <tr>\n",
       "      <th>BsmtQual</th>\n",
       "      <td>2.537723</td>\n",
       "    </tr>\n",
       "    <tr>\n",
       "      <th>BsmtCond</th>\n",
       "      <td>2.537723</td>\n",
       "    </tr>\n",
       "    <tr>\n",
       "      <th>BsmtFinType1</th>\n",
       "      <td>2.537723</td>\n",
       "    </tr>\n",
       "    <tr>\n",
       "      <th>MasVnrType</th>\n",
       "      <td>0.548697</td>\n",
       "    </tr>\n",
       "    <tr>\n",
       "      <th>MasVnrArea</th>\n",
       "      <td>0.548697</td>\n",
       "    </tr>\n",
       "    <tr>\n",
       "      <th>Electrical</th>\n",
       "      <td>0.068587</td>\n",
       "    </tr>\n",
       "  </tbody>\n",
       "</table>\n",
       "</div>"
      ],
      "text/plain": [
       "              Missing Ratio\n",
       "PoolQC            99.588477\n",
       "MiscFeature       96.296296\n",
       "Alley             93.758573\n",
       "Fence             80.727023\n",
       "FireplaceQu       47.325103\n",
       "GarageType         5.555556\n",
       "GarageYrBlt        5.555556\n",
       "GarageFinish       5.555556\n",
       "GarageQual         5.555556\n",
       "GarageCond         5.555556\n",
       "BsmtExposure       2.606310\n",
       "BsmtFinType2       2.606310\n",
       "BsmtQual           2.537723\n",
       "BsmtCond           2.537723\n",
       "BsmtFinType1       2.537723\n",
       "MasVnrType         0.548697\n",
       "MasVnrArea         0.548697\n",
       "Electrical         0.068587"
      ]
     },
     "execution_count": 25,
     "metadata": {},
     "output_type": "execute_result"
    }
   ],
   "source": [
    "df_train_nu = (df_train.isnull().sum() / len(df_train)) * 100\n",
    "df_train_nu = df_train_nu.drop(df_train_nu[df_train_nu == 0].index).sort_values(ascending=False)[:30]\n",
    "missing_data = pd.DataFrame({'Missing Ratio' :df_train_nu})\n",
    "missing_data.head(100)"
   ]
  },
  {
   "cell_type": "code",
   "execution_count": 26,
   "id": "2d700e23",
   "metadata": {
    "execution": {
     "iopub.execute_input": "2022-03-11T12:05:15.897847Z",
     "iopub.status.busy": "2022-03-11T12:05:15.897202Z",
     "iopub.status.idle": "2022-03-11T12:05:16.257106Z",
     "shell.execute_reply": "2022-03-11T12:05:16.256465Z",
     "shell.execute_reply.started": "2022-03-10T15:44:03.5841Z"
    },
    "papermill": {
     "duration": 0.486461,
     "end_time": "2022-03-11T12:05:16.257247",
     "exception": false,
     "start_time": "2022-03-11T12:05:15.770786",
     "status": "completed"
    },
    "tags": []
   },
   "outputs": [
    {
     "data": {
      "text/plain": [
       "Text(0.5, 1.0, 'Percent missing data by feature')"
      ]
     },
     "execution_count": 26,
     "metadata": {},
     "output_type": "execute_result"
    },
    {
     "data": {
      "image/png": "[encoded data removed]",
      "text/plain": [
       "<Figure size 1080x864 with 1 Axes>"
      ]
     },
     "metadata": {
      "needs_background": "light"
     },
     "output_type": "display_data"
    }
   ],
   "source": [
    "f, ax = plt.subplots(figsize=(15, 12))\n",
    "plt.xticks(rotation='90')\n",
    "sns.barplot(x=df_train_nu.index, y=df_train_nu)\n",
    "plt.xlabel('Features', fontsize=15)\n",
    "plt.ylabel('Percent of missing values', fontsize=15)\n",
    "plt.title('Percent missing data by feature', fontsize=15)"
   ]
  },
  {
   "cell_type": "code",
   "execution_count": 27,
   "id": "767e8b7b",
   "metadata": {
    "execution": {
     "iopub.execute_input": "2022-03-11T12:05:16.522841Z",
     "iopub.status.busy": "2022-03-11T12:05:16.522108Z",
     "iopub.status.idle": "2022-03-11T12:05:16.525857Z",
     "shell.execute_reply": "2022-03-11T12:05:16.525298Z",
     "shell.execute_reply.started": "2022-03-10T15:44:03.96826Z"
    },
    "papermill": {
     "duration": 0.145162,
     "end_time": "2022-03-11T12:05:16.526069",
     "exception": false,
     "start_time": "2022-03-11T12:05:16.380907",
     "status": "completed"
    },
    "tags": []
   },
   "outputs": [
    {
     "name": "stdout",
     "output_type": "stream",
     "text": [
      "<class 'pandas.core.frame.DataFrame'>\n",
      "Int64Index: 1458 entries, 0 to 1459\n",
      "Data columns (total 81 columns):\n",
      " #   Column         Non-Null Count  Dtype  \n",
      "---  ------         --------------  -----  \n",
      " 0   Id             1458 non-null   int64  \n",
      " 1   MSSubClass     1458 non-null   int64  \n",
      " 2   MSZoning       1458 non-null   object \n",
      " 3   LotFrontage    1458 non-null   float64\n",
      " 4   LotArea        1458 non-null   int64  \n",
      " 5   Street         1458 non-null   object \n",
      " 6   Alley          91 non-null     object \n",
      " 7   LotShape       1458 non-null   object \n",
      " 8   LandContour    1458 non-null   object \n",
      " 9   Utilities      1458 non-null   object \n",
      " 10  LotConfig      1458 non-null   object \n",
      " 11  LandSlope      1458 non-null   object \n",
      " 12  Neighborhood   1458 non-null   object \n",
      " 13  Condition1     1458 non-null   object \n",
      " 14  Condition2     1458 non-null   object \n",
      " 15  BldgType       1458 non-null   object \n",
      " 16  HouseStyle     1458 non-null   object \n",
      " 17  OverallQual    1458 non-null   int64  \n",
      " 18  OverallCond    1458 non-null   int64  \n",
      " 19  YearBuilt      1458 non-null   int64  \n",
      " 20  YearRemodAdd   1458 non-null   int64  \n",
      " 21  RoofStyle      1458 non-null   object \n",
      " 22  RoofMatl       1458 non-null   object \n",
      " 23  Exterior1st    1458 non-null   object \n",
      " 24  Exterior2nd    1458 non-null   object \n",
      " 25  MasVnrType     1450 non-null   object \n",
      " 26  MasVnrArea     1450 non-null   float64\n",
      " 27  ExterQual      1458 non-null   object \n",
      " 28  ExterCond      1458 non-null   object \n",
      " 29  Foundation     1458 non-null   object \n",
      " 30  BsmtQual       1421 non-null   object \n",
      " 31  BsmtCond       1421 non-null   object \n",
      " 32  BsmtExposure   1420 non-null   object \n",
      " 33  BsmtFinType1   1421 non-null   object \n",
      " 34  BsmtFinSF1     1458 non-null   int64  \n",
      " 35  BsmtFinType2   1420 non-null   object \n",
      " 36  BsmtFinSF2     1458 non-null   int64  \n",
      " 37  BsmtUnfSF      1458 non-null   int64  \n",
      " 38  TotalBsmtSF    1458 non-null   int64  \n",
      " 39  Heating        1458 non-null   object \n",
      " 40  HeatingQC      1458 non-null   object \n",
      " 41  CentralAir     1458 non-null   object \n",
      " 42  Electrical     1457 non-null   object \n",
      " 43  1stFlrSF       1458 non-null   int64  \n",
      " 44  2ndFlrSF       1458 non-null   int64  \n",
      " 45  LowQualFinSF   1458 non-null   int64  \n",
      " 46  GrLivArea      1458 non-null   int64  \n",
      " 47  BsmtFullBath   1458 non-null   int64  \n",
      " 48  BsmtHalfBath   1458 non-null   int64  \n",
      " 49  FullBath       1458 non-null   int64  \n",
      " 50  HalfBath       1458 non-null   int64  \n",
      " 51  BedroomAbvGr   1458 non-null   int64  \n",
      " 52  KitchenAbvGr   1458 non-null   int64  \n",
      " 53  KitchenQual    1458 non-null   object \n",
      " 54  TotRmsAbvGrd   1458 non-null   int64  \n",
      " 55  Functional     1458 non-null   object \n",
      " 56  Fireplaces     1458 non-null   int64  \n",
      " 57  FireplaceQu    768 non-null    object \n",
      " 58  GarageType     1377 non-null   object \n",
      " 59  GarageYrBlt    1377 non-null   float64\n",
      " 60  GarageFinish   1377 non-null   object \n",
      " 61  GarageCars     1458 non-null   int64  \n",
      " 62  GarageArea     1458 non-null   int64  \n",
      " 63  GarageQual     1377 non-null   object \n",
      " 64  GarageCond     1377 non-null   object \n",
      " 65  PavedDrive     1458 non-null   object \n",
      " 66  WoodDeckSF     1458 non-null   int64  \n",
      " 67  OpenPorchSF    1458 non-null   int64  \n",
      " 68  EnclosedPorch  1458 non-null   int64  \n",
      " 69  3SsnPorch      1458 non-null   int64  \n",
      " 70  ScreenPorch    1458 non-null   int64  \n",
      " 71  PoolArea       1458 non-null   int64  \n",
      " 72  PoolQC         6 non-null      object \n",
      " 73  Fence          281 non-null    object \n",
      " 74  MiscFeature    54 non-null     object \n",
      " 75  MiscVal        1458 non-null   int64  \n",
      " 76  MoSold         1458 non-null   int64  \n",
      " 77  YrSold         1458 non-null   int64  \n",
      " 78  SaleType       1458 non-null   object \n",
      " 79  SaleCondition  1458 non-null   object \n",
      " 80  SalePrice      1458 non-null   float64\n",
      "dtypes: float64(4), int64(34), object(43)\n",
      "memory usage: 934.0+ KB\n"
     ]
    }
   ],
   "source": [
    "df_train.info()"
   ]
  },
  {
   "cell_type": "code",
   "execution_count": 28,
   "id": "c7ec4a57",
   "metadata": {
    "execution": {
     "iopub.execute_input": "2022-03-11T12:05:16.779238Z",
     "iopub.status.busy": "2022-03-11T12:05:16.778487Z",
     "iopub.status.idle": "2022-03-11T12:05:16.781843Z",
     "shell.execute_reply": "2022-03-11T12:05:16.781381Z",
     "shell.execute_reply.started": "2022-03-10T15:44:04.167032Z"
    },
    "papermill": {
     "duration": 0.13249,
     "end_time": "2022-03-11T12:05:16.781985",
     "exception": false,
     "start_time": "2022-03-11T12:05:16.649495",
     "status": "completed"
    },
    "tags": []
   },
   "outputs": [
    {
     "data": {
      "text/plain": [
       "1452"
      ]
     },
     "execution_count": 28,
     "metadata": {},
     "output_type": "execute_result"
    }
   ],
   "source": [
    "df_train.PoolQC.isnull().sum()"
   ]
  },
  {
   "cell_type": "code",
   "execution_count": 29,
   "id": "3c6e961f",
   "metadata": {
    "execution": {
     "iopub.execute_input": "2022-03-11T12:05:17.034725Z",
     "iopub.status.busy": "2022-03-11T12:05:17.034061Z",
     "iopub.status.idle": "2022-03-11T12:05:17.037364Z",
     "shell.execute_reply": "2022-03-11T12:05:17.036816Z",
     "shell.execute_reply.started": "2022-03-10T15:44:04.175175Z"
    },
    "papermill": {
     "duration": 0.131974,
     "end_time": "2022-03-11T12:05:17.037503",
     "exception": false,
     "start_time": "2022-03-11T12:05:16.905529",
     "status": "completed"
    },
    "tags": []
   },
   "outputs": [
    {
     "data": {
      "text/plain": [
       "1404"
      ]
     },
     "execution_count": 29,
     "metadata": {},
     "output_type": "execute_result"
    }
   ],
   "source": [
    "df_train['MiscFeature'].isnull().sum()"
   ]
  },
  {
   "cell_type": "code",
   "execution_count": 30,
   "id": "86c43f57",
   "metadata": {
    "execution": {
     "iopub.execute_input": "2022-03-11T12:05:17.323975Z",
     "iopub.status.busy": "2022-03-11T12:05:17.323307Z",
     "iopub.status.idle": "2022-03-11T12:05:17.326237Z",
     "shell.execute_reply": "2022-03-11T12:05:17.325766Z",
     "shell.execute_reply.started": "2022-03-10T15:44:04.191096Z"
    },
    "papermill": {
     "duration": 0.162992,
     "end_time": "2022-03-11T12:05:17.326366",
     "exception": false,
     "start_time": "2022-03-11T12:05:17.163374",
     "status": "completed"
    },
    "tags": []
   },
   "outputs": [
    {
     "data": {
      "text/plain": [
       "1367"
      ]
     },
     "execution_count": 30,
     "metadata": {},
     "output_type": "execute_result"
    }
   ],
   "source": [
    "df_train['Alley'].isnull().sum()"
   ]
  },
  {
   "cell_type": "code",
   "execution_count": 31,
   "id": "6d87cdaa",
   "metadata": {
    "execution": {
     "iopub.execute_input": "2022-03-11T12:05:17.578796Z",
     "iopub.status.busy": "2022-03-11T12:05:17.578201Z",
     "iopub.status.idle": "2022-03-11T12:05:17.583264Z",
     "shell.execute_reply": "2022-03-11T12:05:17.583835Z",
     "shell.execute_reply.started": "2022-03-10T15:44:04.207656Z"
    },
    "papermill": {
     "duration": 0.132947,
     "end_time": "2022-03-11T12:05:17.584001",
     "exception": false,
     "start_time": "2022-03-11T12:05:17.451054",
     "status": "completed"
    },
    "tags": []
   },
   "outputs": [
    {
     "data": {
      "text/plain": [
       "1177"
      ]
     },
     "execution_count": 31,
     "metadata": {},
     "output_type": "execute_result"
    }
   ],
   "source": [
    "df_train['Fence'].isnull().sum()"
   ]
  },
  {
   "cell_type": "code",
   "execution_count": 32,
   "id": "bc1647b2",
   "metadata": {
    "execution": {
     "iopub.execute_input": "2022-03-11T12:05:17.835365Z",
     "iopub.status.busy": "2022-03-11T12:05:17.834814Z",
     "iopub.status.idle": "2022-03-11T12:05:17.841345Z",
     "shell.execute_reply": "2022-03-11T12:05:17.840895Z",
     "shell.execute_reply.started": "2022-03-10T15:44:04.218777Z"
    },
    "papermill": {
     "duration": 0.133248,
     "end_time": "2022-03-11T12:05:17.841492",
     "exception": false,
     "start_time": "2022-03-11T12:05:17.708244",
     "status": "completed"
    },
    "tags": []
   },
   "outputs": [
    {
     "data": {
      "text/plain": [
       "690"
      ]
     },
     "execution_count": 32,
     "metadata": {},
     "output_type": "execute_result"
    }
   ],
   "source": [
    "df_train['FireplaceQu'].isnull().sum()"
   ]
  },
  {
   "cell_type": "code",
   "execution_count": 33,
   "id": "1a81bc3b",
   "metadata": {
    "execution": {
     "iopub.execute_input": "2022-03-11T12:05:18.098830Z",
     "iopub.status.busy": "2022-03-11T12:05:18.098183Z",
     "iopub.status.idle": "2022-03-11T12:05:18.122683Z",
     "shell.execute_reply": "2022-03-11T12:05:18.123228Z",
     "shell.execute_reply.started": "2022-03-10T15:44:04.230484Z"
    },
    "papermill": {
     "duration": 0.15582,
     "end_time": "2022-03-11T12:05:18.123392",
     "exception": false,
     "start_time": "2022-03-11T12:05:17.967572",
     "status": "completed"
    },
    "tags": []
   },
   "outputs": [
    {
     "data": {
      "text/html": [
       "<div>\n",
       "<style scoped>\n",
       "    .dataframe tbody tr th:only-of-type {\n",
       "        vertical-align: middle;\n",
       "    }\n",
       "\n",
       "    .dataframe tbody tr th {\n",
       "        vertical-align: top;\n",
       "    }\n",
       "\n",
       "    .dataframe thead th {\n",
       "        text-align: right;\n",
       "    }\n",
       "</style>\n",
       "<table border=\"1\" class=\"dataframe\">\n",
       "  <thead>\n",
       "    <tr style=\"text-align: right;\">\n",
       "      <th></th>\n",
       "      <th>Id</th>\n",
       "      <th>MSSubClass</th>\n",
       "      <th>MSZoning</th>\n",
       "      <th>LotFrontage</th>\n",
       "      <th>LotArea</th>\n",
       "      <th>Street</th>\n",
       "      <th>LotShape</th>\n",
       "      <th>LandContour</th>\n",
       "      <th>Utilities</th>\n",
       "      <th>LotConfig</th>\n",
       "      <th>...</th>\n",
       "      <th>EnclosedPorch</th>\n",
       "      <th>3SsnPorch</th>\n",
       "      <th>ScreenPorch</th>\n",
       "      <th>PoolArea</th>\n",
       "      <th>MiscVal</th>\n",
       "      <th>MoSold</th>\n",
       "      <th>YrSold</th>\n",
       "      <th>SaleType</th>\n",
       "      <th>SaleCondition</th>\n",
       "      <th>SalePrice</th>\n",
       "    </tr>\n",
       "  </thead>\n",
       "  <tbody>\n",
       "    <tr>\n",
       "      <th>0</th>\n",
       "      <td>1</td>\n",
       "      <td>60</td>\n",
       "      <td>RL</td>\n",
       "      <td>65.0</td>\n",
       "      <td>8450</td>\n",
       "      <td>Pave</td>\n",
       "      <td>Reg</td>\n",
       "      <td>Lvl</td>\n",
       "      <td>AllPub</td>\n",
       "      <td>Inside</td>\n",
       "      <td>...</td>\n",
       "      <td>0</td>\n",
       "      <td>0</td>\n",
       "      <td>0</td>\n",
       "      <td>0</td>\n",
       "      <td>0</td>\n",
       "      <td>2</td>\n",
       "      <td>2008</td>\n",
       "      <td>WD</td>\n",
       "      <td>Normal</td>\n",
       "      <td>12.247699</td>\n",
       "    </tr>\n",
       "    <tr>\n",
       "      <th>1</th>\n",
       "      <td>2</td>\n",
       "      <td>20</td>\n",
       "      <td>RL</td>\n",
       "      <td>80.0</td>\n",
       "      <td>9600</td>\n",
       "      <td>Pave</td>\n",
       "      <td>Reg</td>\n",
       "      <td>Lvl</td>\n",
       "      <td>AllPub</td>\n",
       "      <td>FR2</td>\n",
       "      <td>...</td>\n",
       "      <td>0</td>\n",
       "      <td>0</td>\n",
       "      <td>0</td>\n",
       "      <td>0</td>\n",
       "      <td>0</td>\n",
       "      <td>5</td>\n",
       "      <td>2007</td>\n",
       "      <td>WD</td>\n",
       "      <td>Normal</td>\n",
       "      <td>12.109016</td>\n",
       "    </tr>\n",
       "    <tr>\n",
       "      <th>2</th>\n",
       "      <td>3</td>\n",
       "      <td>60</td>\n",
       "      <td>RL</td>\n",
       "      <td>68.0</td>\n",
       "      <td>11250</td>\n",
       "      <td>Pave</td>\n",
       "      <td>IR1</td>\n",
       "      <td>Lvl</td>\n",
       "      <td>AllPub</td>\n",
       "      <td>Inside</td>\n",
       "      <td>...</td>\n",
       "      <td>0</td>\n",
       "      <td>0</td>\n",
       "      <td>0</td>\n",
       "      <td>0</td>\n",
       "      <td>0</td>\n",
       "      <td>9</td>\n",
       "      <td>2008</td>\n",
       "      <td>WD</td>\n",
       "      <td>Normal</td>\n",
       "      <td>12.317171</td>\n",
       "    </tr>\n",
       "    <tr>\n",
       "      <th>3</th>\n",
       "      <td>4</td>\n",
       "      <td>70</td>\n",
       "      <td>RL</td>\n",
       "      <td>60.0</td>\n",
       "      <td>9550</td>\n",
       "      <td>Pave</td>\n",
       "      <td>IR1</td>\n",
       "      <td>Lvl</td>\n",
       "      <td>AllPub</td>\n",
       "      <td>Corner</td>\n",
       "      <td>...</td>\n",
       "      <td>272</td>\n",
       "      <td>0</td>\n",
       "      <td>0</td>\n",
       "      <td>0</td>\n",
       "      <td>0</td>\n",
       "      <td>2</td>\n",
       "      <td>2006</td>\n",
       "      <td>WD</td>\n",
       "      <td>Abnorml</td>\n",
       "      <td>11.849405</td>\n",
       "    </tr>\n",
       "    <tr>\n",
       "      <th>4</th>\n",
       "      <td>5</td>\n",
       "      <td>60</td>\n",
       "      <td>RL</td>\n",
       "      <td>84.0</td>\n",
       "      <td>14260</td>\n",
       "      <td>Pave</td>\n",
       "      <td>IR1</td>\n",
       "      <td>Lvl</td>\n",
       "      <td>AllPub</td>\n",
       "      <td>FR2</td>\n",
       "      <td>...</td>\n",
       "      <td>0</td>\n",
       "      <td>0</td>\n",
       "      <td>0</td>\n",
       "      <td>0</td>\n",
       "      <td>0</td>\n",
       "      <td>12</td>\n",
       "      <td>2008</td>\n",
       "      <td>WD</td>\n",
       "      <td>Normal</td>\n",
       "      <td>12.429220</td>\n",
       "    </tr>\n",
       "    <tr>\n",
       "      <th>...</th>\n",
       "      <td>...</td>\n",
       "      <td>...</td>\n",
       "      <td>...</td>\n",
       "      <td>...</td>\n",
       "      <td>...</td>\n",
       "      <td>...</td>\n",
       "      <td>...</td>\n",
       "      <td>...</td>\n",
       "      <td>...</td>\n",
       "      <td>...</td>\n",
       "      <td>...</td>\n",
       "      <td>...</td>\n",
       "      <td>...</td>\n",
       "      <td>...</td>\n",
       "      <td>...</td>\n",
       "      <td>...</td>\n",
       "      <td>...</td>\n",
       "      <td>...</td>\n",
       "      <td>...</td>\n",
       "      <td>...</td>\n",
       "      <td>...</td>\n",
       "    </tr>\n",
       "    <tr>\n",
       "      <th>1455</th>\n",
       "      <td>1456</td>\n",
       "      <td>60</td>\n",
       "      <td>RL</td>\n",
       "      <td>62.0</td>\n",
       "      <td>7917</td>\n",
       "      <td>Pave</td>\n",
       "      <td>Reg</td>\n",
       "      <td>Lvl</td>\n",
       "      <td>AllPub</td>\n",
       "      <td>Inside</td>\n",
       "      <td>...</td>\n",
       "      <td>0</td>\n",
       "      <td>0</td>\n",
       "      <td>0</td>\n",
       "      <td>0</td>\n",
       "      <td>0</td>\n",
       "      <td>8</td>\n",
       "      <td>2007</td>\n",
       "      <td>WD</td>\n",
       "      <td>Normal</td>\n",
       "      <td>12.072547</td>\n",
       "    </tr>\n",
       "    <tr>\n",
       "      <th>1456</th>\n",
       "      <td>1457</td>\n",
       "      <td>20</td>\n",
       "      <td>RL</td>\n",
       "      <td>85.0</td>\n",
       "      <td>13175</td>\n",
       "      <td>Pave</td>\n",
       "      <td>Reg</td>\n",
       "      <td>Lvl</td>\n",
       "      <td>AllPub</td>\n",
       "      <td>Inside</td>\n",
       "      <td>...</td>\n",
       "      <td>0</td>\n",
       "      <td>0</td>\n",
       "      <td>0</td>\n",
       "      <td>0</td>\n",
       "      <td>0</td>\n",
       "      <td>2</td>\n",
       "      <td>2010</td>\n",
       "      <td>WD</td>\n",
       "      <td>Normal</td>\n",
       "      <td>12.254868</td>\n",
       "    </tr>\n",
       "    <tr>\n",
       "      <th>1457</th>\n",
       "      <td>1458</td>\n",
       "      <td>70</td>\n",
       "      <td>RL</td>\n",
       "      <td>66.0</td>\n",
       "      <td>9042</td>\n",
       "      <td>Pave</td>\n",
       "      <td>Reg</td>\n",
       "      <td>Lvl</td>\n",
       "      <td>AllPub</td>\n",
       "      <td>Inside</td>\n",
       "      <td>...</td>\n",
       "      <td>0</td>\n",
       "      <td>0</td>\n",
       "      <td>0</td>\n",
       "      <td>0</td>\n",
       "      <td>2500</td>\n",
       "      <td>5</td>\n",
       "      <td>2010</td>\n",
       "      <td>WD</td>\n",
       "      <td>Normal</td>\n",
       "      <td>12.493133</td>\n",
       "    </tr>\n",
       "    <tr>\n",
       "      <th>1458</th>\n",
       "      <td>1459</td>\n",
       "      <td>20</td>\n",
       "      <td>RL</td>\n",
       "      <td>68.0</td>\n",
       "      <td>9717</td>\n",
       "      <td>Pave</td>\n",
       "      <td>Reg</td>\n",
       "      <td>Lvl</td>\n",
       "      <td>AllPub</td>\n",
       "      <td>Inside</td>\n",
       "      <td>...</td>\n",
       "      <td>112</td>\n",
       "      <td>0</td>\n",
       "      <td>0</td>\n",
       "      <td>0</td>\n",
       "      <td>0</td>\n",
       "      <td>4</td>\n",
       "      <td>2010</td>\n",
       "      <td>WD</td>\n",
       "      <td>Normal</td>\n",
       "      <td>11.864469</td>\n",
       "    </tr>\n",
       "    <tr>\n",
       "      <th>1459</th>\n",
       "      <td>1460</td>\n",
       "      <td>20</td>\n",
       "      <td>RL</td>\n",
       "      <td>75.0</td>\n",
       "      <td>9937</td>\n",
       "      <td>Pave</td>\n",
       "      <td>Reg</td>\n",
       "      <td>Lvl</td>\n",
       "      <td>AllPub</td>\n",
       "      <td>Inside</td>\n",
       "      <td>...</td>\n",
       "      <td>0</td>\n",
       "      <td>0</td>\n",
       "      <td>0</td>\n",
       "      <td>0</td>\n",
       "      <td>0</td>\n",
       "      <td>6</td>\n",
       "      <td>2008</td>\n",
       "      <td>WD</td>\n",
       "      <td>Normal</td>\n",
       "      <td>11.901590</td>\n",
       "    </tr>\n",
       "  </tbody>\n",
       "</table>\n",
       "<p>1458 rows × 76 columns</p>\n",
       "</div>"
      ],
      "text/plain": [
       "        Id  MSSubClass MSZoning  LotFrontage  LotArea Street LotShape  \\\n",
       "0        1          60       RL         65.0     8450   Pave      Reg   \n",
       "1        2          20       RL         80.0     9600   Pave      Reg   \n",
       "2        3          60       RL         68.0    11250   Pave      IR1   \n",
       "3        4          70       RL         60.0     9550   Pave      IR1   \n",
       "4        5          60       RL         84.0    14260   Pave      IR1   \n",
       "...    ...         ...      ...          ...      ...    ...      ...   \n",
       "1455  1456          60       RL         62.0     7917   Pave      Reg   \n",
       "1456  1457          20       RL         85.0    13175   Pave      Reg   \n",
       "1457  1458          70       RL         66.0     9042   Pave      Reg   \n",
       "1458  1459          20       RL         68.0     9717   Pave      Reg   \n",
       "1459  1460          20       RL         75.0     9937   Pave      Reg   \n",
       "\n",
       "     LandContour Utilities LotConfig  ... EnclosedPorch 3SsnPorch ScreenPorch  \\\n",
       "0            Lvl    AllPub    Inside  ...             0         0           0   \n",
       "1            Lvl    AllPub       FR2  ...             0         0           0   \n",
       "2            Lvl    AllPub    Inside  ...             0         0           0   \n",
       "3            Lvl    AllPub    Corner  ...           272         0           0   \n",
       "4            Lvl    AllPub       FR2  ...             0         0           0   \n",
       "...          ...       ...       ...  ...           ...       ...         ...   \n",
       "1455         Lvl    AllPub    Inside  ...             0         0           0   \n",
       "1456         Lvl    AllPub    Inside  ...             0         0           0   \n",
       "1457         Lvl    AllPub    Inside  ...             0         0           0   \n",
       "1458         Lvl    AllPub    Inside  ...           112         0           0   \n",
       "1459         Lvl    AllPub    Inside  ...             0         0           0   \n",
       "\n",
       "     PoolArea MiscVal MoSold  YrSold  SaleType  SaleCondition  SalePrice  \n",
       "0           0       0      2    2008        WD         Normal  12.247699  \n",
       "1           0       0      5    2007        WD         Normal  12.109016  \n",
       "2           0       0      9    2008        WD         Normal  12.317171  \n",
       "3           0       0      2    2006        WD        Abnorml  11.849405  \n",
       "4           0       0     12    2008        WD         Normal  12.429220  \n",
       "...       ...     ...    ...     ...       ...            ...        ...  \n",
       "1455        0       0      8    2007        WD         Normal  12.072547  \n",
       "1456        0       0      2    2010        WD         Normal  12.254868  \n",
       "1457        0    2500      5    2010        WD         Normal  12.493133  \n",
       "1458        0       0      4    2010        WD         Normal  11.864469  \n",
       "1459        0       0      6    2008        WD         Normal  11.901590  \n",
       "\n",
       "[1458 rows x 76 columns]"
      ]
     },
     "execution_count": 33,
     "metadata": {},
     "output_type": "execute_result"
    }
   ],
   "source": [
    "df_train.drop(['PoolQC','MiscFeature','Alley','Fence','FireplaceQu'], axis = 1, inplace = True )\n",
    "df_train"
   ]
  },
  {
   "cell_type": "code",
   "execution_count": 34,
   "id": "96ec349a",
   "metadata": {
    "execution": {
     "iopub.execute_input": "2022-03-11T12:05:18.386914Z",
     "iopub.status.busy": "2022-03-11T12:05:18.381415Z",
     "iopub.status.idle": "2022-03-11T12:05:18.392980Z",
     "shell.execute_reply": "2022-03-11T12:05:18.393554Z",
     "shell.execute_reply.started": "2022-03-10T15:44:04.271025Z"
    },
    "papermill": {
     "duration": 0.140635,
     "end_time": "2022-03-11T12:05:18.393757",
     "exception": false,
     "start_time": "2022-03-11T12:05:18.253122",
     "status": "completed"
    },
    "tags": []
   },
   "outputs": [
    {
     "data": {
      "text/plain": [
       "Id               0\n",
       "MSSubClass       0\n",
       "MSZoning         0\n",
       "LotFrontage      0\n",
       "LotArea          0\n",
       "                ..\n",
       "MoSold           0\n",
       "YrSold           0\n",
       "SaleType         0\n",
       "SaleCondition    0\n",
       "SalePrice        0\n",
       "Length: 76, dtype: int64"
      ]
     },
     "execution_count": 34,
     "metadata": {},
     "output_type": "execute_result"
    }
   ],
   "source": [
    "df_train.isnull().sum()"
   ]
  },
  {
   "cell_type": "code",
   "execution_count": 35,
   "id": "a0b25e84",
   "metadata": {
    "execution": {
     "iopub.execute_input": "2022-03-11T12:05:18.651402Z",
     "iopub.status.busy": "2022-03-11T12:05:18.650805Z",
     "iopub.status.idle": "2022-03-11T12:05:18.667215Z",
     "shell.execute_reply": "2022-03-11T12:05:18.667652Z",
     "shell.execute_reply.started": "2022-03-10T15:44:04.288073Z"
    },
    "papermill": {
     "duration": 0.145803,
     "end_time": "2022-03-11T12:05:18.667849",
     "exception": false,
     "start_time": "2022-03-11T12:05:18.522046",
     "status": "completed"
    },
    "tags": []
   },
   "outputs": [
    {
     "data": {
      "text/html": [
       "<div>\n",
       "<style scoped>\n",
       "    .dataframe tbody tr th:only-of-type {\n",
       "        vertical-align: middle;\n",
       "    }\n",
       "\n",
       "    .dataframe tbody tr th {\n",
       "        vertical-align: top;\n",
       "    }\n",
       "\n",
       "    .dataframe thead th {\n",
       "        text-align: right;\n",
       "    }\n",
       "</style>\n",
       "<table border=\"1\" class=\"dataframe\">\n",
       "  <thead>\n",
       "    <tr style=\"text-align: right;\">\n",
       "      <th></th>\n",
       "      <th>Missing Ratio</th>\n",
       "    </tr>\n",
       "  </thead>\n",
       "  <tbody>\n",
       "    <tr>\n",
       "      <th>GarageType</th>\n",
       "      <td>5.555556</td>\n",
       "    </tr>\n",
       "    <tr>\n",
       "      <th>GarageYrBlt</th>\n",
       "      <td>5.555556</td>\n",
       "    </tr>\n",
       "    <tr>\n",
       "      <th>GarageFinish</th>\n",
       "      <td>5.555556</td>\n",
       "    </tr>\n",
       "    <tr>\n",
       "      <th>GarageQual</th>\n",
       "      <td>5.555556</td>\n",
       "    </tr>\n",
       "    <tr>\n",
       "      <th>GarageCond</th>\n",
       "      <td>5.555556</td>\n",
       "    </tr>\n",
       "    <tr>\n",
       "      <th>BsmtExposure</th>\n",
       "      <td>2.606310</td>\n",
       "    </tr>\n",
       "    <tr>\n",
       "      <th>BsmtFinType2</th>\n",
       "      <td>2.606310</td>\n",
       "    </tr>\n",
       "    <tr>\n",
       "      <th>BsmtQual</th>\n",
       "      <td>2.537723</td>\n",
       "    </tr>\n",
       "    <tr>\n",
       "      <th>BsmtCond</th>\n",
       "      <td>2.537723</td>\n",
       "    </tr>\n",
       "    <tr>\n",
       "      <th>BsmtFinType1</th>\n",
       "      <td>2.537723</td>\n",
       "    </tr>\n",
       "    <tr>\n",
       "      <th>MasVnrType</th>\n",
       "      <td>0.548697</td>\n",
       "    </tr>\n",
       "    <tr>\n",
       "      <th>MasVnrArea</th>\n",
       "      <td>0.548697</td>\n",
       "    </tr>\n",
       "    <tr>\n",
       "      <th>Electrical</th>\n",
       "      <td>0.068587</td>\n",
       "    </tr>\n",
       "  </tbody>\n",
       "</table>\n",
       "</div>"
      ],
      "text/plain": [
       "              Missing Ratio\n",
       "GarageType         5.555556\n",
       "GarageYrBlt        5.555556\n",
       "GarageFinish       5.555556\n",
       "GarageQual         5.555556\n",
       "GarageCond         5.555556\n",
       "BsmtExposure       2.606310\n",
       "BsmtFinType2       2.606310\n",
       "BsmtQual           2.537723\n",
       "BsmtCond           2.537723\n",
       "BsmtFinType1       2.537723\n",
       "MasVnrType         0.548697\n",
       "MasVnrArea         0.548697\n",
       "Electrical         0.068587"
      ]
     },
     "execution_count": 35,
     "metadata": {},
     "output_type": "execute_result"
    }
   ],
   "source": [
    "df_train_nu = (df_train.isnull().sum() / len(df_train)) * 100\n",
    "df_train_nu = df_train_nu.drop(df_train_nu[df_train_nu == 0].index).sort_values(ascending=False)[:30]\n",
    "missing_data = pd.DataFrame({'Missing Ratio' :df_train_nu})\n",
    "missing_data.head(100)"
   ]
  },
  {
   "cell_type": "code",
   "execution_count": 36,
   "id": "e25750c3",
   "metadata": {
    "execution": {
     "iopub.execute_input": "2022-03-11T12:05:18.931974Z",
     "iopub.status.busy": "2022-03-11T12:05:18.929514Z",
     "iopub.status.idle": "2022-03-11T12:05:18.936205Z",
     "shell.execute_reply": "2022-03-11T12:05:18.936781Z",
     "shell.execute_reply.started": "2022-03-10T15:44:04.313029Z"
    },
    "papermill": {
     "duration": 0.135967,
     "end_time": "2022-03-11T12:05:18.936944",
     "exception": false,
     "start_time": "2022-03-11T12:05:18.800977",
     "status": "completed"
    },
    "tags": []
   },
   "outputs": [
    {
     "data": {
      "text/plain": [
       "0       Attchd\n",
       "1       Attchd\n",
       "2       Attchd\n",
       "3       Detchd\n",
       "4       Attchd\n",
       "         ...  \n",
       "1455    Attchd\n",
       "1456    Attchd\n",
       "1457    Attchd\n",
       "1458    Attchd\n",
       "1459    Attchd\n",
       "Name: GarageType, Length: 1458, dtype: object"
      ]
     },
     "execution_count": 36,
     "metadata": {},
     "output_type": "execute_result"
    }
   ],
   "source": [
    "df_train.GarageType"
   ]
  },
  {
   "cell_type": "code",
   "execution_count": 37,
   "id": "b77a46c9",
   "metadata": {
    "execution": {
     "iopub.execute_input": "2022-03-11T12:05:19.197945Z",
     "iopub.status.busy": "2022-03-11T12:05:19.194730Z",
     "iopub.status.idle": "2022-03-11T12:05:19.201814Z",
     "shell.execute_reply": "2022-03-11T12:05:19.201335Z",
     "shell.execute_reply.started": "2022-03-10T15:44:04.320686Z"
    },
    "papermill": {
     "duration": 0.137809,
     "end_time": "2022-03-11T12:05:19.201956",
     "exception": false,
     "start_time": "2022-03-11T12:05:19.064147",
     "status": "completed"
    },
    "tags": []
   },
   "outputs": [
    {
     "data": {
      "text/plain": [
       "81"
      ]
     },
     "execution_count": 37,
     "metadata": {},
     "output_type": "execute_result"
    }
   ],
   "source": [
    "df_train['GarageType'].isnull().sum()"
   ]
  },
  {
   "cell_type": "code",
   "execution_count": 38,
   "id": "a9a4f675",
   "metadata": {
    "execution": {
     "iopub.execute_input": "2022-03-11T12:05:19.463861Z",
     "iopub.status.busy": "2022-03-11T12:05:19.462821Z",
     "iopub.status.idle": "2022-03-11T12:05:19.464663Z",
     "shell.execute_reply": "2022-03-11T12:05:19.465189Z",
     "shell.execute_reply.started": "2022-03-10T15:44:04.331712Z"
    },
    "papermill": {
     "duration": 0.135018,
     "end_time": "2022-03-11T12:05:19.465365",
     "exception": false,
     "start_time": "2022-03-11T12:05:19.330347",
     "status": "completed"
    },
    "tags": []
   },
   "outputs": [],
   "source": [
    "df_train['GarageType'].fillna(df_train['GarageType'].mode()[0], inplace = True)"
   ]
  },
  {
   "cell_type": "code",
   "execution_count": 39,
   "id": "47f750fc",
   "metadata": {
    "execution": {
     "iopub.execute_input": "2022-03-11T12:05:19.722168Z",
     "iopub.status.busy": "2022-03-11T12:05:19.721210Z",
     "iopub.status.idle": "2022-03-11T12:05:19.726840Z",
     "shell.execute_reply": "2022-03-11T12:05:19.727271Z",
     "shell.execute_reply.started": "2022-03-10T15:44:04.348342Z"
    },
    "papermill": {
     "duration": 0.135536,
     "end_time": "2022-03-11T12:05:19.727447",
     "exception": false,
     "start_time": "2022-03-11T12:05:19.591911",
     "status": "completed"
    },
    "tags": []
   },
   "outputs": [
    {
     "data": {
      "text/plain": [
       "'Attchd'"
      ]
     },
     "execution_count": 39,
     "metadata": {},
     "output_type": "execute_result"
    }
   ],
   "source": [
    "df_train['GarageType'].mode()[0]"
   ]
  },
  {
   "cell_type": "code",
   "execution_count": 40,
   "id": "00da3973",
   "metadata": {
    "execution": {
     "iopub.execute_input": "2022-03-11T12:05:19.992468Z",
     "iopub.status.busy": "2022-03-11T12:05:19.991613Z",
     "iopub.status.idle": "2022-03-11T12:05:19.994907Z",
     "shell.execute_reply": "2022-03-11T12:05:19.995320Z",
     "shell.execute_reply.started": "2022-03-10T15:44:04.364097Z"
    },
    "papermill": {
     "duration": 0.14003,
     "end_time": "2022-03-11T12:05:19.995488",
     "exception": false,
     "start_time": "2022-03-11T12:05:19.855458",
     "status": "completed"
    },
    "tags": []
   },
   "outputs": [
    {
     "data": {
      "text/plain": [
       "0"
      ]
     },
     "execution_count": 40,
     "metadata": {},
     "output_type": "execute_result"
    }
   ],
   "source": [
    "df_train['GarageType'].isnull().sum()"
   ]
  },
  {
   "cell_type": "code",
   "execution_count": 41,
   "id": "10b04257",
   "metadata": {
    "execution": {
     "iopub.execute_input": "2022-03-11T12:05:20.261645Z",
     "iopub.status.busy": "2022-03-11T12:05:20.260892Z",
     "iopub.status.idle": "2022-03-11T12:05:20.264230Z",
     "shell.execute_reply": "2022-03-11T12:05:20.264660Z",
     "shell.execute_reply.started": "2022-03-10T15:44:04.371536Z"
    },
    "papermill": {
     "duration": 0.139332,
     "end_time": "2022-03-11T12:05:20.264888",
     "exception": false,
     "start_time": "2022-03-11T12:05:20.125556",
     "status": "completed"
    },
    "tags": []
   },
   "outputs": [
    {
     "data": {
      "text/plain": [
       "0       2003.0\n",
       "1       1976.0\n",
       "2       2001.0\n",
       "3       1998.0\n",
       "4       2000.0\n",
       "         ...  \n",
       "1455    1999.0\n",
       "1456    1978.0\n",
       "1457    1941.0\n",
       "1458    1950.0\n",
       "1459    1965.0\n",
       "Name: GarageYrBlt, Length: 1458, dtype: float64"
      ]
     },
     "execution_count": 41,
     "metadata": {},
     "output_type": "execute_result"
    }
   ],
   "source": [
    "df_train.GarageYrBlt"
   ]
  },
  {
   "cell_type": "code",
   "execution_count": 42,
   "id": "21667408",
   "metadata": {
    "execution": {
     "iopub.execute_input": "2022-03-11T12:05:20.535134Z",
     "iopub.status.busy": "2022-03-11T12:05:20.534489Z",
     "iopub.status.idle": "2022-03-11T12:05:20.768014Z",
     "shell.execute_reply": "2022-03-11T12:05:20.768513Z",
     "shell.execute_reply.started": "2022-03-10T15:44:04.386214Z"
    },
    "papermill": {
     "duration": 0.374083,
     "end_time": "2022-03-11T12:05:20.768684",
     "exception": false,
     "start_time": "2022-03-11T12:05:20.394601",
     "status": "completed"
    },
    "tags": []
   },
   "outputs": [
    {
     "name": "stderr",
     "output_type": "stream",
     "text": [
      "/opt/conda/lib/python3.7/site-packages/seaborn/distributions.py:2619: FutureWarning: `distplot` is a deprecated function and will be removed in a future version. Please adapt your code to use either `displot` (a figure-level function with similar flexibility) or `histplot` (an axes-level function for histograms).\n",
      "  warnings.warn(msg, FutureWarning)\n"
     ]
    },
    {
     "data": {
      "image/png": "[encoded data removed]",
      "text/plain": [
       "<Figure size 432x288 with 1 Axes>"
      ]
     },
     "metadata": {
      "needs_background": "light"
     },
     "output_type": "display_data"
    }
   ],
   "source": [
    "ax = sns.distplot(df_train['GarageYrBlt'])"
   ]
  },
  {
   "cell_type": "code",
   "execution_count": 43,
   "id": "4d0e788c",
   "metadata": {
    "execution": {
     "iopub.execute_input": "2022-03-11T12:05:21.033691Z",
     "iopub.status.busy": "2022-03-11T12:05:21.033065Z",
     "iopub.status.idle": "2022-03-11T12:05:21.039313Z",
     "shell.execute_reply": "2022-03-11T12:05:21.038693Z",
     "shell.execute_reply.started": "2022-03-10T15:44:04.650998Z"
    },
    "papermill": {
     "duration": 0.139079,
     "end_time": "2022-03-11T12:05:21.039447",
     "exception": false,
     "start_time": "2022-03-11T12:05:20.900368",
     "status": "completed"
    },
    "tags": []
   },
   "outputs": [
    {
     "data": {
      "text/plain": [
       "81"
      ]
     },
     "execution_count": 43,
     "metadata": {},
     "output_type": "execute_result"
    }
   ],
   "source": [
    "df_train['GarageYrBlt'].isnull().sum()"
   ]
  },
  {
   "cell_type": "code",
   "execution_count": 44,
   "id": "e11b31b2",
   "metadata": {
    "execution": {
     "iopub.execute_input": "2022-03-11T12:05:21.305042Z",
     "iopub.status.busy": "2022-03-11T12:05:21.304366Z",
     "iopub.status.idle": "2022-03-11T12:05:21.309014Z",
     "shell.execute_reply": "2022-03-11T12:05:21.309500Z",
     "shell.execute_reply.started": "2022-03-10T15:44:04.658972Z"
    },
    "papermill": {
     "duration": 0.138628,
     "end_time": "2022-03-11T12:05:21.309671",
     "exception": false,
     "start_time": "2022-03-11T12:05:21.171043",
     "status": "completed"
    },
    "tags": []
   },
   "outputs": [
    {
     "data": {
      "text/plain": [
       "1980.0"
      ]
     },
     "execution_count": 44,
     "metadata": {},
     "output_type": "execute_result"
    }
   ],
   "source": [
    "df_train.GarageYrBlt.median()"
   ]
  },
  {
   "cell_type": "code",
   "execution_count": 45,
   "id": "6bb38e35",
   "metadata": {
    "execution": {
     "iopub.execute_input": "2022-03-11T12:05:21.576111Z",
     "iopub.status.busy": "2022-03-11T12:05:21.575179Z",
     "iopub.status.idle": "2022-03-11T12:05:21.577760Z",
     "shell.execute_reply": "2022-03-11T12:05:21.577270Z",
     "shell.execute_reply.started": "2022-03-10T15:44:04.672243Z"
    },
    "papermill": {
     "duration": 0.137944,
     "end_time": "2022-03-11T12:05:21.577896",
     "exception": false,
     "start_time": "2022-03-11T12:05:21.439952",
     "status": "completed"
    },
    "tags": []
   },
   "outputs": [],
   "source": [
    "df_train['GarageYrBlt'].fillna(df_train.GarageYrBlt.median(), inplace = True)"
   ]
  },
  {
   "cell_type": "code",
   "execution_count": 46,
   "id": "1aba31ae",
   "metadata": {
    "execution": {
     "iopub.execute_input": "2022-03-11T12:05:21.844943Z",
     "iopub.status.busy": "2022-03-11T12:05:21.844367Z",
     "iopub.status.idle": "2022-03-11T12:05:21.849612Z",
     "shell.execute_reply": "2022-03-11T12:05:21.850098Z",
     "shell.execute_reply.started": "2022-03-10T15:44:04.687311Z"
    },
    "papermill": {
     "duration": 0.141319,
     "end_time": "2022-03-11T12:05:21.850264",
     "exception": false,
     "start_time": "2022-03-11T12:05:21.708945",
     "status": "completed"
    },
    "tags": []
   },
   "outputs": [
    {
     "data": {
      "text/plain": [
       "0"
      ]
     },
     "execution_count": 46,
     "metadata": {},
     "output_type": "execute_result"
    }
   ],
   "source": [
    "df_train['GarageYrBlt'].isnull().sum()"
   ]
  },
  {
   "cell_type": "code",
   "execution_count": 47,
   "id": "60078cbf",
   "metadata": {
    "execution": {
     "iopub.execute_input": "2022-03-11T12:05:22.180525Z",
     "iopub.status.busy": "2022-03-11T12:05:22.179877Z",
     "iopub.status.idle": "2022-03-11T12:05:22.194596Z",
     "shell.execute_reply": "2022-03-11T12:05:22.195039Z",
     "shell.execute_reply.started": "2022-03-10T15:44:04.700212Z"
    },
    "papermill": {
     "duration": 0.211373,
     "end_time": "2022-03-11T12:05:22.195209",
     "exception": false,
     "start_time": "2022-03-11T12:05:21.983836",
     "status": "completed"
    },
    "tags": []
   },
   "outputs": [
    {
     "data": {
      "text/html": [
       "<div>\n",
       "<style scoped>\n",
       "    .dataframe tbody tr th:only-of-type {\n",
       "        vertical-align: middle;\n",
       "    }\n",
       "\n",
       "    .dataframe tbody tr th {\n",
       "        vertical-align: top;\n",
       "    }\n",
       "\n",
       "    .dataframe thead th {\n",
       "        text-align: right;\n",
       "    }\n",
       "</style>\n",
       "<table border=\"1\" class=\"dataframe\">\n",
       "  <thead>\n",
       "    <tr style=\"text-align: right;\">\n",
       "      <th></th>\n",
       "      <th>Missing Ratio</th>\n",
       "    </tr>\n",
       "  </thead>\n",
       "  <tbody>\n",
       "    <tr>\n",
       "      <th>GarageFinish</th>\n",
       "      <td>5.555556</td>\n",
       "    </tr>\n",
       "    <tr>\n",
       "      <th>GarageQual</th>\n",
       "      <td>5.555556</td>\n",
       "    </tr>\n",
       "    <tr>\n",
       "      <th>GarageCond</th>\n",
       "      <td>5.555556</td>\n",
       "    </tr>\n",
       "    <tr>\n",
       "      <th>BsmtExposure</th>\n",
       "      <td>2.606310</td>\n",
       "    </tr>\n",
       "    <tr>\n",
       "      <th>BsmtFinType2</th>\n",
       "      <td>2.606310</td>\n",
       "    </tr>\n",
       "    <tr>\n",
       "      <th>BsmtQual</th>\n",
       "      <td>2.537723</td>\n",
       "    </tr>\n",
       "    <tr>\n",
       "      <th>BsmtCond</th>\n",
       "      <td>2.537723</td>\n",
       "    </tr>\n",
       "    <tr>\n",
       "      <th>BsmtFinType1</th>\n",
       "      <td>2.537723</td>\n",
       "    </tr>\n",
       "    <tr>\n",
       "      <th>MasVnrType</th>\n",
       "      <td>0.548697</td>\n",
       "    </tr>\n",
       "    <tr>\n",
       "      <th>MasVnrArea</th>\n",
       "      <td>0.548697</td>\n",
       "    </tr>\n",
       "    <tr>\n",
       "      <th>Electrical</th>\n",
       "      <td>0.068587</td>\n",
       "    </tr>\n",
       "  </tbody>\n",
       "</table>\n",
       "</div>"
      ],
      "text/plain": [
       "              Missing Ratio\n",
       "GarageFinish       5.555556\n",
       "GarageQual         5.555556\n",
       "GarageCond         5.555556\n",
       "BsmtExposure       2.606310\n",
       "BsmtFinType2       2.606310\n",
       "BsmtQual           2.537723\n",
       "BsmtCond           2.537723\n",
       "BsmtFinType1       2.537723\n",
       "MasVnrType         0.548697\n",
       "MasVnrArea         0.548697\n",
       "Electrical         0.068587"
      ]
     },
     "execution_count": 47,
     "metadata": {},
     "output_type": "execute_result"
    }
   ],
   "source": [
    "df_train_nu = (df_train.isnull().sum() / len(df_train)) * 100\n",
    "df_train_nu = df_train_nu.drop(df_train_nu[df_train_nu == 0].index).sort_values(ascending=False)[:30]\n",
    "missing_data = pd.DataFrame({'Missing Ratio' :df_train_nu})\n",
    "missing_data.head(100)"
   ]
  },
  {
   "cell_type": "code",
   "execution_count": 48,
   "id": "cced375a",
   "metadata": {
    "execution": {
     "iopub.execute_input": "2022-03-11T12:05:22.461201Z",
     "iopub.status.busy": "2022-03-11T12:05:22.458389Z",
     "iopub.status.idle": "2022-03-11T12:05:22.464840Z",
     "shell.execute_reply": "2022-03-11T12:05:22.464386Z",
     "shell.execute_reply.started": "2022-03-10T15:44:04.72921Z"
    },
    "papermill": {
     "duration": 0.138333,
     "end_time": "2022-03-11T12:05:22.464975",
     "exception": false,
     "start_time": "2022-03-11T12:05:22.326642",
     "status": "completed"
    },
    "tags": []
   },
   "outputs": [
    {
     "data": {
      "text/plain": [
       "81"
      ]
     },
     "execution_count": 48,
     "metadata": {},
     "output_type": "execute_result"
    }
   ],
   "source": [
    "df_train['GarageFinish'].isnull().sum()"
   ]
  },
  {
   "cell_type": "code",
   "execution_count": 49,
   "id": "b2f0ad29",
   "metadata": {
    "execution": {
     "iopub.execute_input": "2022-03-11T12:05:22.737121Z",
     "iopub.status.busy": "2022-03-11T12:05:22.736472Z",
     "iopub.status.idle": "2022-03-11T12:05:22.739950Z",
     "shell.execute_reply": "2022-03-11T12:05:22.740363Z",
     "shell.execute_reply.started": "2022-03-10T15:44:04.737516Z"
    },
    "papermill": {
     "duration": 0.142408,
     "end_time": "2022-03-11T12:05:22.740541",
     "exception": false,
     "start_time": "2022-03-11T12:05:22.598133",
     "status": "completed"
    },
    "tags": []
   },
   "outputs": [
    {
     "data": {
      "text/plain": [
       "0       RFn\n",
       "1       RFn\n",
       "2       RFn\n",
       "3       Unf\n",
       "4       RFn\n",
       "       ... \n",
       "1455    RFn\n",
       "1456    Unf\n",
       "1457    RFn\n",
       "1458    Unf\n",
       "1459    Fin\n",
       "Name: GarageFinish, Length: 1458, dtype: object"
      ]
     },
     "execution_count": 49,
     "metadata": {},
     "output_type": "execute_result"
    }
   ],
   "source": [
    "df_train.GarageFinish"
   ]
  },
  {
   "cell_type": "code",
   "execution_count": 50,
   "id": "41498c5b",
   "metadata": {
    "execution": {
     "iopub.execute_input": "2022-03-11T12:05:23.007762Z",
     "iopub.status.busy": "2022-03-11T12:05:23.007147Z",
     "iopub.status.idle": "2022-03-11T12:05:23.009666Z",
     "shell.execute_reply": "2022-03-11T12:05:23.010125Z",
     "shell.execute_reply.started": "2022-03-10T15:44:04.752356Z"
    },
    "papermill": {
     "duration": 0.13952,
     "end_time": "2022-03-11T12:05:23.010285",
     "exception": false,
     "start_time": "2022-03-11T12:05:22.870765",
     "status": "completed"
    },
    "tags": []
   },
   "outputs": [],
   "source": [
    "df_train['GarageFinish'].fillna(df_train.GarageFinish.mode()[0], inplace = True)"
   ]
  },
  {
   "cell_type": "code",
   "execution_count": 51,
   "id": "2a179cb3",
   "metadata": {
    "execution": {
     "iopub.execute_input": "2022-03-11T12:05:23.275884Z",
     "iopub.status.busy": "2022-03-11T12:05:23.275244Z",
     "iopub.status.idle": "2022-03-11T12:05:23.278984Z",
     "shell.execute_reply": "2022-03-11T12:05:23.278389Z",
     "shell.execute_reply.started": "2022-03-10T15:44:04.765731Z"
    },
    "papermill": {
     "duration": 0.138867,
     "end_time": "2022-03-11T12:05:23.279118",
     "exception": false,
     "start_time": "2022-03-11T12:05:23.140251",
     "status": "completed"
    },
    "tags": []
   },
   "outputs": [
    {
     "data": {
      "text/plain": [
       "0"
      ]
     },
     "execution_count": 51,
     "metadata": {},
     "output_type": "execute_result"
    }
   ],
   "source": [
    "df_train['GarageFinish'].isnull().sum()"
   ]
  },
  {
   "cell_type": "code",
   "execution_count": 52,
   "id": "96e612b2",
   "metadata": {
    "execution": {
     "iopub.execute_input": "2022-03-11T12:05:23.548530Z",
     "iopub.status.busy": "2022-03-11T12:05:23.547960Z",
     "iopub.status.idle": "2022-03-11T12:05:23.551807Z",
     "shell.execute_reply": "2022-03-11T12:05:23.552199Z",
     "shell.execute_reply.started": "2022-03-10T15:44:04.781746Z"
    },
    "papermill": {
     "duration": 0.141275,
     "end_time": "2022-03-11T12:05:23.552363",
     "exception": false,
     "start_time": "2022-03-11T12:05:23.411088",
     "status": "completed"
    },
    "tags": []
   },
   "outputs": [
    {
     "data": {
      "text/plain": [
       "81"
      ]
     },
     "execution_count": 52,
     "metadata": {},
     "output_type": "execute_result"
    }
   ],
   "source": [
    "df_train['GarageQual'].isnull().sum()"
   ]
  },
  {
   "cell_type": "code",
   "execution_count": 53,
   "id": "5466241f",
   "metadata": {
    "execution": {
     "iopub.execute_input": "2022-03-11T12:05:23.819756Z",
     "iopub.status.busy": "2022-03-11T12:05:23.819121Z",
     "iopub.status.idle": "2022-03-11T12:05:23.821957Z",
     "shell.execute_reply": "2022-03-11T12:05:23.822390Z",
     "shell.execute_reply.started": "2022-03-10T15:44:04.796413Z"
    },
    "papermill": {
     "duration": 0.139639,
     "end_time": "2022-03-11T12:05:23.822555",
     "exception": false,
     "start_time": "2022-03-11T12:05:23.682916",
     "status": "completed"
    },
    "tags": []
   },
   "outputs": [
    {
     "data": {
      "text/plain": [
       "0       TA\n",
       "1       TA\n",
       "2       TA\n",
       "3       TA\n",
       "4       TA\n",
       "        ..\n",
       "1455    TA\n",
       "1456    TA\n",
       "1457    TA\n",
       "1458    TA\n",
       "1459    TA\n",
       "Name: GarageQual, Length: 1458, dtype: object"
      ]
     },
     "execution_count": 53,
     "metadata": {},
     "output_type": "execute_result"
    }
   ],
   "source": [
    "df_train.GarageQual"
   ]
  },
  {
   "cell_type": "code",
   "execution_count": 54,
   "id": "de7b42de",
   "metadata": {
    "execution": {
     "iopub.execute_input": "2022-03-11T12:05:24.094456Z",
     "iopub.status.busy": "2022-03-11T12:05:24.093830Z",
     "iopub.status.idle": "2022-03-11T12:05:24.098386Z",
     "shell.execute_reply": "2022-03-11T12:05:24.098936Z",
     "shell.execute_reply.started": "2022-03-10T15:44:04.80937Z"
    },
    "papermill": {
     "duration": 0.142702,
     "end_time": "2022-03-11T12:05:24.099099",
     "exception": false,
     "start_time": "2022-03-11T12:05:23.956397",
     "status": "completed"
    },
    "tags": []
   },
   "outputs": [],
   "source": [
    "df_train['GarageQual'].fillna(df_train.GarageQual.mode()[0], inplace = True)"
   ]
  },
  {
   "cell_type": "code",
   "execution_count": 55,
   "id": "23945dc0",
   "metadata": {
    "execution": {
     "iopub.execute_input": "2022-03-11T12:05:24.370512Z",
     "iopub.status.busy": "2022-03-11T12:05:24.369823Z",
     "iopub.status.idle": "2022-03-11T12:05:24.375470Z",
     "shell.execute_reply": "2022-03-11T12:05:24.375987Z",
     "shell.execute_reply.started": "2022-03-10T15:44:04.819531Z"
    },
    "papermill": {
     "duration": 0.142165,
     "end_time": "2022-03-11T12:05:24.376154",
     "exception": false,
     "start_time": "2022-03-11T12:05:24.233989",
     "status": "completed"
    },
    "tags": []
   },
   "outputs": [
    {
     "data": {
      "text/plain": [
       "0"
      ]
     },
     "execution_count": 55,
     "metadata": {},
     "output_type": "execute_result"
    }
   ],
   "source": [
    "df_train['GarageQual'].isnull().sum()"
   ]
  },
  {
   "cell_type": "code",
   "execution_count": 56,
   "id": "075c23c4",
   "metadata": {
    "execution": {
     "iopub.execute_input": "2022-03-11T12:05:24.641662Z",
     "iopub.status.busy": "2022-03-11T12:05:24.641049Z",
     "iopub.status.idle": "2022-03-11T12:05:24.646368Z",
     "shell.execute_reply": "2022-03-11T12:05:24.646879Z",
     "shell.execute_reply.started": "2022-03-10T15:44:04.833525Z"
    },
    "papermill": {
     "duration": 0.139794,
     "end_time": "2022-03-11T12:05:24.647047",
     "exception": false,
     "start_time": "2022-03-11T12:05:24.507253",
     "status": "completed"
    },
    "tags": []
   },
   "outputs": [
    {
     "data": {
      "text/plain": [
       "81"
      ]
     },
     "execution_count": 56,
     "metadata": {},
     "output_type": "execute_result"
    }
   ],
   "source": [
    "df_train['GarageCond'].isnull().sum()"
   ]
  },
  {
   "cell_type": "code",
   "execution_count": 57,
   "id": "84968b28",
   "metadata": {
    "execution": {
     "iopub.execute_input": "2022-03-11T12:05:24.924889Z",
     "iopub.status.busy": "2022-03-11T12:05:24.924283Z",
     "iopub.status.idle": "2022-03-11T12:05:24.930094Z",
     "shell.execute_reply": "2022-03-11T12:05:24.930543Z",
     "shell.execute_reply.started": "2022-03-10T15:44:04.847773Z"
    },
    "papermill": {
     "duration": 0.150269,
     "end_time": "2022-03-11T12:05:24.930707",
     "exception": false,
     "start_time": "2022-03-11T12:05:24.780438",
     "status": "completed"
    },
    "tags": []
   },
   "outputs": [
    {
     "data": {
      "text/plain": [
       "0       TA\n",
       "1       TA\n",
       "2       TA\n",
       "3       TA\n",
       "4       TA\n",
       "        ..\n",
       "1455    TA\n",
       "1456    TA\n",
       "1457    TA\n",
       "1458    TA\n",
       "1459    TA\n",
       "Name: GarageCond, Length: 1458, dtype: object"
      ]
     },
     "execution_count": 57,
     "metadata": {},
     "output_type": "execute_result"
    }
   ],
   "source": [
    "df_train.GarageCond"
   ]
  },
  {
   "cell_type": "code",
   "execution_count": 58,
   "id": "0376615a",
   "metadata": {
    "execution": {
     "iopub.execute_input": "2022-03-11T12:05:25.208057Z",
     "iopub.status.busy": "2022-03-11T12:05:25.207440Z",
     "iopub.status.idle": "2022-03-11T12:05:25.212111Z",
     "shell.execute_reply": "2022-03-11T12:05:25.212587Z",
     "shell.execute_reply.started": "2022-03-10T15:44:04.86108Z"
    },
    "papermill": {
     "duration": 0.144782,
     "end_time": "2022-03-11T12:05:25.212774",
     "exception": false,
     "start_time": "2022-03-11T12:05:25.067992",
     "status": "completed"
    },
    "tags": []
   },
   "outputs": [],
   "source": [
    "df_train['GarageCond'].fillna(df_train.GarageCond.mode()[0], inplace = True)"
   ]
  },
  {
   "cell_type": "code",
   "execution_count": 59,
   "id": "85a3232e",
   "metadata": {
    "execution": {
     "iopub.execute_input": "2022-03-11T12:05:25.489678Z",
     "iopub.status.busy": "2022-03-11T12:05:25.486752Z",
     "iopub.status.idle": "2022-03-11T12:05:25.492705Z",
     "shell.execute_reply": "2022-03-11T12:05:25.493209Z",
     "shell.execute_reply.started": "2022-03-10T15:44:04.869207Z"
    },
    "papermill": {
     "duration": 0.145655,
     "end_time": "2022-03-11T12:05:25.493373",
     "exception": false,
     "start_time": "2022-03-11T12:05:25.347718",
     "status": "completed"
    },
    "tags": []
   },
   "outputs": [
    {
     "data": {
      "text/plain": [
       "0"
      ]
     },
     "execution_count": 59,
     "metadata": {},
     "output_type": "execute_result"
    }
   ],
   "source": [
    "df_train['GarageCond'].isnull().sum()"
   ]
  },
  {
   "cell_type": "code",
   "execution_count": 60,
   "id": "1eea98fc",
   "metadata": {
    "execution": {
     "iopub.execute_input": "2022-03-11T12:05:25.770975Z",
     "iopub.status.busy": "2022-03-11T12:05:25.769951Z",
     "iopub.status.idle": "2022-03-11T12:05:25.775518Z",
     "shell.execute_reply": "2022-03-11T12:05:25.776040Z",
     "shell.execute_reply.started": "2022-03-10T15:44:04.88458Z"
    },
    "papermill": {
     "duration": 0.144799,
     "end_time": "2022-03-11T12:05:25.776220",
     "exception": false,
     "start_time": "2022-03-11T12:05:25.631421",
     "status": "completed"
    },
    "tags": []
   },
   "outputs": [
    {
     "data": {
      "text/plain": [
       "0       No\n",
       "1       Gd\n",
       "2       Mn\n",
       "3       No\n",
       "4       Av\n",
       "        ..\n",
       "1455    No\n",
       "1456    No\n",
       "1457    No\n",
       "1458    Mn\n",
       "1459    No\n",
       "Name: BsmtExposure, Length: 1458, dtype: object"
      ]
     },
     "execution_count": 60,
     "metadata": {},
     "output_type": "execute_result"
    }
   ],
   "source": [
    "df_train.BsmtExposure"
   ]
  },
  {
   "cell_type": "code",
   "execution_count": 61,
   "id": "50a196c9",
   "metadata": {
    "execution": {
     "iopub.execute_input": "2022-03-11T12:05:26.054480Z",
     "iopub.status.busy": "2022-03-11T12:05:26.053832Z",
     "iopub.status.idle": "2022-03-11T12:05:26.056338Z",
     "shell.execute_reply": "2022-03-11T12:05:26.056758Z",
     "shell.execute_reply.started": "2022-03-10T15:44:04.897326Z"
    },
    "papermill": {
     "duration": 0.14251,
     "end_time": "2022-03-11T12:05:26.056939",
     "exception": false,
     "start_time": "2022-03-11T12:05:25.914429",
     "status": "completed"
    },
    "tags": []
   },
   "outputs": [
    {
     "data": {
      "text/plain": [
       "38"
      ]
     },
     "execution_count": 61,
     "metadata": {},
     "output_type": "execute_result"
    }
   ],
   "source": [
    "df_train['BsmtExposure'].isnull().sum()"
   ]
  },
  {
   "cell_type": "code",
   "execution_count": 62,
   "id": "f3aaa835",
   "metadata": {
    "execution": {
     "iopub.execute_input": "2022-03-11T12:05:26.326069Z",
     "iopub.status.busy": "2022-03-11T12:05:26.325424Z",
     "iopub.status.idle": "2022-03-11T12:05:26.329722Z",
     "shell.execute_reply": "2022-03-11T12:05:26.330236Z",
     "shell.execute_reply.started": "2022-03-10T15:44:04.907069Z"
    },
    "papermill": {
     "duration": 0.141154,
     "end_time": "2022-03-11T12:05:26.330422",
     "exception": false,
     "start_time": "2022-03-11T12:05:26.189268",
     "status": "completed"
    },
    "tags": []
   },
   "outputs": [],
   "source": [
    "df_train['BsmtExposure'].fillna(df_train.BsmtExposure.mode()[0], inplace = True)"
   ]
  },
  {
   "cell_type": "code",
   "execution_count": 63,
   "id": "5b6f6c15",
   "metadata": {
    "execution": {
     "iopub.execute_input": "2022-03-11T12:05:26.604387Z",
     "iopub.status.busy": "2022-03-11T12:05:26.603697Z",
     "iopub.status.idle": "2022-03-11T12:05:26.609830Z",
     "shell.execute_reply": "2022-03-11T12:05:26.609247Z",
     "shell.execute_reply.started": "2022-03-10T15:44:04.920078Z"
    },
    "papermill": {
     "duration": 0.14548,
     "end_time": "2022-03-11T12:05:26.609980",
     "exception": false,
     "start_time": "2022-03-11T12:05:26.464500",
     "status": "completed"
    },
    "tags": []
   },
   "outputs": [
    {
     "data": {
      "text/plain": [
       "0"
      ]
     },
     "execution_count": 63,
     "metadata": {},
     "output_type": "execute_result"
    }
   ],
   "source": [
    "df_train['BsmtExposure'].isnull().sum()"
   ]
  },
  {
   "cell_type": "code",
   "execution_count": 64,
   "id": "555b2232",
   "metadata": {
    "execution": {
     "iopub.execute_input": "2022-03-11T12:05:26.889995Z",
     "iopub.status.busy": "2022-03-11T12:05:26.889172Z",
     "iopub.status.idle": "2022-03-11T12:05:26.892593Z",
     "shell.execute_reply": "2022-03-11T12:05:26.893077Z",
     "shell.execute_reply.started": "2022-03-10T15:44:04.93236Z"
    },
    "papermill": {
     "duration": 0.146382,
     "end_time": "2022-03-11T12:05:26.893241",
     "exception": false,
     "start_time": "2022-03-11T12:05:26.746859",
     "status": "completed"
    },
    "tags": []
   },
   "outputs": [
    {
     "data": {
      "text/plain": [
       "0       Unf\n",
       "1       Unf\n",
       "2       Unf\n",
       "3       Unf\n",
       "4       Unf\n",
       "       ... \n",
       "1455    Unf\n",
       "1456    Rec\n",
       "1457    Unf\n",
       "1458    Rec\n",
       "1459    LwQ\n",
       "Name: BsmtFinType2, Length: 1458, dtype: object"
      ]
     },
     "execution_count": 64,
     "metadata": {},
     "output_type": "execute_result"
    }
   ],
   "source": [
    "df_train.BsmtFinType2"
   ]
  },
  {
   "cell_type": "code",
   "execution_count": 65,
   "id": "b8fd610e",
   "metadata": {
    "execution": {
     "iopub.execute_input": "2022-03-11T12:05:27.175949Z",
     "iopub.status.busy": "2022-03-11T12:05:27.175127Z",
     "iopub.status.idle": "2022-03-11T12:05:27.178675Z",
     "shell.execute_reply": "2022-03-11T12:05:27.178192Z",
     "shell.execute_reply.started": "2022-03-10T15:44:04.945253Z"
    },
    "papermill": {
     "duration": 0.146129,
     "end_time": "2022-03-11T12:05:27.178827",
     "exception": false,
     "start_time": "2022-03-11T12:05:27.032698",
     "status": "completed"
    },
    "tags": []
   },
   "outputs": [
    {
     "data": {
      "text/plain": [
       "38"
      ]
     },
     "execution_count": 65,
     "metadata": {},
     "output_type": "execute_result"
    }
   ],
   "source": [
    "df_train['BsmtFinType2'].isnull().sum()"
   ]
  },
  {
   "cell_type": "code",
   "execution_count": 66,
   "id": "e715acbe",
   "metadata": {
    "execution": {
     "iopub.execute_input": "2022-03-11T12:05:27.454385Z",
     "iopub.status.busy": "2022-03-11T12:05:27.453459Z",
     "iopub.status.idle": "2022-03-11T12:05:27.458502Z",
     "shell.execute_reply": "2022-03-11T12:05:27.459080Z",
     "shell.execute_reply.started": "2022-03-10T15:44:04.957218Z"
    },
    "papermill": {
     "duration": 0.143655,
     "end_time": "2022-03-11T12:05:27.459247",
     "exception": false,
     "start_time": "2022-03-11T12:05:27.315592",
     "status": "completed"
    },
    "tags": []
   },
   "outputs": [],
   "source": [
    "df_train['BsmtFinType2'].fillna(df_train.BsmtFinType2.mode()[0], inplace = True)"
   ]
  },
  {
   "cell_type": "code",
   "execution_count": 67,
   "id": "a7e43bb3",
   "metadata": {
    "execution": {
     "iopub.execute_input": "2022-03-11T12:05:27.731207Z",
     "iopub.status.busy": "2022-03-11T12:05:27.730264Z",
     "iopub.status.idle": "2022-03-11T12:05:27.736484Z",
     "shell.execute_reply": "2022-03-11T12:05:27.737081Z",
     "shell.execute_reply.started": "2022-03-10T15:44:04.96831Z"
    },
    "papermill": {
     "duration": 0.144038,
     "end_time": "2022-03-11T12:05:27.737257",
     "exception": false,
     "start_time": "2022-03-11T12:05:27.593219",
     "status": "completed"
    },
    "tags": []
   },
   "outputs": [
    {
     "data": {
      "text/plain": [
       "0"
      ]
     },
     "execution_count": 67,
     "metadata": {},
     "output_type": "execute_result"
    }
   ],
   "source": [
    "df_train['BsmtFinType2'].isnull().sum()"
   ]
  },
  {
   "cell_type": "code",
   "execution_count": 68,
   "id": "258e2327",
   "metadata": {
    "execution": {
     "iopub.execute_input": "2022-03-11T12:05:28.018345Z",
     "iopub.status.busy": "2022-03-11T12:05:28.017723Z",
     "iopub.status.idle": "2022-03-11T12:05:28.019991Z",
     "shell.execute_reply": "2022-03-11T12:05:28.020520Z",
     "shell.execute_reply.started": "2022-03-10T15:44:04.98096Z"
    },
    "papermill": {
     "duration": 0.147254,
     "end_time": "2022-03-11T12:05:28.020675",
     "exception": false,
     "start_time": "2022-03-11T12:05:27.873421",
     "status": "completed"
    },
    "tags": []
   },
   "outputs": [
    {
     "data": {
      "text/plain": [
       "0       Gd\n",
       "1       Gd\n",
       "2       Gd\n",
       "3       TA\n",
       "4       Gd\n",
       "        ..\n",
       "1455    Gd\n",
       "1456    Gd\n",
       "1457    TA\n",
       "1458    TA\n",
       "1459    TA\n",
       "Name: BsmtQual, Length: 1458, dtype: object"
      ]
     },
     "execution_count": 68,
     "metadata": {},
     "output_type": "execute_result"
    }
   ],
   "source": [
    "df_train.BsmtQual"
   ]
  },
  {
   "cell_type": "code",
   "execution_count": 69,
   "id": "6dcacc70",
   "metadata": {
    "execution": {
     "iopub.execute_input": "2022-03-11T12:05:28.317378Z",
     "iopub.status.busy": "2022-03-11T12:05:28.316378Z",
     "iopub.status.idle": "2022-03-11T12:05:28.320093Z",
     "shell.execute_reply": "2022-03-11T12:05:28.320567Z",
     "shell.execute_reply.started": "2022-03-10T15:44:04.993912Z"
    },
    "papermill": {
     "duration": 0.163041,
     "end_time": "2022-03-11T12:05:28.320768",
     "exception": false,
     "start_time": "2022-03-11T12:05:28.157727",
     "status": "completed"
    },
    "tags": []
   },
   "outputs": [
    {
     "data": {
      "text/plain": [
       "37"
      ]
     },
     "execution_count": 69,
     "metadata": {},
     "output_type": "execute_result"
    }
   ],
   "source": [
    "df_train['BsmtQual'].isnull().sum()"
   ]
  },
  {
   "cell_type": "code",
   "execution_count": 70,
   "id": "d4cf558e",
   "metadata": {
    "execution": {
     "iopub.execute_input": "2022-03-11T12:05:28.596959Z",
     "iopub.status.busy": "2022-03-11T12:05:28.596373Z",
     "iopub.status.idle": "2022-03-11T12:05:28.601042Z",
     "shell.execute_reply": "2022-03-11T12:05:28.601477Z",
     "shell.execute_reply.started": "2022-03-10T15:44:05.006472Z"
    },
    "papermill": {
     "duration": 0.142136,
     "end_time": "2022-03-11T12:05:28.601638",
     "exception": false,
     "start_time": "2022-03-11T12:05:28.459502",
     "status": "completed"
    },
    "tags": []
   },
   "outputs": [],
   "source": [
    "df_train['BsmtQual'].fillna(df_train.BsmtQual.mode()[0], inplace = True)"
   ]
  },
  {
   "cell_type": "code",
   "execution_count": 71,
   "id": "2aae0796",
   "metadata": {
    "execution": {
     "iopub.execute_input": "2022-03-11T12:05:28.872670Z",
     "iopub.status.busy": "2022-03-11T12:05:28.872119Z",
     "iopub.status.idle": "2022-03-11T12:05:28.878530Z",
     "shell.execute_reply": "2022-03-11T12:05:28.878087Z",
     "shell.execute_reply.started": "2022-03-10T15:44:05.018709Z"
    },
    "papermill": {
     "duration": 0.142872,
     "end_time": "2022-03-11T12:05:28.878666",
     "exception": false,
     "start_time": "2022-03-11T12:05:28.735794",
     "status": "completed"
    },
    "tags": []
   },
   "outputs": [
    {
     "data": {
      "text/plain": [
       "0"
      ]
     },
     "execution_count": 71,
     "metadata": {},
     "output_type": "execute_result"
    }
   ],
   "source": [
    "df_train['BsmtQual'].isnull().sum()"
   ]
  },
  {
   "cell_type": "code",
   "execution_count": 72,
   "id": "600e4c7d",
   "metadata": {
    "execution": {
     "iopub.execute_input": "2022-03-11T12:05:29.157711Z",
     "iopub.status.busy": "2022-03-11T12:05:29.157116Z",
     "iopub.status.idle": "2022-03-11T12:05:29.160803Z",
     "shell.execute_reply": "2022-03-11T12:05:29.161183Z",
     "shell.execute_reply.started": "2022-03-10T15:44:05.031174Z"
    },
    "papermill": {
     "duration": 0.147862,
     "end_time": "2022-03-11T12:05:29.161342",
     "exception": false,
     "start_time": "2022-03-11T12:05:29.013480",
     "status": "completed"
    },
    "tags": []
   },
   "outputs": [
    {
     "data": {
      "text/plain": [
       "0       TA\n",
       "1       TA\n",
       "2       TA\n",
       "3       Gd\n",
       "4       TA\n",
       "        ..\n",
       "1455    TA\n",
       "1456    TA\n",
       "1457    Gd\n",
       "1458    TA\n",
       "1459    TA\n",
       "Name: BsmtCond, Length: 1458, dtype: object"
      ]
     },
     "execution_count": 72,
     "metadata": {},
     "output_type": "execute_result"
    }
   ],
   "source": [
    "df_train.BsmtCond"
   ]
  },
  {
   "cell_type": "code",
   "execution_count": 73,
   "id": "795f11f9",
   "metadata": {
    "execution": {
     "iopub.execute_input": "2022-03-11T12:05:29.438224Z",
     "iopub.status.busy": "2022-03-11T12:05:29.437618Z",
     "iopub.status.idle": "2022-03-11T12:05:29.440750Z",
     "shell.execute_reply": "2022-03-11T12:05:29.441172Z",
     "shell.execute_reply.started": "2022-03-10T15:44:05.044129Z"
    },
    "papermill": {
     "duration": 0.14498,
     "end_time": "2022-03-11T12:05:29.441331",
     "exception": false,
     "start_time": "2022-03-11T12:05:29.296351",
     "status": "completed"
    },
    "tags": []
   },
   "outputs": [
    {
     "data": {
      "text/plain": [
       "37"
      ]
     },
     "execution_count": 73,
     "metadata": {},
     "output_type": "execute_result"
    }
   ],
   "source": [
    "df_train['BsmtCond'].isnull().sum()"
   ]
  },
  {
   "cell_type": "code",
   "execution_count": 74,
   "id": "bde6847c",
   "metadata": {
    "execution": {
     "iopub.execute_input": "2022-03-11T12:05:29.719757Z",
     "iopub.status.busy": "2022-03-11T12:05:29.719165Z",
     "iopub.status.idle": "2022-03-11T12:05:29.721489Z",
     "shell.execute_reply": "2022-03-11T12:05:29.721937Z",
     "shell.execute_reply.started": "2022-03-10T15:44:05.054142Z"
    },
    "papermill": {
     "duration": 0.144366,
     "end_time": "2022-03-11T12:05:29.722096",
     "exception": false,
     "start_time": "2022-03-11T12:05:29.577730",
     "status": "completed"
    },
    "tags": []
   },
   "outputs": [],
   "source": [
    "df_train['BsmtCond'].fillna(df_train.BsmtCond.mode()[0], inplace = True)"
   ]
  },
  {
   "cell_type": "code",
   "execution_count": 75,
   "id": "edacd207",
   "metadata": {
    "execution": {
     "iopub.execute_input": "2022-03-11T12:05:29.999729Z",
     "iopub.status.busy": "2022-03-11T12:05:29.999149Z",
     "iopub.status.idle": "2022-03-11T12:05:30.002355Z",
     "shell.execute_reply": "2022-03-11T12:05:30.001827Z",
     "shell.execute_reply.started": "2022-03-10T15:44:05.064807Z"
    },
    "papermill": {
     "duration": 0.144488,
     "end_time": "2022-03-11T12:05:30.002490",
     "exception": false,
     "start_time": "2022-03-11T12:05:29.858002",
     "status": "completed"
    },
    "tags": []
   },
   "outputs": [
    {
     "data": {
      "text/plain": [
       "0"
      ]
     },
     "execution_count": 75,
     "metadata": {},
     "output_type": "execute_result"
    }
   ],
   "source": [
    "df_train['BsmtCond'].isnull().sum()"
   ]
  },
  {
   "cell_type": "code",
   "execution_count": 76,
   "id": "f99edef4",
   "metadata": {
    "execution": {
     "iopub.execute_input": "2022-03-11T12:05:30.280276Z",
     "iopub.status.busy": "2022-03-11T12:05:30.279659Z",
     "iopub.status.idle": "2022-03-11T12:05:30.283707Z",
     "shell.execute_reply": "2022-03-11T12:05:30.283243Z",
     "shell.execute_reply.started": "2022-03-10T15:44:05.077562Z"
    },
    "papermill": {
     "duration": 0.146134,
     "end_time": "2022-03-11T12:05:30.283854",
     "exception": false,
     "start_time": "2022-03-11T12:05:30.137720",
     "status": "completed"
    },
    "tags": []
   },
   "outputs": [
    {
     "data": {
      "text/plain": [
       "0       GLQ\n",
       "1       ALQ\n",
       "2       GLQ\n",
       "3       ALQ\n",
       "4       GLQ\n",
       "       ... \n",
       "1455    Unf\n",
       "1456    ALQ\n",
       "1457    GLQ\n",
       "1458    GLQ\n",
       "1459    BLQ\n",
       "Name: BsmtFinType1, Length: 1458, dtype: object"
      ]
     },
     "execution_count": 76,
     "metadata": {},
     "output_type": "execute_result"
    }
   ],
   "source": [
    "df_train.BsmtFinType1"
   ]
  },
  {
   "cell_type": "code",
   "execution_count": 77,
   "id": "05d6e193",
   "metadata": {
    "execution": {
     "iopub.execute_input": "2022-03-11T12:05:30.559931Z",
     "iopub.status.busy": "2022-03-11T12:05:30.559363Z",
     "iopub.status.idle": "2022-03-11T12:05:30.566093Z",
     "shell.execute_reply": "2022-03-11T12:05:30.565591Z",
     "shell.execute_reply.started": "2022-03-10T15:44:05.089334Z"
    },
    "papermill": {
     "duration": 0.145356,
     "end_time": "2022-03-11T12:05:30.566223",
     "exception": false,
     "start_time": "2022-03-11T12:05:30.420867",
     "status": "completed"
    },
    "tags": []
   },
   "outputs": [
    {
     "data": {
      "text/plain": [
       "37"
      ]
     },
     "execution_count": 77,
     "metadata": {},
     "output_type": "execute_result"
    }
   ],
   "source": [
    "df_train['BsmtFinType1'].isnull().sum()"
   ]
  },
  {
   "cell_type": "code",
   "execution_count": 78,
   "id": "c3b6627b",
   "metadata": {
    "execution": {
     "iopub.execute_input": "2022-03-11T12:05:30.845446Z",
     "iopub.status.busy": "2022-03-11T12:05:30.844866Z",
     "iopub.status.idle": "2022-03-11T12:05:30.846601Z",
     "shell.execute_reply": "2022-03-11T12:05:30.847135Z",
     "shell.execute_reply.started": "2022-03-10T15:44:05.10293Z"
    },
    "papermill": {
     "duration": 0.144329,
     "end_time": "2022-03-11T12:05:30.847295",
     "exception": false,
     "start_time": "2022-03-11T12:05:30.702966",
     "status": "completed"
    },
    "tags": []
   },
   "outputs": [],
   "source": [
    "df_train['BsmtFinType1'].fillna(df_train.BsmtFinType1.mode()[0], inplace = True)"
   ]
  },
  {
   "cell_type": "code",
   "execution_count": 79,
   "id": "a798503e",
   "metadata": {
    "execution": {
     "iopub.execute_input": "2022-03-11T12:05:31.131647Z",
     "iopub.status.busy": "2022-03-11T12:05:31.131068Z",
     "iopub.status.idle": "2022-03-11T12:05:31.136781Z",
     "shell.execute_reply": "2022-03-11T12:05:31.137267Z",
     "shell.execute_reply.started": "2022-03-10T15:44:05.114454Z"
    },
    "papermill": {
     "duration": 0.152467,
     "end_time": "2022-03-11T12:05:31.137428",
     "exception": false,
     "start_time": "2022-03-11T12:05:30.984961",
     "status": "completed"
    },
    "tags": []
   },
   "outputs": [
    {
     "data": {
      "text/plain": [
       "0"
      ]
     },
     "execution_count": 79,
     "metadata": {},
     "output_type": "execute_result"
    }
   ],
   "source": [
    "df_train['BsmtFinType1'].isnull().sum()"
   ]
  },
  {
   "cell_type": "code",
   "execution_count": 80,
   "id": "7733a823",
   "metadata": {
    "execution": {
     "iopub.execute_input": "2022-03-11T12:05:31.428590Z",
     "iopub.status.busy": "2022-03-11T12:05:31.427801Z",
     "iopub.status.idle": "2022-03-11T12:05:31.431591Z",
     "shell.execute_reply": "2022-03-11T12:05:31.431164Z",
     "shell.execute_reply.started": "2022-03-10T15:44:05.129012Z"
    },
    "papermill": {
     "duration": 0.152526,
     "end_time": "2022-03-11T12:05:31.431725",
     "exception": false,
     "start_time": "2022-03-11T12:05:31.279199",
     "status": "completed"
    },
    "tags": []
   },
   "outputs": [
    {
     "data": {
      "text/plain": [
       "0       BrkFace\n",
       "1          None\n",
       "2       BrkFace\n",
       "3          None\n",
       "4       BrkFace\n",
       "         ...   \n",
       "1455       None\n",
       "1456      Stone\n",
       "1457       None\n",
       "1458       None\n",
       "1459       None\n",
       "Name: MasVnrType, Length: 1458, dtype: object"
      ]
     },
     "execution_count": 80,
     "metadata": {},
     "output_type": "execute_result"
    }
   ],
   "source": [
    "df_train.MasVnrType"
   ]
  },
  {
   "cell_type": "code",
   "execution_count": 81,
   "id": "750919d6",
   "metadata": {
    "execution": {
     "iopub.execute_input": "2022-03-11T12:05:31.711196Z",
     "iopub.status.busy": "2022-03-11T12:05:31.710623Z",
     "iopub.status.idle": "2022-03-11T12:05:31.717179Z",
     "shell.execute_reply": "2022-03-11T12:05:31.717649Z",
     "shell.execute_reply.started": "2022-03-10T15:44:05.141974Z"
    },
    "papermill": {
     "duration": 0.148147,
     "end_time": "2022-03-11T12:05:31.717824",
     "exception": false,
     "start_time": "2022-03-11T12:05:31.569677",
     "status": "completed"
    },
    "tags": []
   },
   "outputs": [
    {
     "data": {
      "text/plain": [
       "0       196.0\n",
       "1         0.0\n",
       "2       162.0\n",
       "3         0.0\n",
       "4       350.0\n",
       "        ...  \n",
       "1455      0.0\n",
       "1456    119.0\n",
       "1457      0.0\n",
       "1458      0.0\n",
       "1459      0.0\n",
       "Name: MasVnrArea, Length: 1458, dtype: float64"
      ]
     },
     "execution_count": 81,
     "metadata": {},
     "output_type": "execute_result"
    }
   ],
   "source": [
    "df_train.MasVnrArea"
   ]
  },
  {
   "cell_type": "code",
   "execution_count": 82,
   "id": "45839187",
   "metadata": {
    "execution": {
     "iopub.execute_input": "2022-03-11T12:05:31.997198Z",
     "iopub.status.busy": "2022-03-11T12:05:31.996596Z",
     "iopub.status.idle": "2022-03-11T12:05:32.002351Z",
     "shell.execute_reply": "2022-03-11T12:05:32.002804Z",
     "shell.execute_reply.started": "2022-03-10T15:44:05.159619Z"
    },
    "papermill": {
     "duration": 0.147839,
     "end_time": "2022-03-11T12:05:32.002977",
     "exception": false,
     "start_time": "2022-03-11T12:05:31.855138",
     "status": "completed"
    },
    "tags": []
   },
   "outputs": [
    {
     "data": {
      "text/plain": [
       "8"
      ]
     },
     "execution_count": 82,
     "metadata": {},
     "output_type": "execute_result"
    }
   ],
   "source": [
    "df_train['MasVnrArea'].isnull().sum()"
   ]
  },
  {
   "cell_type": "code",
   "execution_count": 83,
   "id": "5d2d2883",
   "metadata": {
    "execution": {
     "iopub.execute_input": "2022-03-11T12:05:32.302272Z",
     "iopub.status.busy": "2022-03-11T12:05:32.299586Z",
     "iopub.status.idle": "2022-03-11T12:05:32.591526Z",
     "shell.execute_reply": "2022-03-11T12:05:32.590934Z",
     "shell.execute_reply.started": "2022-03-10T15:44:05.170363Z"
    },
    "papermill": {
     "duration": 0.450762,
     "end_time": "2022-03-11T12:05:32.591666",
     "exception": false,
     "start_time": "2022-03-11T12:05:32.140904",
     "status": "completed"
    },
    "tags": []
   },
   "outputs": [
    {
     "name": "stderr",
     "output_type": "stream",
     "text": [
      "/opt/conda/lib/python3.7/site-packages/seaborn/distributions.py:2619: FutureWarning: `distplot` is a deprecated function and will be removed in a future version. Please adapt your code to use either `displot` (a figure-level function with similar flexibility) or `histplot` (an axes-level function for histograms).\n",
      "  warnings.warn(msg, FutureWarning)\n"
     ]
    },
    {
     "data": {
      "image/png": "[encoded data removed]",
      "text/plain": [
       "<Figure size 432x288 with 1 Axes>"
      ]
     },
     "metadata": {
      "needs_background": "light"
     },
     "output_type": "display_data"
    }
   ],
   "source": [
    "ax = sns.distplot(df_train['MasVnrArea'])"
   ]
  },
  {
   "cell_type": "code",
   "execution_count": 84,
   "id": "afacc966",
   "metadata": {
    "execution": {
     "iopub.execute_input": "2022-03-11T12:05:32.872682Z",
     "iopub.status.busy": "2022-03-11T12:05:32.872093Z",
     "iopub.status.idle": "2022-03-11T12:05:32.876676Z",
     "shell.execute_reply": "2022-03-11T12:05:32.876070Z",
     "shell.execute_reply.started": "2022-03-10T15:44:05.511961Z"
    },
    "papermill": {
     "duration": 0.146127,
     "end_time": "2022-03-11T12:05:32.876834",
     "exception": false,
     "start_time": "2022-03-11T12:05:32.730707",
     "status": "completed"
    },
    "tags": []
   },
   "outputs": [],
   "source": [
    "df_train['MasVnrArea'].fillna(df_train.MasVnrArea.median(), inplace = True)"
   ]
  },
  {
   "cell_type": "code",
   "execution_count": 85,
   "id": "ee449d09",
   "metadata": {
    "execution": {
     "iopub.execute_input": "2022-03-11T12:05:33.164010Z",
     "iopub.status.busy": "2022-03-11T12:05:33.163257Z",
     "iopub.status.idle": "2022-03-11T12:05:33.165678Z",
     "shell.execute_reply": "2022-03-11T12:05:33.166204Z",
     "shell.execute_reply.started": "2022-03-10T15:44:05.518464Z"
    },
    "papermill": {
     "duration": 0.148897,
     "end_time": "2022-03-11T12:05:33.166382",
     "exception": false,
     "start_time": "2022-03-11T12:05:33.017485",
     "status": "completed"
    },
    "tags": []
   },
   "outputs": [
    {
     "data": {
      "text/plain": [
       "0"
      ]
     },
     "execution_count": 85,
     "metadata": {},
     "output_type": "execute_result"
    }
   ],
   "source": [
    "df_train['MasVnrArea'].isnull().sum()"
   ]
  },
  {
   "cell_type": "code",
   "execution_count": 86,
   "id": "c6fab6ef",
   "metadata": {
    "execution": {
     "iopub.execute_input": "2022-03-11T12:05:33.455313Z",
     "iopub.status.busy": "2022-03-11T12:05:33.454683Z",
     "iopub.status.idle": "2022-03-11T12:05:33.457605Z",
     "shell.execute_reply": "2022-03-11T12:05:33.458062Z",
     "shell.execute_reply.started": "2022-03-10T15:44:05.533281Z"
    },
    "papermill": {
     "duration": 0.151612,
     "end_time": "2022-03-11T12:05:33.458240",
     "exception": false,
     "start_time": "2022-03-11T12:05:33.306628",
     "status": "completed"
    },
    "tags": []
   },
   "outputs": [
    {
     "data": {
      "text/plain": [
       "0       BrkFace\n",
       "1          None\n",
       "2       BrkFace\n",
       "3          None\n",
       "4       BrkFace\n",
       "         ...   \n",
       "1455       None\n",
       "1456      Stone\n",
       "1457       None\n",
       "1458       None\n",
       "1459       None\n",
       "Name: MasVnrType, Length: 1458, dtype: object"
      ]
     },
     "execution_count": 86,
     "metadata": {},
     "output_type": "execute_result"
    }
   ],
   "source": [
    "df_train.MasVnrType"
   ]
  },
  {
   "cell_type": "code",
   "execution_count": 87,
   "id": "00be7cdb",
   "metadata": {
    "execution": {
     "iopub.execute_input": "2022-03-11T12:05:33.746172Z",
     "iopub.status.busy": "2022-03-11T12:05:33.745155Z",
     "iopub.status.idle": "2022-03-11T12:05:33.752197Z",
     "shell.execute_reply": "2022-03-11T12:05:33.752699Z",
     "shell.execute_reply.started": "2022-03-10T15:44:05.54763Z"
    },
    "papermill": {
     "duration": 0.15225,
     "end_time": "2022-03-11T12:05:33.752881",
     "exception": false,
     "start_time": "2022-03-11T12:05:33.600631",
     "status": "completed"
    },
    "tags": []
   },
   "outputs": [
    {
     "data": {
      "text/plain": [
       "0       SBrkr\n",
       "1       SBrkr\n",
       "2       SBrkr\n",
       "3       SBrkr\n",
       "4       SBrkr\n",
       "        ...  \n",
       "1455    SBrkr\n",
       "1456    SBrkr\n",
       "1457    SBrkr\n",
       "1458    FuseA\n",
       "1459    SBrkr\n",
       "Name: Electrical, Length: 1458, dtype: object"
      ]
     },
     "execution_count": 87,
     "metadata": {},
     "output_type": "execute_result"
    }
   ],
   "source": [
    "df_train.Electrical"
   ]
  },
  {
   "cell_type": "code",
   "execution_count": 88,
   "id": "fe593ac6",
   "metadata": {
    "execution": {
     "iopub.execute_input": "2022-03-11T12:05:34.038065Z",
     "iopub.status.busy": "2022-03-11T12:05:34.037165Z",
     "iopub.status.idle": "2022-03-11T12:05:34.046574Z",
     "shell.execute_reply": "2022-03-11T12:05:34.047067Z",
     "shell.execute_reply.started": "2022-03-10T15:44:05.562677Z"
    },
    "papermill": {
     "duration": 0.153356,
     "end_time": "2022-03-11T12:05:34.047233",
     "exception": false,
     "start_time": "2022-03-11T12:05:33.893877",
     "status": "completed"
    },
    "tags": []
   },
   "outputs": [],
   "source": [
    "df_train.dropna(inplace=True)"
   ]
  },
  {
   "cell_type": "code",
   "execution_count": 89,
   "id": "5197b7c5",
   "metadata": {
    "execution": {
     "iopub.execute_input": "2022-03-11T12:05:34.341085Z",
     "iopub.status.busy": "2022-03-11T12:05:34.340171Z",
     "iopub.status.idle": "2022-03-11T12:05:34.350958Z",
     "shell.execute_reply": "2022-03-11T12:05:34.351488Z",
     "shell.execute_reply.started": "2022-03-10T15:44:05.582121Z"
    },
    "papermill": {
     "duration": 0.162636,
     "end_time": "2022-03-11T12:05:34.351652",
     "exception": false,
     "start_time": "2022-03-11T12:05:34.189016",
     "status": "completed"
    },
    "tags": []
   },
   "outputs": [
    {
     "data": {
      "text/plain": [
       "Id               0\n",
       "MSSubClass       0\n",
       "MSZoning         0\n",
       "LotFrontage      0\n",
       "LotArea          0\n",
       "                ..\n",
       "MoSold           0\n",
       "YrSold           0\n",
       "SaleType         0\n",
       "SaleCondition    0\n",
       "SalePrice        0\n",
       "Length: 76, dtype: int64"
      ]
     },
     "execution_count": 89,
     "metadata": {},
     "output_type": "execute_result"
    }
   ],
   "source": [
    "df_train.isnull().sum()"
   ]
  },
  {
   "cell_type": "code",
   "execution_count": 90,
   "id": "3f0b0af3",
   "metadata": {
    "execution": {
     "iopub.execute_input": "2022-03-11T12:05:34.642516Z",
     "iopub.status.busy": "2022-03-11T12:05:34.641881Z",
     "iopub.status.idle": "2022-03-11T12:05:34.651124Z",
     "shell.execute_reply": "2022-03-11T12:05:34.651632Z",
     "shell.execute_reply.started": "2022-03-10T15:44:05.604618Z"
    },
    "papermill": {
     "duration": 0.158603,
     "end_time": "2022-03-11T12:05:34.651815",
     "exception": false,
     "start_time": "2022-03-11T12:05:34.493212",
     "status": "completed"
    },
    "tags": []
   },
   "outputs": [
    {
     "data": {
      "text/html": [
       "<div>\n",
       "<style scoped>\n",
       "    .dataframe tbody tr th:only-of-type {\n",
       "        vertical-align: middle;\n",
       "    }\n",
       "\n",
       "    .dataframe tbody tr th {\n",
       "        vertical-align: top;\n",
       "    }\n",
       "\n",
       "    .dataframe thead th {\n",
       "        text-align: right;\n",
       "    }\n",
       "</style>\n",
       "<table border=\"1\" class=\"dataframe\">\n",
       "  <thead>\n",
       "    <tr style=\"text-align: right;\">\n",
       "      <th></th>\n",
       "      <th>Missing Ratio</th>\n",
       "    </tr>\n",
       "  </thead>\n",
       "  <tbody>\n",
       "  </tbody>\n",
       "</table>\n",
       "</div>"
      ],
      "text/plain": [
       "Empty DataFrame\n",
       "Columns: [Missing Ratio]\n",
       "Index: []"
      ]
     },
     "execution_count": 90,
     "metadata": {},
     "output_type": "execute_result"
    }
   ],
   "source": [
    "df_train_nu = (df_train.isnull().sum() / len(df_train)) * 100\n",
    "df_train_nu = df_train_nu.drop(df_train_nu[df_train_nu == 0].index).sort_values(ascending=False)[:30]\n",
    "missing_data = pd.DataFrame({'Missing Ratio' :df_train_nu})\n",
    "missing_data.head(100)"
   ]
  },
  {
   "cell_type": "code",
   "execution_count": 91,
   "id": "30dc9102",
   "metadata": {
    "execution": {
     "iopub.execute_input": "2022-03-11T12:05:34.938344Z",
     "iopub.status.busy": "2022-03-11T12:05:34.937397Z",
     "iopub.status.idle": "2022-03-11T12:05:36.015627Z",
     "shell.execute_reply": "2022-03-11T12:05:36.016147Z",
     "shell.execute_reply.started": "2022-03-10T15:44:05.627575Z"
    },
    "papermill": {
     "duration": 1.223774,
     "end_time": "2022-03-11T12:05:36.016325",
     "exception": false,
     "start_time": "2022-03-11T12:05:34.792551",
     "status": "completed"
    },
    "tags": []
   },
   "outputs": [
    {
     "data": {
      "text/plain": [
       "<AxesSubplot:>"
      ]
     },
     "execution_count": 91,
     "metadata": {},
     "output_type": "execute_result"
    },
    {
     "data": {
      "image/png": "[encoded data removed]",
      "text/plain": [
       "<Figure size 1440x1440 with 2 Axes>"
      ]
     },
     "metadata": {
      "needs_background": "light"
     },
     "output_type": "display_data"
    }
   ],
   "source": [
    "corrmat = df_train.corr()\n",
    "plt.subplots(figsize=(20,20))\n",
    "sns.heatmap(corrmat, vmax=1.1, square=True)"
   ]
  },
  {
   "cell_type": "code",
   "execution_count": 92,
   "id": "3c890253",
   "metadata": {
    "execution": {
     "iopub.execute_input": "2022-03-11T12:05:36.313935Z",
     "iopub.status.busy": "2022-03-11T12:05:36.312975Z",
     "iopub.status.idle": "2022-03-11T12:05:36.327585Z",
     "shell.execute_reply": "2022-03-11T12:05:36.328418Z",
     "shell.execute_reply.started": "2022-03-10T15:44:06.745326Z"
    },
    "papermill": {
     "duration": 0.166196,
     "end_time": "2022-03-11T12:05:36.328647",
     "exception": false,
     "start_time": "2022-03-11T12:05:36.162451",
     "status": "completed"
    },
    "tags": []
   },
   "outputs": [
    {
     "name": "stdout",
     "output_type": "stream",
     "text": [
      "<class 'pandas.core.frame.DataFrame'>\n",
      "Int64Index: 1449 entries, 0 to 1459\n",
      "Data columns (total 76 columns):\n",
      " #   Column         Non-Null Count  Dtype  \n",
      "---  ------         --------------  -----  \n",
      " 0   Id             1449 non-null   int64  \n",
      " 1   MSSubClass     1449 non-null   int64  \n",
      " 2   MSZoning       1449 non-null   object \n",
      " 3   LotFrontage    1449 non-null   float64\n",
      " 4   LotArea        1449 non-null   int64  \n",
      " 5   Street         1449 non-null   object \n",
      " 6   LotShape       1449 non-null   object \n",
      " 7   LandContour    1449 non-null   object \n",
      " 8   Utilities      1449 non-null   object \n",
      " 9   LotConfig      1449 non-null   object \n",
      " 10  LandSlope      1449 non-null   object \n",
      " 11  Neighborhood   1449 non-null   object \n",
      " 12  Condition1     1449 non-null   object \n",
      " 13  Condition2     1449 non-null   object \n",
      " 14  BldgType       1449 non-null   object \n",
      " 15  HouseStyle     1449 non-null   object \n",
      " 16  OverallQual    1449 non-null   int64  \n",
      " 17  OverallCond    1449 non-null   int64  \n",
      " 18  YearBuilt      1449 non-null   int64  \n",
      " 19  YearRemodAdd   1449 non-null   int64  \n",
      " 20  RoofStyle      1449 non-null   object \n",
      " 21  RoofMatl       1449 non-null   object \n",
      " 22  Exterior1st    1449 non-null   object \n",
      " 23  Exterior2nd    1449 non-null   object \n",
      " 24  MasVnrType     1449 non-null   object \n",
      " 25  MasVnrArea     1449 non-null   float64\n",
      " 26  ExterQual      1449 non-null   object \n",
      " 27  ExterCond      1449 non-null   object \n",
      " 28  Foundation     1449 non-null   object \n",
      " 29  BsmtQual       1449 non-null   object \n",
      " 30  BsmtCond       1449 non-null   object \n",
      " 31  BsmtExposure   1449 non-null   object \n",
      " 32  BsmtFinType1   1449 non-null   object \n",
      " 33  BsmtFinSF1     1449 non-null   int64  \n",
      " 34  BsmtFinType2   1449 non-null   object \n",
      " 35  BsmtFinSF2     1449 non-null   int64  \n",
      " 36  BsmtUnfSF      1449 non-null   int64  \n",
      " 37  TotalBsmtSF    1449 non-null   int64  \n",
      " 38  Heating        1449 non-null   object \n",
      " 39  HeatingQC      1449 non-null   object \n",
      " 40  CentralAir     1449 non-null   object \n",
      " 41  Electrical     1449 non-null   object \n",
      " 42  1stFlrSF       1449 non-null   int64  \n",
      " 43  2ndFlrSF       1449 non-null   int64  \n",
      " 44  LowQualFinSF   1449 non-null   int64  \n",
      " 45  GrLivArea      1449 non-null   int64  \n",
      " 46  BsmtFullBath   1449 non-null   int64  \n",
      " 47  BsmtHalfBath   1449 non-null   int64  \n",
      " 48  FullBath       1449 non-null   int64  \n",
      " 49  HalfBath       1449 non-null   int64  \n",
      " 50  BedroomAbvGr   1449 non-null   int64  \n",
      " 51  KitchenAbvGr   1449 non-null   int64  \n",
      " 52  KitchenQual    1449 non-null   object \n",
      " 53  TotRmsAbvGrd   1449 non-null   int64  \n",
      " 54  Functional     1449 non-null   object \n",
      " 55  Fireplaces     1449 non-null   int64  \n",
      " 56  GarageType     1449 non-null   object \n",
      " 57  GarageYrBlt    1449 non-null   float64\n",
      " 58  GarageFinish   1449 non-null   object \n",
      " 59  GarageCars     1449 non-null   int64  \n",
      " 60  GarageArea     1449 non-null   int64  \n",
      " 61  GarageQual     1449 non-null   object \n",
      " 62  GarageCond     1449 non-null   object \n",
      " 63  PavedDrive     1449 non-null   object \n",
      " 64  WoodDeckSF     1449 non-null   int64  \n",
      " 65  OpenPorchSF    1449 non-null   int64  \n",
      " 66  EnclosedPorch  1449 non-null   int64  \n",
      " 67  3SsnPorch      1449 non-null   int64  \n",
      " 68  ScreenPorch    1449 non-null   int64  \n",
      " 69  PoolArea       1449 non-null   int64  \n",
      " 70  MiscVal        1449 non-null   int64  \n",
      " 71  MoSold         1449 non-null   int64  \n",
      " 72  YrSold         1449 non-null   int64  \n",
      " 73  SaleType       1449 non-null   object \n",
      " 74  SaleCondition  1449 non-null   object \n",
      " 75  SalePrice      1449 non-null   float64\n",
      "dtypes: float64(4), int64(34), object(38)\n",
      "memory usage: 871.7+ KB\n"
     ]
    }
   ],
   "source": [
    "df_train.info()"
   ]
  },
  {
   "cell_type": "code",
   "execution_count": 93,
   "id": "34794c9c",
   "metadata": {
    "execution": {
     "iopub.execute_input": "2022-03-11T12:05:36.626371Z",
     "iopub.status.busy": "2022-03-11T12:05:36.625375Z",
     "iopub.status.idle": "2022-03-11T12:05:36.652087Z",
     "shell.execute_reply": "2022-03-11T12:05:36.652512Z",
     "shell.execute_reply.started": "2022-03-10T15:44:06.771233Z"
    },
    "papermill": {
     "duration": 0.177291,
     "end_time": "2022-03-11T12:05:36.652684",
     "exception": false,
     "start_time": "2022-03-11T12:05:36.475393",
     "status": "completed"
    },
    "tags": []
   },
   "outputs": [
    {
     "data": {
      "text/html": [
       "<div>\n",
       "<style scoped>\n",
       "    .dataframe tbody tr th:only-of-type {\n",
       "        vertical-align: middle;\n",
       "    }\n",
       "\n",
       "    .dataframe tbody tr th {\n",
       "        vertical-align: top;\n",
       "    }\n",
       "\n",
       "    .dataframe thead th {\n",
       "        text-align: right;\n",
       "    }\n",
       "</style>\n",
       "<table border=\"1\" class=\"dataframe\">\n",
       "  <thead>\n",
       "    <tr style=\"text-align: right;\">\n",
       "      <th></th>\n",
       "      <th>MSZoning</th>\n",
       "      <th>Street</th>\n",
       "      <th>LotShape</th>\n",
       "      <th>LandContour</th>\n",
       "      <th>Utilities</th>\n",
       "      <th>LotConfig</th>\n",
       "      <th>LandSlope</th>\n",
       "      <th>Neighborhood</th>\n",
       "      <th>Condition1</th>\n",
       "      <th>Condition2</th>\n",
       "      <th>...</th>\n",
       "      <th>Electrical</th>\n",
       "      <th>KitchenQual</th>\n",
       "      <th>Functional</th>\n",
       "      <th>GarageType</th>\n",
       "      <th>GarageFinish</th>\n",
       "      <th>GarageQual</th>\n",
       "      <th>GarageCond</th>\n",
       "      <th>PavedDrive</th>\n",
       "      <th>SaleType</th>\n",
       "      <th>SaleCondition</th>\n",
       "    </tr>\n",
       "  </thead>\n",
       "  <tbody>\n",
       "    <tr>\n",
       "      <th>0</th>\n",
       "      <td>RL</td>\n",
       "      <td>Pave</td>\n",
       "      <td>Reg</td>\n",
       "      <td>Lvl</td>\n",
       "      <td>AllPub</td>\n",
       "      <td>Inside</td>\n",
       "      <td>Gtl</td>\n",
       "      <td>CollgCr</td>\n",
       "      <td>Norm</td>\n",
       "      <td>Norm</td>\n",
       "      <td>...</td>\n",
       "      <td>SBrkr</td>\n",
       "      <td>Gd</td>\n",
       "      <td>Typ</td>\n",
       "      <td>Attchd</td>\n",
       "      <td>RFn</td>\n",
       "      <td>TA</td>\n",
       "      <td>TA</td>\n",
       "      <td>Y</td>\n",
       "      <td>WD</td>\n",
       "      <td>Normal</td>\n",
       "    </tr>\n",
       "    <tr>\n",
       "      <th>1</th>\n",
       "      <td>RL</td>\n",
       "      <td>Pave</td>\n",
       "      <td>Reg</td>\n",
       "      <td>Lvl</td>\n",
       "      <td>AllPub</td>\n",
       "      <td>FR2</td>\n",
       "      <td>Gtl</td>\n",
       "      <td>Veenker</td>\n",
       "      <td>Feedr</td>\n",
       "      <td>Norm</td>\n",
       "      <td>...</td>\n",
       "      <td>SBrkr</td>\n",
       "      <td>TA</td>\n",
       "      <td>Typ</td>\n",
       "      <td>Attchd</td>\n",
       "      <td>RFn</td>\n",
       "      <td>TA</td>\n",
       "      <td>TA</td>\n",
       "      <td>Y</td>\n",
       "      <td>WD</td>\n",
       "      <td>Normal</td>\n",
       "    </tr>\n",
       "    <tr>\n",
       "      <th>2</th>\n",
       "      <td>RL</td>\n",
       "      <td>Pave</td>\n",
       "      <td>IR1</td>\n",
       "      <td>Lvl</td>\n",
       "      <td>AllPub</td>\n",
       "      <td>Inside</td>\n",
       "      <td>Gtl</td>\n",
       "      <td>CollgCr</td>\n",
       "      <td>Norm</td>\n",
       "      <td>Norm</td>\n",
       "      <td>...</td>\n",
       "      <td>SBrkr</td>\n",
       "      <td>Gd</td>\n",
       "      <td>Typ</td>\n",
       "      <td>Attchd</td>\n",
       "      <td>RFn</td>\n",
       "      <td>TA</td>\n",
       "      <td>TA</td>\n",
       "      <td>Y</td>\n",
       "      <td>WD</td>\n",
       "      <td>Normal</td>\n",
       "    </tr>\n",
       "    <tr>\n",
       "      <th>3</th>\n",
       "      <td>RL</td>\n",
       "      <td>Pave</td>\n",
       "      <td>IR1</td>\n",
       "      <td>Lvl</td>\n",
       "      <td>AllPub</td>\n",
       "      <td>Corner</td>\n",
       "      <td>Gtl</td>\n",
       "      <td>Crawfor</td>\n",
       "      <td>Norm</td>\n",
       "      <td>Norm</td>\n",
       "      <td>...</td>\n",
       "      <td>SBrkr</td>\n",
       "      <td>Gd</td>\n",
       "      <td>Typ</td>\n",
       "      <td>Detchd</td>\n",
       "      <td>Unf</td>\n",
       "      <td>TA</td>\n",
       "      <td>TA</td>\n",
       "      <td>Y</td>\n",
       "      <td>WD</td>\n",
       "      <td>Abnorml</td>\n",
       "    </tr>\n",
       "    <tr>\n",
       "      <th>4</th>\n",
       "      <td>RL</td>\n",
       "      <td>Pave</td>\n",
       "      <td>IR1</td>\n",
       "      <td>Lvl</td>\n",
       "      <td>AllPub</td>\n",
       "      <td>FR2</td>\n",
       "      <td>Gtl</td>\n",
       "      <td>NoRidge</td>\n",
       "      <td>Norm</td>\n",
       "      <td>Norm</td>\n",
       "      <td>...</td>\n",
       "      <td>SBrkr</td>\n",
       "      <td>Gd</td>\n",
       "      <td>Typ</td>\n",
       "      <td>Attchd</td>\n",
       "      <td>RFn</td>\n",
       "      <td>TA</td>\n",
       "      <td>TA</td>\n",
       "      <td>Y</td>\n",
       "      <td>WD</td>\n",
       "      <td>Normal</td>\n",
       "    </tr>\n",
       "    <tr>\n",
       "      <th>...</th>\n",
       "      <td>...</td>\n",
       "      <td>...</td>\n",
       "      <td>...</td>\n",
       "      <td>...</td>\n",
       "      <td>...</td>\n",
       "      <td>...</td>\n",
       "      <td>...</td>\n",
       "      <td>...</td>\n",
       "      <td>...</td>\n",
       "      <td>...</td>\n",
       "      <td>...</td>\n",
       "      <td>...</td>\n",
       "      <td>...</td>\n",
       "      <td>...</td>\n",
       "      <td>...</td>\n",
       "      <td>...</td>\n",
       "      <td>...</td>\n",
       "      <td>...</td>\n",
       "      <td>...</td>\n",
       "      <td>...</td>\n",
       "      <td>...</td>\n",
       "    </tr>\n",
       "    <tr>\n",
       "      <th>1455</th>\n",
       "      <td>RL</td>\n",
       "      <td>Pave</td>\n",
       "      <td>Reg</td>\n",
       "      <td>Lvl</td>\n",
       "      <td>AllPub</td>\n",
       "      <td>Inside</td>\n",
       "      <td>Gtl</td>\n",
       "      <td>Gilbert</td>\n",
       "      <td>Norm</td>\n",
       "      <td>Norm</td>\n",
       "      <td>...</td>\n",
       "      <td>SBrkr</td>\n",
       "      <td>TA</td>\n",
       "      <td>Typ</td>\n",
       "      <td>Attchd</td>\n",
       "      <td>RFn</td>\n",
       "      <td>TA</td>\n",
       "      <td>TA</td>\n",
       "      <td>Y</td>\n",
       "      <td>WD</td>\n",
       "      <td>Normal</td>\n",
       "    </tr>\n",
       "    <tr>\n",
       "      <th>1456</th>\n",
       "      <td>RL</td>\n",
       "      <td>Pave</td>\n",
       "      <td>Reg</td>\n",
       "      <td>Lvl</td>\n",
       "      <td>AllPub</td>\n",
       "      <td>Inside</td>\n",
       "      <td>Gtl</td>\n",
       "      <td>NWAmes</td>\n",
       "      <td>Norm</td>\n",
       "      <td>Norm</td>\n",
       "      <td>...</td>\n",
       "      <td>SBrkr</td>\n",
       "      <td>TA</td>\n",
       "      <td>Min1</td>\n",
       "      <td>Attchd</td>\n",
       "      <td>Unf</td>\n",
       "      <td>TA</td>\n",
       "      <td>TA</td>\n",
       "      <td>Y</td>\n",
       "      <td>WD</td>\n",
       "      <td>Normal</td>\n",
       "    </tr>\n",
       "    <tr>\n",
       "      <th>1457</th>\n",
       "      <td>RL</td>\n",
       "      <td>Pave</td>\n",
       "      <td>Reg</td>\n",
       "      <td>Lvl</td>\n",
       "      <td>AllPub</td>\n",
       "      <td>Inside</td>\n",
       "      <td>Gtl</td>\n",
       "      <td>Crawfor</td>\n",
       "      <td>Norm</td>\n",
       "      <td>Norm</td>\n",
       "      <td>...</td>\n",
       "      <td>SBrkr</td>\n",
       "      <td>Gd</td>\n",
       "      <td>Typ</td>\n",
       "      <td>Attchd</td>\n",
       "      <td>RFn</td>\n",
       "      <td>TA</td>\n",
       "      <td>TA</td>\n",
       "      <td>Y</td>\n",
       "      <td>WD</td>\n",
       "      <td>Normal</td>\n",
       "    </tr>\n",
       "    <tr>\n",
       "      <th>1458</th>\n",
       "      <td>RL</td>\n",
       "      <td>Pave</td>\n",
       "      <td>Reg</td>\n",
       "      <td>Lvl</td>\n",
       "      <td>AllPub</td>\n",
       "      <td>Inside</td>\n",
       "      <td>Gtl</td>\n",
       "      <td>NAmes</td>\n",
       "      <td>Norm</td>\n",
       "      <td>Norm</td>\n",
       "      <td>...</td>\n",
       "      <td>FuseA</td>\n",
       "      <td>Gd</td>\n",
       "      <td>Typ</td>\n",
       "      <td>Attchd</td>\n",
       "      <td>Unf</td>\n",
       "      <td>TA</td>\n",
       "      <td>TA</td>\n",
       "      <td>Y</td>\n",
       "      <td>WD</td>\n",
       "      <td>Normal</td>\n",
       "    </tr>\n",
       "    <tr>\n",
       "      <th>1459</th>\n",
       "      <td>RL</td>\n",
       "      <td>Pave</td>\n",
       "      <td>Reg</td>\n",
       "      <td>Lvl</td>\n",
       "      <td>AllPub</td>\n",
       "      <td>Inside</td>\n",
       "      <td>Gtl</td>\n",
       "      <td>Edwards</td>\n",
       "      <td>Norm</td>\n",
       "      <td>Norm</td>\n",
       "      <td>...</td>\n",
       "      <td>SBrkr</td>\n",
       "      <td>TA</td>\n",
       "      <td>Typ</td>\n",
       "      <td>Attchd</td>\n",
       "      <td>Fin</td>\n",
       "      <td>TA</td>\n",
       "      <td>TA</td>\n",
       "      <td>Y</td>\n",
       "      <td>WD</td>\n",
       "      <td>Normal</td>\n",
       "    </tr>\n",
       "  </tbody>\n",
       "</table>\n",
       "<p>1449 rows × 38 columns</p>\n",
       "</div>"
      ],
      "text/plain": [
       "     MSZoning Street LotShape LandContour Utilities LotConfig LandSlope  \\\n",
       "0          RL   Pave      Reg         Lvl    AllPub    Inside       Gtl   \n",
       "1          RL   Pave      Reg         Lvl    AllPub       FR2       Gtl   \n",
       "2          RL   Pave      IR1         Lvl    AllPub    Inside       Gtl   \n",
       "3          RL   Pave      IR1         Lvl    AllPub    Corner       Gtl   \n",
       "4          RL   Pave      IR1         Lvl    AllPub       FR2       Gtl   \n",
       "...       ...    ...      ...         ...       ...       ...       ...   \n",
       "1455       RL   Pave      Reg         Lvl    AllPub    Inside       Gtl   \n",
       "1456       RL   Pave      Reg         Lvl    AllPub    Inside       Gtl   \n",
       "1457       RL   Pave      Reg         Lvl    AllPub    Inside       Gtl   \n",
       "1458       RL   Pave      Reg         Lvl    AllPub    Inside       Gtl   \n",
       "1459       RL   Pave      Reg         Lvl    AllPub    Inside       Gtl   \n",
       "\n",
       "     Neighborhood Condition1 Condition2  ... Electrical KitchenQual  \\\n",
       "0         CollgCr       Norm       Norm  ...      SBrkr          Gd   \n",
       "1         Veenker      Feedr       Norm  ...      SBrkr          TA   \n",
       "2         CollgCr       Norm       Norm  ...      SBrkr          Gd   \n",
       "3         Crawfor       Norm       Norm  ...      SBrkr          Gd   \n",
       "4         NoRidge       Norm       Norm  ...      SBrkr          Gd   \n",
       "...           ...        ...        ...  ...        ...         ...   \n",
       "1455      Gilbert       Norm       Norm  ...      SBrkr          TA   \n",
       "1456       NWAmes       Norm       Norm  ...      SBrkr          TA   \n",
       "1457      Crawfor       Norm       Norm  ...      SBrkr          Gd   \n",
       "1458        NAmes       Norm       Norm  ...      FuseA          Gd   \n",
       "1459      Edwards       Norm       Norm  ...      SBrkr          TA   \n",
       "\n",
       "     Functional GarageType GarageFinish GarageQual GarageCond PavedDrive  \\\n",
       "0           Typ     Attchd          RFn         TA         TA          Y   \n",
       "1           Typ     Attchd          RFn         TA         TA          Y   \n",
       "2           Typ     Attchd          RFn         TA         TA          Y   \n",
       "3           Typ     Detchd          Unf         TA         TA          Y   \n",
       "4           Typ     Attchd          RFn         TA         TA          Y   \n",
       "...         ...        ...          ...        ...        ...        ...   \n",
       "1455        Typ     Attchd          RFn         TA         TA          Y   \n",
       "1456       Min1     Attchd          Unf         TA         TA          Y   \n",
       "1457        Typ     Attchd          RFn         TA         TA          Y   \n",
       "1458        Typ     Attchd          Unf         TA         TA          Y   \n",
       "1459        Typ     Attchd          Fin         TA         TA          Y   \n",
       "\n",
       "     SaleType SaleCondition  \n",
       "0          WD        Normal  \n",
       "1          WD        Normal  \n",
       "2          WD        Normal  \n",
       "3          WD       Abnorml  \n",
       "4          WD        Normal  \n",
       "...       ...           ...  \n",
       "1455       WD        Normal  \n",
       "1456       WD        Normal  \n",
       "1457       WD        Normal  \n",
       "1458       WD        Normal  \n",
       "1459       WD        Normal  \n",
       "\n",
       "[1449 rows x 38 columns]"
      ]
     },
     "execution_count": 93,
     "metadata": {},
     "output_type": "execute_result"
    }
   ],
   "source": [
    "df_train.select_dtypes(include=['object'])"
   ]
  },
  {
   "cell_type": "code",
   "execution_count": 94,
   "id": "568ac31b",
   "metadata": {
    "execution": {
     "iopub.execute_input": "2022-03-11T12:05:36.950823Z",
     "iopub.status.busy": "2022-03-11T12:05:36.949867Z",
     "iopub.status.idle": "2022-03-11T12:05:36.955966Z",
     "shell.execute_reply": "2022-03-11T12:05:36.956506Z",
     "shell.execute_reply.started": "2022-03-10T15:44:06.808191Z"
    },
    "papermill": {
     "duration": 0.156966,
     "end_time": "2022-03-11T12:05:36.956681",
     "exception": false,
     "start_time": "2022-03-11T12:05:36.799715",
     "status": "completed"
    },
    "tags": []
   },
   "outputs": [],
   "source": [
    "df_train_object=df_train.select_dtypes(include=['object'])"
   ]
  },
  {
   "cell_type": "code",
   "execution_count": 95,
   "id": "81516954",
   "metadata": {
    "execution": {
     "iopub.execute_input": "2022-03-11T12:05:37.260010Z",
     "iopub.status.busy": "2022-03-11T12:05:37.259036Z",
     "iopub.status.idle": "2022-03-11T12:05:37.265584Z",
     "shell.execute_reply": "2022-03-11T12:05:37.265060Z",
     "shell.execute_reply.started": "2022-03-10T15:44:06.815978Z"
    },
    "papermill": {
     "duration": 0.158234,
     "end_time": "2022-03-11T12:05:37.265730",
     "exception": false,
     "start_time": "2022-03-11T12:05:37.107496",
     "status": "completed"
    },
    "tags": []
   },
   "outputs": [
    {
     "data": {
      "text/plain": [
       "Index(['MSZoning', 'Street', 'LotShape', 'LandContour', 'Utilities',\n",
       "       'LotConfig', 'LandSlope', 'Neighborhood', 'Condition1', 'Condition2',\n",
       "       'BldgType', 'HouseStyle', 'RoofStyle', 'RoofMatl', 'Exterior1st',\n",
       "       'Exterior2nd', 'MasVnrType', 'ExterQual', 'ExterCond', 'Foundation',\n",
       "       'BsmtQual', 'BsmtCond', 'BsmtExposure', 'BsmtFinType1', 'BsmtFinType2',\n",
       "       'Heating', 'HeatingQC', 'CentralAir', 'Electrical', 'KitchenQual',\n",
       "       'Functional', 'GarageType', 'GarageFinish', 'GarageQual', 'GarageCond',\n",
       "       'PavedDrive', 'SaleType', 'SaleCondition'],\n",
       "      dtype='object')"
      ]
     },
     "execution_count": 95,
     "metadata": {},
     "output_type": "execute_result"
    }
   ],
   "source": [
    "df_train_object.columns"
   ]
  },
  {
   "cell_type": "code",
   "execution_count": 96,
   "id": "078b9bba",
   "metadata": {
    "execution": {
     "iopub.execute_input": "2022-03-11T12:05:37.563314Z",
     "iopub.status.busy": "2022-03-11T12:05:37.562648Z",
     "iopub.status.idle": "2022-03-11T12:05:37.707860Z",
     "shell.execute_reply": "2022-03-11T12:05:37.707317Z",
     "shell.execute_reply.started": "2022-03-10T15:44:06.830045Z"
    },
    "papermill": {
     "duration": 0.295193,
     "end_time": "2022-03-11T12:05:37.708012",
     "exception": false,
     "start_time": "2022-03-11T12:05:37.412819",
     "status": "completed"
    },
    "tags": []
   },
   "outputs": [],
   "source": [
    "from sklearn.preprocessing import LabelEncoder"
   ]
  },
  {
   "cell_type": "code",
   "execution_count": 97,
   "id": "7e9d65a8",
   "metadata": {
    "execution": {
     "iopub.execute_input": "2022-03-11T12:05:38.005585Z",
     "iopub.status.busy": "2022-03-11T12:05:38.004957Z",
     "iopub.status.idle": "2022-03-11T12:05:38.009095Z",
     "shell.execute_reply": "2022-03-11T12:05:38.009632Z",
     "shell.execute_reply.started": "2022-03-10T15:44:06.839224Z"
    },
    "papermill": {
     "duration": 0.155758,
     "end_time": "2022-03-11T12:05:38.009839",
     "exception": false,
     "start_time": "2022-03-11T12:05:37.854081",
     "status": "completed"
    },
    "tags": []
   },
   "outputs": [],
   "source": [
    "object_cols = ('MSSubClass', 'MSZoning', 'Street', 'LotShape', 'LandContour',\n",
    "       'Utilities', 'LotConfig', 'LandSlope', 'Neighborhood', 'Condition1',\n",
    "       'Condition2', 'BldgType', 'HouseStyle', 'OverallCond', 'RoofStyle',\n",
    "       'RoofMatl', 'Exterior1st', 'Exterior2nd', 'MasVnrType', 'ExterQual',\n",
    "       'ExterCond', 'Foundation', 'BsmtQual', 'BsmtCond', 'BsmtExposure',\n",
    "       'BsmtFinType1', 'BsmtFinType2', 'Heating', 'HeatingQC', 'CentralAir',\n",
    "       'Electrical', 'KitchenQual', 'Functional', 'GarageType', 'GarageFinish',\n",
    "       'GarageQual', 'GarageCond', 'PavedDrive', 'MoSold', 'YrSold',\n",
    "       'SaleType', 'SaleCondition')"
   ]
  },
  {
   "cell_type": "code",
   "execution_count": 98,
   "id": "43abee04",
   "metadata": {
    "execution": {
     "iopub.execute_input": "2022-03-11T12:05:38.308596Z",
     "iopub.status.busy": "2022-03-11T12:05:38.307969Z",
     "iopub.status.idle": "2022-03-11T12:05:38.379768Z",
     "shell.execute_reply": "2022-03-11T12:05:38.380390Z",
     "shell.execute_reply.started": "2022-03-10T15:44:06.849698Z"
    },
    "papermill": {
     "duration": 0.222576,
     "end_time": "2022-03-11T12:05:38.380576",
     "exception": false,
     "start_time": "2022-03-11T12:05:38.158000",
     "status": "completed"
    },
    "tags": []
   },
   "outputs": [],
   "source": [
    "for i in object_cols:\n",
    "    lb_encoder = LabelEncoder() \n",
    "    lb_encoder.fit(list(df_train[i].values)) \n",
    "    df_train[i] = lb_encoder.transform(list(df_train[i].values))"
   ]
  },
  {
   "cell_type": "code",
   "execution_count": 99,
   "id": "776eeb44",
   "metadata": {
    "execution": {
     "iopub.execute_input": "2022-03-11T12:05:38.756162Z",
     "iopub.status.busy": "2022-03-11T12:05:38.755228Z",
     "iopub.status.idle": "2022-03-11T12:05:38.766923Z",
     "shell.execute_reply": "2022-03-11T12:05:38.767549Z",
     "shell.execute_reply.started": "2022-03-10T15:44:06.970282Z"
    },
    "papermill": {
     "duration": 0.200103,
     "end_time": "2022-03-11T12:05:38.767726",
     "exception": false,
     "start_time": "2022-03-11T12:05:38.567623",
     "status": "completed"
    },
    "tags": []
   },
   "outputs": [
    {
     "data": {
      "text/html": [
       "<div>\n",
       "<style scoped>\n",
       "    .dataframe tbody tr th:only-of-type {\n",
       "        vertical-align: middle;\n",
       "    }\n",
       "\n",
       "    .dataframe tbody tr th {\n",
       "        vertical-align: top;\n",
       "    }\n",
       "\n",
       "    .dataframe thead th {\n",
       "        text-align: right;\n",
       "    }\n",
       "</style>\n",
       "<table border=\"1\" class=\"dataframe\">\n",
       "  <thead>\n",
       "    <tr style=\"text-align: right;\">\n",
       "      <th></th>\n",
       "    </tr>\n",
       "  </thead>\n",
       "  <tbody>\n",
       "    <tr>\n",
       "      <th>0</th>\n",
       "    </tr>\n",
       "    <tr>\n",
       "      <th>1</th>\n",
       "    </tr>\n",
       "    <tr>\n",
       "      <th>2</th>\n",
       "    </tr>\n",
       "    <tr>\n",
       "      <th>3</th>\n",
       "    </tr>\n",
       "    <tr>\n",
       "      <th>4</th>\n",
       "    </tr>\n",
       "    <tr>\n",
       "      <th>...</th>\n",
       "    </tr>\n",
       "    <tr>\n",
       "      <th>1455</th>\n",
       "    </tr>\n",
       "    <tr>\n",
       "      <th>1456</th>\n",
       "    </tr>\n",
       "    <tr>\n",
       "      <th>1457</th>\n",
       "    </tr>\n",
       "    <tr>\n",
       "      <th>1458</th>\n",
       "    </tr>\n",
       "    <tr>\n",
       "      <th>1459</th>\n",
       "    </tr>\n",
       "  </tbody>\n",
       "</table>\n",
       "<p>1449 rows × 0 columns</p>\n",
       "</div>"
      ],
      "text/plain": [
       "Empty DataFrame\n",
       "Columns: []\n",
       "Index: [0, 1, 2, 3, 4, 5, 6, 7, 8, 9, 10, 11, 12, 13, 14, 15, 16, 17, 18, 19, 20, 21, 22, 23, 24, 25, 26, 27, 28, 29, 30, 31, 32, 33, 34, 35, 36, 37, 38, 39, 40, 41, 42, 43, 44, 45, 46, 47, 48, 49, 50, 51, 52, 53, 54, 55, 56, 57, 58, 59, 60, 61, 62, 63, 64, 65, 66, 67, 68, 69, 70, 71, 72, 73, 74, 75, 76, 77, 78, 79, 80, 81, 82, 83, 84, 85, 86, 87, 88, 89, 90, 91, 92, 93, 94, 95, 96, 97, 98, 99, ...]\n",
       "\n",
       "[1449 rows x 0 columns]"
      ]
     },
     "execution_count": 99,
     "metadata": {},
     "output_type": "execute_result"
    }
   ],
   "source": [
    "df_train.select_dtypes(include=['object'])"
   ]
  },
  {
   "cell_type": "code",
   "execution_count": 100,
   "id": "88845cc3",
   "metadata": {
    "execution": {
     "iopub.execute_input": "2022-03-11T12:05:39.077209Z",
     "iopub.status.busy": "2022-03-11T12:05:39.076557Z",
     "iopub.status.idle": "2022-03-11T12:05:39.094365Z",
     "shell.execute_reply": "2022-03-11T12:05:39.094982Z",
     "shell.execute_reply.started": "2022-03-10T15:44:06.985815Z"
    },
    "papermill": {
     "duration": 0.170347,
     "end_time": "2022-03-11T12:05:39.095172",
     "exception": false,
     "start_time": "2022-03-11T12:05:38.924825",
     "status": "completed"
    },
    "tags": []
   },
   "outputs": [
    {
     "name": "stdout",
     "output_type": "stream",
     "text": [
      "<class 'pandas.core.frame.DataFrame'>\n",
      "Int64Index: 1449 entries, 0 to 1459\n",
      "Data columns (total 76 columns):\n",
      " #   Column         Non-Null Count  Dtype  \n",
      "---  ------         --------------  -----  \n",
      " 0   Id             1449 non-null   int64  \n",
      " 1   MSSubClass     1449 non-null   int64  \n",
      " 2   MSZoning       1449 non-null   int64  \n",
      " 3   LotFrontage    1449 non-null   float64\n",
      " 4   LotArea        1449 non-null   int64  \n",
      " 5   Street         1449 non-null   int64  \n",
      " 6   LotShape       1449 non-null   int64  \n",
      " 7   LandContour    1449 non-null   int64  \n",
      " 8   Utilities      1449 non-null   int64  \n",
      " 9   LotConfig      1449 non-null   int64  \n",
      " 10  LandSlope      1449 non-null   int64  \n",
      " 11  Neighborhood   1449 non-null   int64  \n",
      " 12  Condition1     1449 non-null   int64  \n",
      " 13  Condition2     1449 non-null   int64  \n",
      " 14  BldgType       1449 non-null   int64  \n",
      " 15  HouseStyle     1449 non-null   int64  \n",
      " 16  OverallQual    1449 non-null   int64  \n",
      " 17  OverallCond    1449 non-null   int64  \n",
      " 18  YearBuilt      1449 non-null   int64  \n",
      " 19  YearRemodAdd   1449 non-null   int64  \n",
      " 20  RoofStyle      1449 non-null   int64  \n",
      " 21  RoofMatl       1449 non-null   int64  \n",
      " 22  Exterior1st    1449 non-null   int64  \n",
      " 23  Exterior2nd    1449 non-null   int64  \n",
      " 24  MasVnrType     1449 non-null   int64  \n",
      " 25  MasVnrArea     1449 non-null   float64\n",
      " 26  ExterQual      1449 non-null   int64  \n",
      " 27  ExterCond      1449 non-null   int64  \n",
      " 28  Foundation     1449 non-null   int64  \n",
      " 29  BsmtQual       1449 non-null   int64  \n",
      " 30  BsmtCond       1449 non-null   int64  \n",
      " 31  BsmtExposure   1449 non-null   int64  \n",
      " 32  BsmtFinType1   1449 non-null   int64  \n",
      " 33  BsmtFinSF1     1449 non-null   int64  \n",
      " 34  BsmtFinType2   1449 non-null   int64  \n",
      " 35  BsmtFinSF2     1449 non-null   int64  \n",
      " 36  BsmtUnfSF      1449 non-null   int64  \n",
      " 37  TotalBsmtSF    1449 non-null   int64  \n",
      " 38  Heating        1449 non-null   int64  \n",
      " 39  HeatingQC      1449 non-null   int64  \n",
      " 40  CentralAir     1449 non-null   int64  \n",
      " 41  Electrical     1449 non-null   int64  \n",
      " 42  1stFlrSF       1449 non-null   int64  \n",
      " 43  2ndFlrSF       1449 non-null   int64  \n",
      " 44  LowQualFinSF   1449 non-null   int64  \n",
      " 45  GrLivArea      1449 non-null   int64  \n",
      " 46  BsmtFullBath   1449 non-null   int64  \n",
      " 47  BsmtHalfBath   1449 non-null   int64  \n",
      " 48  FullBath       1449 non-null   int64  \n",
      " 49  HalfBath       1449 non-null   int64  \n",
      " 50  BedroomAbvGr   1449 non-null   int64  \n",
      " 51  KitchenAbvGr   1449 non-null   int64  \n",
      " 52  KitchenQual    1449 non-null   int64  \n",
      " 53  TotRmsAbvGrd   1449 non-null   int64  \n",
      " 54  Functional     1449 non-null   int64  \n",
      " 55  Fireplaces     1449 non-null   int64  \n",
      " 56  GarageType     1449 non-null   int64  \n",
      " 57  GarageYrBlt    1449 non-null   float64\n",
      " 58  GarageFinish   1449 non-null   int64  \n",
      " 59  GarageCars     1449 non-null   int64  \n",
      " 60  GarageArea     1449 non-null   int64  \n",
      " 61  GarageQual     1449 non-null   int64  \n",
      " 62  GarageCond     1449 non-null   int64  \n",
      " 63  PavedDrive     1449 non-null   int64  \n",
      " 64  WoodDeckSF     1449 non-null   int64  \n",
      " 65  OpenPorchSF    1449 non-null   int64  \n",
      " 66  EnclosedPorch  1449 non-null   int64  \n",
      " 67  3SsnPorch      1449 non-null   int64  \n",
      " 68  ScreenPorch    1449 non-null   int64  \n",
      " 69  PoolArea       1449 non-null   int64  \n",
      " 70  MiscVal        1449 non-null   int64  \n",
      " 71  MoSold         1449 non-null   int64  \n",
      " 72  YrSold         1449 non-null   int64  \n",
      " 73  SaleType       1449 non-null   int64  \n",
      " 74  SaleCondition  1449 non-null   int64  \n",
      " 75  SalePrice      1449 non-null   float64\n",
      "dtypes: float64(4), int64(72)\n",
      "memory usage: 871.7 KB\n"
     ]
    }
   ],
   "source": [
    "df_train.info()"
   ]
  },
  {
   "cell_type": "markdown",
   "id": "ff1e3422",
   "metadata": {
    "papermill": {
     "duration": 0.172733,
     "end_time": "2022-03-11T12:05:39.430054",
     "exception": false,
     "start_time": "2022-03-11T12:05:39.257321",
     "status": "completed"
    },
    "tags": []
   },
   "source": [
    "**Dealing with Test Set**\n"
   ]
  },
  {
   "cell_type": "code",
   "execution_count": 101,
   "id": "9b4a574c",
   "metadata": {
    "execution": {
     "iopub.execute_input": "2022-03-11T12:05:39.731348Z",
     "iopub.status.busy": "2022-03-11T12:05:39.730435Z",
     "iopub.status.idle": "2022-03-11T12:05:39.737834Z",
     "shell.execute_reply": "2022-03-11T12:05:39.738320Z",
     "shell.execute_reply.started": "2022-03-10T15:44:07.005617Z"
    },
    "papermill": {
     "duration": 0.159744,
     "end_time": "2022-03-11T12:05:39.738496",
     "exception": false,
     "start_time": "2022-03-11T12:05:39.578752",
     "status": "completed"
    },
    "tags": []
   },
   "outputs": [
    {
     "data": {
      "text/plain": [
       "0       0.0\n",
       "1       0.0\n",
       "2       0.0\n",
       "3       0.0\n",
       "4       0.0\n",
       "       ... \n",
       "1454    0.0\n",
       "1455    0.0\n",
       "1456    1.0\n",
       "1457    0.0\n",
       "1458    0.0\n",
       "Name: BsmtFullBath, Length: 1459, dtype: float64"
      ]
     },
     "execution_count": 101,
     "metadata": {},
     "output_type": "execute_result"
    }
   ],
   "source": [
    "df_test['BsmtFullBath']"
   ]
  },
  {
   "cell_type": "code",
   "execution_count": 102,
   "id": "000fd2a8",
   "metadata": {
    "execution": {
     "iopub.execute_input": "2022-03-11T12:05:40.039372Z",
     "iopub.status.busy": "2022-03-11T12:05:40.038407Z",
     "iopub.status.idle": "2022-03-11T12:05:40.045622Z",
     "shell.execute_reply": "2022-03-11T12:05:40.046094Z",
     "shell.execute_reply.started": "2022-03-10T15:44:07.015833Z"
    },
    "papermill": {
     "duration": 0.160001,
     "end_time": "2022-03-11T12:05:40.046259",
     "exception": false,
     "start_time": "2022-03-11T12:05:39.886258",
     "status": "completed"
    },
    "tags": []
   },
   "outputs": [
    {
     "data": {
      "text/plain": [
       "0       0.0\n",
       "1       0.0\n",
       "2       0.0\n",
       "3       0.0\n",
       "4       0.0\n",
       "       ... \n",
       "1454    0.0\n",
       "1455    0.0\n",
       "1456    0.0\n",
       "1457    1.0\n",
       "1458    0.0\n",
       "Name: BsmtHalfBath, Length: 1459, dtype: float64"
      ]
     },
     "execution_count": 102,
     "metadata": {},
     "output_type": "execute_result"
    }
   ],
   "source": [
    "df_test['BsmtHalfBath']"
   ]
  },
  {
   "cell_type": "code",
   "execution_count": 103,
   "id": "13e18922",
   "metadata": {
    "execution": {
     "iopub.execute_input": "2022-03-11T12:05:40.351093Z",
     "iopub.status.busy": "2022-03-11T12:05:40.350167Z",
     "iopub.status.idle": "2022-03-11T12:05:40.612962Z",
     "shell.execute_reply": "2022-03-11T12:05:40.613368Z",
     "shell.execute_reply.started": "2022-03-10T15:44:07.031875Z"
    },
    "papermill": {
     "duration": 0.415916,
     "end_time": "2022-03-11T12:05:40.613545",
     "exception": false,
     "start_time": "2022-03-11T12:05:40.197629",
     "status": "completed"
    },
    "tags": []
   },
   "outputs": [
    {
     "data": {
      "text/plain": [
       "0        468.0\n",
       "1        923.0\n",
       "2        791.0\n",
       "3        602.0\n",
       "4        263.0\n",
       "         ...  \n",
       "1454       0.0\n",
       "1455     252.0\n",
       "1456    1224.0\n",
       "1457     337.0\n",
       "1458     758.0\n",
       "Name: BsmtFinSF1, Length: 1459, dtype: float64"
      ]
     },
     "metadata": {},
     "output_type": "display_data"
    },
    {
     "name": "stderr",
     "output_type": "stream",
     "text": [
      "/opt/conda/lib/python3.7/site-packages/seaborn/distributions.py:2619: FutureWarning: `distplot` is a deprecated function and will be removed in a future version. Please adapt your code to use either `displot` (a figure-level function with similar flexibility) or `histplot` (an axes-level function for histograms).\n",
      "  warnings.warn(msg, FutureWarning)\n"
     ]
    },
    {
     "data": {
      "image/png": "[encoded data removed]",
      "text/plain": [
       "<Figure size 432x288 with 1 Axes>"
      ]
     },
     "metadata": {
      "needs_background": "light"
     },
     "output_type": "display_data"
    }
   ],
   "source": [
    "display (df_test['BsmtFinSF1'])\n",
    "ax = sns.distplot(df_test['BsmtFinSF1'])"
   ]
  },
  {
   "cell_type": "code",
   "execution_count": 104,
   "id": "2b16e97a",
   "metadata": {
    "execution": {
     "iopub.execute_input": "2022-03-11T12:05:40.918027Z",
     "iopub.status.busy": "2022-03-11T12:05:40.917326Z",
     "iopub.status.idle": "2022-03-11T12:05:40.923365Z",
     "shell.execute_reply": "2022-03-11T12:05:40.923928Z",
     "shell.execute_reply.started": "2022-03-10T15:44:07.32393Z"
    },
    "papermill": {
     "duration": 0.158177,
     "end_time": "2022-03-11T12:05:40.924092",
     "exception": false,
     "start_time": "2022-03-11T12:05:40.765915",
     "status": "completed"
    },
    "tags": []
   },
   "outputs": [
    {
     "data": {
      "text/plain": [
       "0       1.0\n",
       "1       1.0\n",
       "2       2.0\n",
       "3       2.0\n",
       "4       2.0\n",
       "       ... \n",
       "1454    0.0\n",
       "1455    1.0\n",
       "1456    2.0\n",
       "1457    0.0\n",
       "1458    3.0\n",
       "Name: GarageCars, Length: 1459, dtype: float64"
      ]
     },
     "execution_count": 104,
     "metadata": {},
     "output_type": "execute_result"
    }
   ],
   "source": [
    "df_test['GarageCars']"
   ]
  },
  {
   "cell_type": "code",
   "execution_count": 105,
   "id": "60b32fc1",
   "metadata": {
    "execution": {
     "iopub.execute_input": "2022-03-11T12:05:41.228692Z",
     "iopub.status.busy": "2022-03-11T12:05:41.228086Z",
     "iopub.status.idle": "2022-03-11T12:05:41.504965Z",
     "shell.execute_reply": "2022-03-11T12:05:41.504434Z",
     "shell.execute_reply.started": "2022-03-10T15:44:07.335295Z"
    },
    "papermill": {
     "duration": 0.430138,
     "end_time": "2022-03-11T12:05:41.505101",
     "exception": false,
     "start_time": "2022-03-11T12:05:41.074963",
     "status": "completed"
    },
    "tags": []
   },
   "outputs": [
    {
     "data": {
      "text/plain": [
       "0       730.0\n",
       "1       312.0\n",
       "2       482.0\n",
       "3       470.0\n",
       "4       506.0\n",
       "        ...  \n",
       "1454      0.0\n",
       "1455    286.0\n",
       "1456    576.0\n",
       "1457      0.0\n",
       "1458    650.0\n",
       "Name: GarageArea, Length: 1459, dtype: float64"
      ]
     },
     "metadata": {},
     "output_type": "display_data"
    },
    {
     "name": "stderr",
     "output_type": "stream",
     "text": [
      "/opt/conda/lib/python3.7/site-packages/seaborn/distributions.py:2619: FutureWarning: `distplot` is a deprecated function and will be removed in a future version. Please adapt your code to use either `displot` (a figure-level function with similar flexibility) or `histplot` (an axes-level function for histograms).\n",
      "  warnings.warn(msg, FutureWarning)\n"
     ]
    },
    {
     "data": {
      "image/png": "[encoded data removed]",
      "text/plain": [
       "<Figure size 432x288 with 1 Axes>"
      ]
     },
     "metadata": {
      "needs_background": "light"
     },
     "output_type": "display_data"
    }
   ],
   "source": [
    "display (df_test['GarageArea'])\n",
    "ax = sns.distplot(df_test['GarageArea'])"
   ]
  },
  {
   "cell_type": "code",
   "execution_count": 106,
   "id": "157c191d",
   "metadata": {
    "execution": {
     "iopub.execute_input": "2022-03-11T12:05:41.809290Z",
     "iopub.status.busy": "2022-03-11T12:05:41.808670Z",
     "iopub.status.idle": "2022-03-11T12:05:42.117569Z",
     "shell.execute_reply": "2022-03-11T12:05:42.117996Z",
     "shell.execute_reply.started": "2022-03-10T15:44:07.624979Z"
    },
    "papermill": {
     "duration": 0.462248,
     "end_time": "2022-03-11T12:05:42.118177",
     "exception": false,
     "start_time": "2022-03-11T12:05:41.655929",
     "status": "completed"
    },
    "tags": []
   },
   "outputs": [
    {
     "data": {
      "text/plain": [
       "0        882.0\n",
       "1       1329.0\n",
       "2        928.0\n",
       "3        926.0\n",
       "4       1280.0\n",
       "         ...  \n",
       "1454     546.0\n",
       "1455     546.0\n",
       "1456    1224.0\n",
       "1457     912.0\n",
       "1458     996.0\n",
       "Name: TotalBsmtSF, Length: 1459, dtype: float64"
      ]
     },
     "metadata": {},
     "output_type": "display_data"
    },
    {
     "name": "stderr",
     "output_type": "stream",
     "text": [
      "/opt/conda/lib/python3.7/site-packages/seaborn/distributions.py:2619: FutureWarning: `distplot` is a deprecated function and will be removed in a future version. Please adapt your code to use either `displot` (a figure-level function with similar flexibility) or `histplot` (an axes-level function for histograms).\n",
      "  warnings.warn(msg, FutureWarning)\n"
     ]
    },
    {
     "data": {
      "image/png": "[encoded data removed]",
      "text/plain": [
       "<Figure size 432x288 with 1 Axes>"
      ]
     },
     "metadata": {
      "needs_background": "light"
     },
     "output_type": "display_data"
    }
   ],
   "source": [
    "display (df_test['TotalBsmtSF'])\n",
    "ax = sns.distplot(df_test['TotalBsmtSF'])"
   ]
  },
  {
   "cell_type": "code",
   "execution_count": 107,
   "id": "160691fc",
   "metadata": {
    "execution": {
     "iopub.execute_input": "2022-03-11T12:05:42.428789Z",
     "iopub.status.busy": "2022-03-11T12:05:42.428180Z",
     "iopub.status.idle": "2022-03-11T12:05:42.432867Z",
     "shell.execute_reply": "2022-03-11T12:05:42.433462Z",
     "shell.execute_reply.started": "2022-03-10T15:44:07.970748Z"
    },
    "papermill": {
     "duration": 0.162423,
     "end_time": "2022-03-11T12:05:42.433638",
     "exception": false,
     "start_time": "2022-03-11T12:05:42.271215",
     "status": "completed"
    },
    "tags": []
   },
   "outputs": [
    {
     "data": {
      "text/plain": [
       "0       144.0\n",
       "1         0.0\n",
       "2         0.0\n",
       "3         0.0\n",
       "4         0.0\n",
       "        ...  \n",
       "1454      0.0\n",
       "1455      0.0\n",
       "1456      0.0\n",
       "1457      0.0\n",
       "1458      0.0\n",
       "Name: BsmtFinSF2, Length: 1459, dtype: float64"
      ]
     },
     "execution_count": 107,
     "metadata": {},
     "output_type": "execute_result"
    }
   ],
   "source": [
    "df_test['BsmtFinSF2']"
   ]
  },
  {
   "cell_type": "code",
   "execution_count": 108,
   "id": "07f4e79a",
   "metadata": {
    "execution": {
     "iopub.execute_input": "2022-03-11T12:05:42.745485Z",
     "iopub.status.busy": "2022-03-11T12:05:42.744789Z",
     "iopub.status.idle": "2022-03-11T12:05:42.751045Z",
     "shell.execute_reply": "2022-03-11T12:05:42.751494Z",
     "shell.execute_reply.started": "2022-03-10T15:44:07.981885Z"
    },
    "papermill": {
     "duration": 0.162146,
     "end_time": "2022-03-11T12:05:42.751663",
     "exception": false,
     "start_time": "2022-03-11T12:05:42.589517",
     "status": "completed"
    },
    "tags": []
   },
   "outputs": [
    {
     "data": {
      "text/plain": [
       "0        270.0\n",
       "1        406.0\n",
       "2        137.0\n",
       "3        324.0\n",
       "4       1017.0\n",
       "         ...  \n",
       "1454     546.0\n",
       "1455     294.0\n",
       "1456       0.0\n",
       "1457     575.0\n",
       "1458     238.0\n",
       "Name: BsmtUnfSF, Length: 1459, dtype: float64"
      ]
     },
     "execution_count": 108,
     "metadata": {},
     "output_type": "execute_result"
    }
   ],
   "source": [
    "df_test['BsmtUnfSF']"
   ]
  },
  {
   "cell_type": "code",
   "execution_count": 109,
   "id": "80271db0",
   "metadata": {
    "execution": {
     "iopub.execute_input": "2022-03-11T12:05:43.065113Z",
     "iopub.status.busy": "2022-03-11T12:05:43.064457Z",
     "iopub.status.idle": "2022-03-11T12:05:43.080367Z",
     "shell.execute_reply": "2022-03-11T12:05:43.080838Z",
     "shell.execute_reply.started": "2022-03-10T15:44:07.997106Z"
    },
    "papermill": {
     "duration": 0.174907,
     "end_time": "2022-03-11T12:05:43.081001",
     "exception": false,
     "start_time": "2022-03-11T12:05:42.906094",
     "status": "completed"
    },
    "tags": []
   },
   "outputs": [
    {
     "data": {
      "text/html": [
       "<div>\n",
       "<style scoped>\n",
       "    .dataframe tbody tr th:only-of-type {\n",
       "        vertical-align: middle;\n",
       "    }\n",
       "\n",
       "    .dataframe tbody tr th {\n",
       "        vertical-align: top;\n",
       "    }\n",
       "\n",
       "    .dataframe thead th {\n",
       "        text-align: right;\n",
       "    }\n",
       "</style>\n",
       "<table border=\"1\" class=\"dataframe\">\n",
       "  <thead>\n",
       "    <tr style=\"text-align: right;\">\n",
       "      <th></th>\n",
       "      <th>Missing Ratio</th>\n",
       "    </tr>\n",
       "  </thead>\n",
       "  <tbody>\n",
       "    <tr>\n",
       "      <th>PoolQC</th>\n",
       "      <td>99.794380</td>\n",
       "    </tr>\n",
       "    <tr>\n",
       "      <th>MiscFeature</th>\n",
       "      <td>96.504455</td>\n",
       "    </tr>\n",
       "    <tr>\n",
       "      <th>Alley</th>\n",
       "      <td>92.666210</td>\n",
       "    </tr>\n",
       "    <tr>\n",
       "      <th>Fence</th>\n",
       "      <td>80.123372</td>\n",
       "    </tr>\n",
       "    <tr>\n",
       "      <th>FireplaceQu</th>\n",
       "      <td>50.034270</td>\n",
       "    </tr>\n",
       "    <tr>\n",
       "      <th>LotFrontage</th>\n",
       "      <td>15.558602</td>\n",
       "    </tr>\n",
       "    <tr>\n",
       "      <th>GarageYrBlt</th>\n",
       "      <td>5.346127</td>\n",
       "    </tr>\n",
       "    <tr>\n",
       "      <th>GarageQual</th>\n",
       "      <td>5.346127</td>\n",
       "    </tr>\n",
       "    <tr>\n",
       "      <th>GarageFinish</th>\n",
       "      <td>5.346127</td>\n",
       "    </tr>\n",
       "    <tr>\n",
       "      <th>GarageCond</th>\n",
       "      <td>5.346127</td>\n",
       "    </tr>\n",
       "    <tr>\n",
       "      <th>GarageType</th>\n",
       "      <td>5.209047</td>\n",
       "    </tr>\n",
       "    <tr>\n",
       "      <th>BsmtCond</th>\n",
       "      <td>3.084304</td>\n",
       "    </tr>\n",
       "    <tr>\n",
       "      <th>BsmtQual</th>\n",
       "      <td>3.015764</td>\n",
       "    </tr>\n",
       "    <tr>\n",
       "      <th>BsmtExposure</th>\n",
       "      <td>3.015764</td>\n",
       "    </tr>\n",
       "    <tr>\n",
       "      <th>BsmtFinType1</th>\n",
       "      <td>2.878684</td>\n",
       "    </tr>\n",
       "    <tr>\n",
       "      <th>BsmtFinType2</th>\n",
       "      <td>2.878684</td>\n",
       "    </tr>\n",
       "    <tr>\n",
       "      <th>MasVnrType</th>\n",
       "      <td>1.096642</td>\n",
       "    </tr>\n",
       "    <tr>\n",
       "      <th>MasVnrArea</th>\n",
       "      <td>1.028101</td>\n",
       "    </tr>\n",
       "    <tr>\n",
       "      <th>MSZoning</th>\n",
       "      <td>0.274160</td>\n",
       "    </tr>\n",
       "    <tr>\n",
       "      <th>BsmtHalfBath</th>\n",
       "      <td>0.137080</td>\n",
       "    </tr>\n",
       "    <tr>\n",
       "      <th>Utilities</th>\n",
       "      <td>0.137080</td>\n",
       "    </tr>\n",
       "    <tr>\n",
       "      <th>Functional</th>\n",
       "      <td>0.137080</td>\n",
       "    </tr>\n",
       "    <tr>\n",
       "      <th>BsmtFullBath</th>\n",
       "      <td>0.137080</td>\n",
       "    </tr>\n",
       "    <tr>\n",
       "      <th>BsmtFinSF1</th>\n",
       "      <td>0.068540</td>\n",
       "    </tr>\n",
       "    <tr>\n",
       "      <th>BsmtFinSF2</th>\n",
       "      <td>0.068540</td>\n",
       "    </tr>\n",
       "    <tr>\n",
       "      <th>BsmtUnfSF</th>\n",
       "      <td>0.068540</td>\n",
       "    </tr>\n",
       "    <tr>\n",
       "      <th>KitchenQual</th>\n",
       "      <td>0.068540</td>\n",
       "    </tr>\n",
       "    <tr>\n",
       "      <th>TotalBsmtSF</th>\n",
       "      <td>0.068540</td>\n",
       "    </tr>\n",
       "    <tr>\n",
       "      <th>Exterior2nd</th>\n",
       "      <td>0.068540</td>\n",
       "    </tr>\n",
       "    <tr>\n",
       "      <th>GarageCars</th>\n",
       "      <td>0.068540</td>\n",
       "    </tr>\n",
       "  </tbody>\n",
       "</table>\n",
       "</div>"
      ],
      "text/plain": [
       "              Missing Ratio\n",
       "PoolQC            99.794380\n",
       "MiscFeature       96.504455\n",
       "Alley             92.666210\n",
       "Fence             80.123372\n",
       "FireplaceQu       50.034270\n",
       "LotFrontage       15.558602\n",
       "GarageYrBlt        5.346127\n",
       "GarageQual         5.346127\n",
       "GarageFinish       5.346127\n",
       "GarageCond         5.346127\n",
       "GarageType         5.209047\n",
       "BsmtCond           3.084304\n",
       "BsmtQual           3.015764\n",
       "BsmtExposure       3.015764\n",
       "BsmtFinType1       2.878684\n",
       "BsmtFinType2       2.878684\n",
       "MasVnrType         1.096642\n",
       "MasVnrArea         1.028101\n",
       "MSZoning           0.274160\n",
       "BsmtHalfBath       0.137080\n",
       "Utilities          0.137080\n",
       "Functional         0.137080\n",
       "BsmtFullBath       0.137080\n",
       "BsmtFinSF1         0.068540\n",
       "BsmtFinSF2         0.068540\n",
       "BsmtUnfSF          0.068540\n",
       "KitchenQual        0.068540\n",
       "TotalBsmtSF        0.068540\n",
       "Exterior2nd        0.068540\n",
       "GarageCars         0.068540"
      ]
     },
     "execution_count": 109,
     "metadata": {},
     "output_type": "execute_result"
    }
   ],
   "source": [
    "df_test_nu = (df_test.isnull().sum() / len(df_test)) * 100\n",
    "df_test_nu = df_test_nu.drop(df_train_nu[df_test_nu == 0].index).sort_values(ascending=False)[:30]\n",
    "missing_data = pd.DataFrame({'Missing Ratio' :df_test_nu})\n",
    "missing_data.head(100)"
   ]
  },
  {
   "cell_type": "code",
   "execution_count": 110,
   "id": "617fd48a",
   "metadata": {
    "execution": {
     "iopub.execute_input": "2022-03-11T12:05:43.394717Z",
     "iopub.status.busy": "2022-03-11T12:05:43.394163Z",
     "iopub.status.idle": "2022-03-11T12:05:43.399394Z",
     "shell.execute_reply": "2022-03-11T12:05:43.399899Z",
     "shell.execute_reply.started": "2022-03-10T15:44:08.021189Z"
    },
    "papermill": {
     "duration": 0.162177,
     "end_time": "2022-03-11T12:05:43.400084",
     "exception": false,
     "start_time": "2022-03-11T12:05:43.237907",
     "status": "completed"
    },
    "tags": []
   },
   "outputs": [],
   "source": [
    "df_test.drop(['PoolQC','MiscFeature','Alley','Fence','FireplaceQu'], axis = 1, inplace = True )"
   ]
  },
  {
   "cell_type": "code",
   "execution_count": 111,
   "id": "5115204c",
   "metadata": {
    "execution": {
     "iopub.execute_input": "2022-03-11T12:05:43.712451Z",
     "iopub.status.busy": "2022-03-11T12:05:43.711845Z",
     "iopub.status.idle": "2022-03-11T12:05:43.890423Z",
     "shell.execute_reply": "2022-03-11T12:05:43.889795Z",
     "shell.execute_reply.started": "2022-03-10T15:44:08.028254Z"
    },
    "papermill": {
     "duration": 0.334297,
     "end_time": "2022-03-11T12:05:43.890557",
     "exception": false,
     "start_time": "2022-03-11T12:05:43.556260",
     "status": "completed"
    },
    "tags": []
   },
   "outputs": [],
   "source": [
    "df_test['LotFrontage'].fillna(df_test.LotFrontage.median(), inplace = True)\n",
    "df_test['GarageType'].fillna(df_test['GarageType'].mode()[0], inplace = True)\n",
    "df_test['GarageYrBlt'].fillna(df_test.GarageYrBlt.median(), inplace = True)\n",
    "df_test['GarageFinish'].fillna(df_test.GarageFinish.mode()[0], inplace = True)\n",
    "df_test['GarageQual'].fillna(df_test.GarageQual.mode()[0], inplace = True)\n",
    "df_test['GarageCond'].fillna(df_test.GarageCond.mode()[0], inplace = True)\n",
    "df_test['BsmtExposure'].fillna(df_test.BsmtExposure.mode()[0], inplace = True)\n",
    "df_test['BsmtFinType2'].fillna(df_test.BsmtFinType2.mode()[0], inplace = True)\n",
    "df_test['BsmtQual'].fillna(df_test.BsmtQual.mode()[0], inplace = True)\n",
    "df_test['BsmtCond'].fillna(df_test.BsmtCond.mode()[0], inplace = True)\n",
    "df_test['BsmtFinType1'].fillna(df_test.BsmtFinType1.mode()[0], inplace = True)\n",
    "df_test['MasVnrArea'].fillna(df_test.MasVnrArea.median(), inplace = True)\n",
    "df_test['Electrical'].fillna(df_test.Electrical.mode()[0], inplace = True)\n",
    "df_test['MasVnrType'].fillna(df_test.MasVnrType.mode()[0], inplace = True)\n",
    "\n",
    "df_test['BsmtFullBath'].fillna(df_test.BsmtFullBath.mode()[0], inplace = True)\n",
    "df_test['BsmtHalfBath'].fillna(df_test.BsmtHalfBath.mode()[0], inplace = True)\n",
    "df_test['BsmtFinSF1'].fillna(df_test.BsmtFinSF1.median(), inplace = True)\n",
    "df_test['GarageCars'].fillna(df_test.GarageCars.mode()[0], inplace = True)\n",
    "df_test['GarageArea'].fillna(df_test.GarageArea.mean(), inplace = True)\n",
    "df_test['TotalBsmtSF'].fillna(df_test.TotalBsmtSF.mode()[0], inplace = True)\n",
    "df_test['BsmtFinSF2'].fillna(df_test.BsmtFinSF2.mode()[0], inplace = True)\n",
    "df_test['BsmtUnfSF'].fillna(df_test.BsmtUnfSF.median(), inplace = True)\n",
    "df_test['MSZoning'].fillna(df_test.MSZoning.mode()[0], inplace = True)\n",
    "df_test['Functional'].fillna(df_test.Functional.mode()[0], inplace = True)\n",
    "df_test['Utilities'].fillna(df_test.Utilities.mode()[0], inplace = True)\n",
    "df_test['Exterior2nd'].fillna(df_test.Exterior2nd.mode()[0], inplace = True)\n",
    "df_test['Exterior1st'].fillna(df_test.Exterior1st.mode()[0], inplace = True)\n",
    "df_test['SaleType'].fillna(df_test.SaleType.mode()[0], inplace = True)\n",
    "df_test['KitchenQual'].fillna(df_test.KitchenQual.mode()[0], inplace = True)\n"
   ]
  },
  {
   "cell_type": "code",
   "execution_count": 112,
   "id": "ad6be582",
   "metadata": {
    "execution": {
     "iopub.execute_input": "2022-03-11T12:05:44.204619Z",
     "iopub.status.busy": "2022-03-11T12:05:44.204013Z",
     "iopub.status.idle": "2022-03-11T12:05:44.225284Z",
     "shell.execute_reply": "2022-03-11T12:05:44.226033Z",
     "shell.execute_reply.started": "2022-03-10T15:44:08.073369Z"
    },
    "papermill": {
     "duration": 0.180544,
     "end_time": "2022-03-11T12:05:44.226263",
     "exception": false,
     "start_time": "2022-03-11T12:05:44.045719",
     "status": "completed"
    },
    "tags": []
   },
   "outputs": [
    {
     "data": {
      "text/html": [
       "<div>\n",
       "<style scoped>\n",
       "    .dataframe tbody tr th:only-of-type {\n",
       "        vertical-align: middle;\n",
       "    }\n",
       "\n",
       "    .dataframe tbody tr th {\n",
       "        vertical-align: top;\n",
       "    }\n",
       "\n",
       "    .dataframe thead th {\n",
       "        text-align: right;\n",
       "    }\n",
       "</style>\n",
       "<table border=\"1\" class=\"dataframe\">\n",
       "  <thead>\n",
       "    <tr style=\"text-align: right;\">\n",
       "      <th></th>\n",
       "      <th>Missing Ratio</th>\n",
       "    </tr>\n",
       "  </thead>\n",
       "  <tbody>\n",
       "    <tr>\n",
       "      <th>Id</th>\n",
       "      <td>0.0</td>\n",
       "    </tr>\n",
       "    <tr>\n",
       "      <th>GarageType</th>\n",
       "      <td>0.0</td>\n",
       "    </tr>\n",
       "    <tr>\n",
       "      <th>Functional</th>\n",
       "      <td>0.0</td>\n",
       "    </tr>\n",
       "    <tr>\n",
       "      <th>TotRmsAbvGrd</th>\n",
       "      <td>0.0</td>\n",
       "    </tr>\n",
       "    <tr>\n",
       "      <th>KitchenQual</th>\n",
       "      <td>0.0</td>\n",
       "    </tr>\n",
       "    <tr>\n",
       "      <th>KitchenAbvGr</th>\n",
       "      <td>0.0</td>\n",
       "    </tr>\n",
       "    <tr>\n",
       "      <th>BedroomAbvGr</th>\n",
       "      <td>0.0</td>\n",
       "    </tr>\n",
       "    <tr>\n",
       "      <th>HalfBath</th>\n",
       "      <td>0.0</td>\n",
       "    </tr>\n",
       "    <tr>\n",
       "      <th>FullBath</th>\n",
       "      <td>0.0</td>\n",
       "    </tr>\n",
       "    <tr>\n",
       "      <th>BsmtHalfBath</th>\n",
       "      <td>0.0</td>\n",
       "    </tr>\n",
       "    <tr>\n",
       "      <th>BsmtFullBath</th>\n",
       "      <td>0.0</td>\n",
       "    </tr>\n",
       "    <tr>\n",
       "      <th>GrLivArea</th>\n",
       "      <td>0.0</td>\n",
       "    </tr>\n",
       "    <tr>\n",
       "      <th>LowQualFinSF</th>\n",
       "      <td>0.0</td>\n",
       "    </tr>\n",
       "    <tr>\n",
       "      <th>2ndFlrSF</th>\n",
       "      <td>0.0</td>\n",
       "    </tr>\n",
       "    <tr>\n",
       "      <th>1stFlrSF</th>\n",
       "      <td>0.0</td>\n",
       "    </tr>\n",
       "    <tr>\n",
       "      <th>Electrical</th>\n",
       "      <td>0.0</td>\n",
       "    </tr>\n",
       "    <tr>\n",
       "      <th>CentralAir</th>\n",
       "      <td>0.0</td>\n",
       "    </tr>\n",
       "    <tr>\n",
       "      <th>Fireplaces</th>\n",
       "      <td>0.0</td>\n",
       "    </tr>\n",
       "    <tr>\n",
       "      <th>GarageYrBlt</th>\n",
       "      <td>0.0</td>\n",
       "    </tr>\n",
       "    <tr>\n",
       "      <th>Heating</th>\n",
       "      <td>0.0</td>\n",
       "    </tr>\n",
       "    <tr>\n",
       "      <th>GarageFinish</th>\n",
       "      <td>0.0</td>\n",
       "    </tr>\n",
       "    <tr>\n",
       "      <th>SaleType</th>\n",
       "      <td>0.0</td>\n",
       "    </tr>\n",
       "    <tr>\n",
       "      <th>YrSold</th>\n",
       "      <td>0.0</td>\n",
       "    </tr>\n",
       "    <tr>\n",
       "      <th>MoSold</th>\n",
       "      <td>0.0</td>\n",
       "    </tr>\n",
       "    <tr>\n",
       "      <th>MiscVal</th>\n",
       "      <td>0.0</td>\n",
       "    </tr>\n",
       "    <tr>\n",
       "      <th>PoolArea</th>\n",
       "      <td>0.0</td>\n",
       "    </tr>\n",
       "    <tr>\n",
       "      <th>ScreenPorch</th>\n",
       "      <td>0.0</td>\n",
       "    </tr>\n",
       "    <tr>\n",
       "      <th>3SsnPorch</th>\n",
       "      <td>0.0</td>\n",
       "    </tr>\n",
       "    <tr>\n",
       "      <th>EnclosedPorch</th>\n",
       "      <td>0.0</td>\n",
       "    </tr>\n",
       "    <tr>\n",
       "      <th>OpenPorchSF</th>\n",
       "      <td>0.0</td>\n",
       "    </tr>\n",
       "  </tbody>\n",
       "</table>\n",
       "</div>"
      ],
      "text/plain": [
       "               Missing Ratio\n",
       "Id                       0.0\n",
       "GarageType               0.0\n",
       "Functional               0.0\n",
       "TotRmsAbvGrd             0.0\n",
       "KitchenQual              0.0\n",
       "KitchenAbvGr             0.0\n",
       "BedroomAbvGr             0.0\n",
       "HalfBath                 0.0\n",
       "FullBath                 0.0\n",
       "BsmtHalfBath             0.0\n",
       "BsmtFullBath             0.0\n",
       "GrLivArea                0.0\n",
       "LowQualFinSF             0.0\n",
       "2ndFlrSF                 0.0\n",
       "1stFlrSF                 0.0\n",
       "Electrical               0.0\n",
       "CentralAir               0.0\n",
       "Fireplaces               0.0\n",
       "GarageYrBlt              0.0\n",
       "Heating                  0.0\n",
       "GarageFinish             0.0\n",
       "SaleType                 0.0\n",
       "YrSold                   0.0\n",
       "MoSold                   0.0\n",
       "MiscVal                  0.0\n",
       "PoolArea                 0.0\n",
       "ScreenPorch              0.0\n",
       "3SsnPorch                0.0\n",
       "EnclosedPorch            0.0\n",
       "OpenPorchSF              0.0"
      ]
     },
     "execution_count": 112,
     "metadata": {},
     "output_type": "execute_result"
    }
   ],
   "source": [
    "df_test_nu = (df_test.isnull().sum() / len(df_test)) * 100\n",
    "df_test_nu = df_test_nu.drop(df_train_nu[df_test_nu == 0].index).sort_values(ascending=False)[:30]\n",
    "missing_data = pd.DataFrame({'Missing Ratio' :df_test_nu})\n",
    "missing_data.head(100)"
   ]
  },
  {
   "cell_type": "code",
   "execution_count": 113,
   "id": "9f59c00c",
   "metadata": {
    "execution": {
     "iopub.execute_input": "2022-03-11T12:05:44.537603Z",
     "iopub.status.busy": "2022-03-11T12:05:44.537046Z",
     "iopub.status.idle": "2022-03-11T12:05:44.545889Z",
     "shell.execute_reply": "2022-03-11T12:05:44.546403Z",
     "shell.execute_reply.started": "2022-03-10T15:44:08.102634Z"
    },
    "papermill": {
     "duration": 0.165914,
     "end_time": "2022-03-11T12:05:44.546571",
     "exception": false,
     "start_time": "2022-03-11T12:05:44.380657",
     "status": "completed"
    },
    "tags": []
   },
   "outputs": [
    {
     "data": {
      "text/plain": [
       "Index(['MSZoning', 'Street', 'LotShape', 'LandContour', 'Utilities',\n",
       "       'LotConfig', 'LandSlope', 'Neighborhood', 'Condition1', 'Condition2',\n",
       "       'BldgType', 'HouseStyle', 'RoofStyle', 'RoofMatl', 'Exterior1st',\n",
       "       'Exterior2nd', 'MasVnrType', 'ExterQual', 'ExterCond', 'Foundation',\n",
       "       'BsmtQual', 'BsmtCond', 'BsmtExposure', 'BsmtFinType1', 'BsmtFinType2',\n",
       "       'Heating', 'HeatingQC', 'CentralAir', 'Electrical', 'KitchenQual',\n",
       "       'Functional', 'GarageType', 'GarageFinish', 'GarageQual', 'GarageCond',\n",
       "       'PavedDrive', 'SaleType', 'SaleCondition'],\n",
       "      dtype='object')"
      ]
     },
     "execution_count": 113,
     "metadata": {},
     "output_type": "execute_result"
    }
   ],
   "source": [
    "df_test.select_dtypes(include=['object'])\n",
    "df_test_object=df_test.select_dtypes(include=['object'])\n",
    "df_test_object.columns"
   ]
  },
  {
   "cell_type": "code",
   "execution_count": 114,
   "id": "c70fefca",
   "metadata": {
    "execution": {
     "iopub.execute_input": "2022-03-11T12:05:44.861218Z",
     "iopub.status.busy": "2022-03-11T12:05:44.860561Z",
     "iopub.status.idle": "2022-03-11T12:05:44.931308Z",
     "shell.execute_reply": "2022-03-11T12:05:44.930683Z",
     "shell.execute_reply.started": "2022-03-10T15:44:08.114907Z"
    },
    "papermill": {
     "duration": 0.229921,
     "end_time": "2022-03-11T12:05:44.931445",
     "exception": false,
     "start_time": "2022-03-11T12:05:44.701524",
     "status": "completed"
    },
    "tags": []
   },
   "outputs": [],
   "source": [
    "for i in object_cols:\n",
    "    lb_encoder = LabelEncoder() \n",
    "    lb_encoder.fit(list(df_test[i].values)) \n",
    "    df_test[i] = lb_encoder.transform(list(df_test[i].values))"
   ]
  },
  {
   "cell_type": "code",
   "execution_count": 115,
   "id": "856d033d",
   "metadata": {
    "execution": {
     "iopub.execute_input": "2022-03-11T12:05:45.244538Z",
     "iopub.status.busy": "2022-03-11T12:05:45.243941Z",
     "iopub.status.idle": "2022-03-11T12:05:45.261814Z",
     "shell.execute_reply": "2022-03-11T12:05:45.261303Z",
     "shell.execute_reply.started": "2022-03-10T15:44:08.245151Z"
    },
    "papermill": {
     "duration": 0.174339,
     "end_time": "2022-03-11T12:05:45.261950",
     "exception": false,
     "start_time": "2022-03-11T12:05:45.087611",
     "status": "completed"
    },
    "tags": []
   },
   "outputs": [
    {
     "name": "stdout",
     "output_type": "stream",
     "text": [
      "<class 'pandas.core.frame.DataFrame'>\n",
      "RangeIndex: 1459 entries, 0 to 1458\n",
      "Data columns (total 75 columns):\n",
      " #   Column         Non-Null Count  Dtype  \n",
      "---  ------         --------------  -----  \n",
      " 0   Id             1459 non-null   int64  \n",
      " 1   MSSubClass     1459 non-null   int64  \n",
      " 2   MSZoning       1459 non-null   int64  \n",
      " 3   LotFrontage    1459 non-null   float64\n",
      " 4   LotArea        1459 non-null   int64  \n",
      " 5   Street         1459 non-null   int64  \n",
      " 6   LotShape       1459 non-null   int64  \n",
      " 7   LandContour    1459 non-null   int64  \n",
      " 8   Utilities      1459 non-null   int64  \n",
      " 9   LotConfig      1459 non-null   int64  \n",
      " 10  LandSlope      1459 non-null   int64  \n",
      " 11  Neighborhood   1459 non-null   int64  \n",
      " 12  Condition1     1459 non-null   int64  \n",
      " 13  Condition2     1459 non-null   int64  \n",
      " 14  BldgType       1459 non-null   int64  \n",
      " 15  HouseStyle     1459 non-null   int64  \n",
      " 16  OverallQual    1459 non-null   int64  \n",
      " 17  OverallCond    1459 non-null   int64  \n",
      " 18  YearBuilt      1459 non-null   int64  \n",
      " 19  YearRemodAdd   1459 non-null   int64  \n",
      " 20  RoofStyle      1459 non-null   int64  \n",
      " 21  RoofMatl       1459 non-null   int64  \n",
      " 22  Exterior1st    1459 non-null   int64  \n",
      " 23  Exterior2nd    1459 non-null   int64  \n",
      " 24  MasVnrType     1459 non-null   int64  \n",
      " 25  MasVnrArea     1459 non-null   float64\n",
      " 26  ExterQual      1459 non-null   int64  \n",
      " 27  ExterCond      1459 non-null   int64  \n",
      " 28  Foundation     1459 non-null   int64  \n",
      " 29  BsmtQual       1459 non-null   int64  \n",
      " 30  BsmtCond       1459 non-null   int64  \n",
      " 31  BsmtExposure   1459 non-null   int64  \n",
      " 32  BsmtFinType1   1459 non-null   int64  \n",
      " 33  BsmtFinSF1     1459 non-null   float64\n",
      " 34  BsmtFinType2   1459 non-null   int64  \n",
      " 35  BsmtFinSF2     1459 non-null   float64\n",
      " 36  BsmtUnfSF      1459 non-null   float64\n",
      " 37  TotalBsmtSF    1459 non-null   float64\n",
      " 38  Heating        1459 non-null   int64  \n",
      " 39  HeatingQC      1459 non-null   int64  \n",
      " 40  CentralAir     1459 non-null   int64  \n",
      " 41  Electrical     1459 non-null   int64  \n",
      " 42  1stFlrSF       1459 non-null   int64  \n",
      " 43  2ndFlrSF       1459 non-null   int64  \n",
      " 44  LowQualFinSF   1459 non-null   int64  \n",
      " 45  GrLivArea      1459 non-null   int64  \n",
      " 46  BsmtFullBath   1459 non-null   float64\n",
      " 47  BsmtHalfBath   1459 non-null   float64\n",
      " 48  FullBath       1459 non-null   int64  \n",
      " 49  HalfBath       1459 non-null   int64  \n",
      " 50  BedroomAbvGr   1459 non-null   int64  \n",
      " 51  KitchenAbvGr   1459 non-null   int64  \n",
      " 52  KitchenQual    1459 non-null   int64  \n",
      " 53  TotRmsAbvGrd   1459 non-null   int64  \n",
      " 54  Functional     1459 non-null   int64  \n",
      " 55  Fireplaces     1459 non-null   int64  \n",
      " 56  GarageType     1459 non-null   int64  \n",
      " 57  GarageYrBlt    1459 non-null   float64\n",
      " 58  GarageFinish   1459 non-null   int64  \n",
      " 59  GarageCars     1459 non-null   float64\n",
      " 60  GarageArea     1459 non-null   float64\n",
      " 61  GarageQual     1459 non-null   int64  \n",
      " 62  GarageCond     1459 non-null   int64  \n",
      " 63  PavedDrive     1459 non-null   int64  \n",
      " 64  WoodDeckSF     1459 non-null   int64  \n",
      " 65  OpenPorchSF    1459 non-null   int64  \n",
      " 66  EnclosedPorch  1459 non-null   int64  \n",
      " 67  3SsnPorch      1459 non-null   int64  \n",
      " 68  ScreenPorch    1459 non-null   int64  \n",
      " 69  PoolArea       1459 non-null   int64  \n",
      " 70  MiscVal        1459 non-null   int64  \n",
      " 71  MoSold         1459 non-null   int64  \n",
      " 72  YrSold         1459 non-null   int64  \n",
      " 73  SaleType       1459 non-null   int64  \n",
      " 74  SaleCondition  1459 non-null   int64  \n",
      "dtypes: float64(11), int64(64)\n",
      "memory usage: 855.0 KB\n"
     ]
    }
   ],
   "source": [
    "df_test.select_dtypes(include=['object'])\n",
    "df_test.info()"
   ]
  },
  {
   "cell_type": "code",
   "execution_count": 116,
   "id": "7d5fd02d",
   "metadata": {
    "execution": {
     "iopub.execute_input": "2022-03-11T12:05:45.576775Z",
     "iopub.status.busy": "2022-03-11T12:05:45.576160Z",
     "iopub.status.idle": "2022-03-11T12:05:45.624341Z",
     "shell.execute_reply": "2022-03-11T12:05:45.624820Z",
     "shell.execute_reply.started": "2022-03-10T15:44:08.268684Z"
    },
    "papermill": {
     "duration": 0.208337,
     "end_time": "2022-03-11T12:05:45.625004",
     "exception": false,
     "start_time": "2022-03-11T12:05:45.416667",
     "status": "completed"
    },
    "tags": []
   },
   "outputs": [],
   "source": [
    "from sklearn.model_selection import train_test_split\n",
    "from sklearn import preprocessing"
   ]
  },
  {
   "cell_type": "code",
   "execution_count": 117,
   "id": "84dc22bb",
   "metadata": {
    "execution": {
     "iopub.execute_input": "2022-03-11T12:05:45.947929Z",
     "iopub.status.busy": "2022-03-11T12:05:45.947316Z",
     "iopub.status.idle": "2022-03-11T12:05:45.950216Z",
     "shell.execute_reply": "2022-03-11T12:05:45.949769Z",
     "shell.execute_reply.started": "2022-03-10T15:44:08.274508Z"
    },
    "papermill": {
     "duration": 0.169338,
     "end_time": "2022-03-11T12:05:45.950351",
     "exception": false,
     "start_time": "2022-03-11T12:05:45.781013",
     "status": "completed"
    },
    "tags": []
   },
   "outputs": [],
   "source": [
    "x_data=df_train.drop('SalePrice',axis=1)\n",
    "y_data=df_train['SalePrice']"
   ]
  },
  {
   "cell_type": "code",
   "execution_count": 118,
   "id": "9bad9e9f",
   "metadata": {
    "execution": {
     "iopub.execute_input": "2022-03-11T12:05:46.268165Z",
     "iopub.status.busy": "2022-03-11T12:05:46.265585Z",
     "iopub.status.idle": "2022-03-11T12:05:46.283273Z",
     "shell.execute_reply": "2022-03-11T12:05:46.283710Z",
     "shell.execute_reply.started": "2022-03-10T15:44:08.286462Z"
    },
    "papermill": {
     "duration": 0.178891,
     "end_time": "2022-03-11T12:05:46.283925",
     "exception": false,
     "start_time": "2022-03-11T12:05:46.105034",
     "status": "completed"
    },
    "tags": []
   },
   "outputs": [
    {
     "name": "stdout",
     "output_type": "stream",
     "text": [
      "<class 'pandas.core.frame.DataFrame'>\n",
      "Int64Index: 1159 entries, 1164 to 378\n",
      "Data columns (total 75 columns):\n",
      " #   Column         Non-Null Count  Dtype  \n",
      "---  ------         --------------  -----  \n",
      " 0   Id             1159 non-null   int64  \n",
      " 1   MSSubClass     1159 non-null   int64  \n",
      " 2   MSZoning       1159 non-null   int64  \n",
      " 3   LotFrontage    1159 non-null   float64\n",
      " 4   LotArea        1159 non-null   int64  \n",
      " 5   Street         1159 non-null   int64  \n",
      " 6   LotShape       1159 non-null   int64  \n",
      " 7   LandContour    1159 non-null   int64  \n",
      " 8   Utilities      1159 non-null   int64  \n",
      " 9   LotConfig      1159 non-null   int64  \n",
      " 10  LandSlope      1159 non-null   int64  \n",
      " 11  Neighborhood   1159 non-null   int64  \n",
      " 12  Condition1     1159 non-null   int64  \n",
      " 13  Condition2     1159 non-null   int64  \n",
      " 14  BldgType       1159 non-null   int64  \n",
      " 15  HouseStyle     1159 non-null   int64  \n",
      " 16  OverallQual    1159 non-null   int64  \n",
      " 17  OverallCond    1159 non-null   int64  \n",
      " 18  YearBuilt      1159 non-null   int64  \n",
      " 19  YearRemodAdd   1159 non-null   int64  \n",
      " 20  RoofStyle      1159 non-null   int64  \n",
      " 21  RoofMatl       1159 non-null   int64  \n",
      " 22  Exterior1st    1159 non-null   int64  \n",
      " 23  Exterior2nd    1159 non-null   int64  \n",
      " 24  MasVnrType     1159 non-null   int64  \n",
      " 25  MasVnrArea     1159 non-null   float64\n",
      " 26  ExterQual      1159 non-null   int64  \n",
      " 27  ExterCond      1159 non-null   int64  \n",
      " 28  Foundation     1159 non-null   int64  \n",
      " 29  BsmtQual       1159 non-null   int64  \n",
      " 30  BsmtCond       1159 non-null   int64  \n",
      " 31  BsmtExposure   1159 non-null   int64  \n",
      " 32  BsmtFinType1   1159 non-null   int64  \n",
      " 33  BsmtFinSF1     1159 non-null   int64  \n",
      " 34  BsmtFinType2   1159 non-null   int64  \n",
      " 35  BsmtFinSF2     1159 non-null   int64  \n",
      " 36  BsmtUnfSF      1159 non-null   int64  \n",
      " 37  TotalBsmtSF    1159 non-null   int64  \n",
      " 38  Heating        1159 non-null   int64  \n",
      " 39  HeatingQC      1159 non-null   int64  \n",
      " 40  CentralAir     1159 non-null   int64  \n",
      " 41  Electrical     1159 non-null   int64  \n",
      " 42  1stFlrSF       1159 non-null   int64  \n",
      " 43  2ndFlrSF       1159 non-null   int64  \n",
      " 44  LowQualFinSF   1159 non-null   int64  \n",
      " 45  GrLivArea      1159 non-null   int64  \n",
      " 46  BsmtFullBath   1159 non-null   int64  \n",
      " 47  BsmtHalfBath   1159 non-null   int64  \n",
      " 48  FullBath       1159 non-null   int64  \n",
      " 49  HalfBath       1159 non-null   int64  \n",
      " 50  BedroomAbvGr   1159 non-null   int64  \n",
      " 51  KitchenAbvGr   1159 non-null   int64  \n",
      " 52  KitchenQual    1159 non-null   int64  \n",
      " 53  TotRmsAbvGrd   1159 non-null   int64  \n",
      " 54  Functional     1159 non-null   int64  \n",
      " 55  Fireplaces     1159 non-null   int64  \n",
      " 56  GarageType     1159 non-null   int64  \n",
      " 57  GarageYrBlt    1159 non-null   float64\n",
      " 58  GarageFinish   1159 non-null   int64  \n",
      " 59  GarageCars     1159 non-null   int64  \n",
      " 60  GarageArea     1159 non-null   int64  \n",
      " 61  GarageQual     1159 non-null   int64  \n",
      " 62  GarageCond     1159 non-null   int64  \n",
      " 63  PavedDrive     1159 non-null   int64  \n",
      " 64  WoodDeckSF     1159 non-null   int64  \n",
      " 65  OpenPorchSF    1159 non-null   int64  \n",
      " 66  EnclosedPorch  1159 non-null   int64  \n",
      " 67  3SsnPorch      1159 non-null   int64  \n",
      " 68  ScreenPorch    1159 non-null   int64  \n",
      " 69  PoolArea       1159 non-null   int64  \n",
      " 70  MiscVal        1159 non-null   int64  \n",
      " 71  MoSold         1159 non-null   int64  \n",
      " 72  YrSold         1159 non-null   int64  \n",
      " 73  SaleType       1159 non-null   int64  \n",
      " 74  SaleCondition  1159 non-null   int64  \n",
      "dtypes: float64(3), int64(72)\n",
      "memory usage: 688.2 KB\n"
     ]
    }
   ],
   "source": [
    "x_train, x_test, y_train, y_test = train_test_split(x_data, y_data, test_size = 0.2)\n",
    "x_train.info()"
   ]
  },
  {
   "cell_type": "code",
   "execution_count": 119,
   "id": "64eadd0e",
   "metadata": {
    "execution": {
     "iopub.execute_input": "2022-03-11T12:05:46.601145Z",
     "iopub.status.busy": "2022-03-11T12:05:46.600420Z",
     "iopub.status.idle": "2022-03-11T12:05:46.672189Z",
     "shell.execute_reply": "2022-03-11T12:05:46.672644Z",
     "shell.execute_reply.started": "2022-03-10T15:44:08.315085Z"
    },
    "papermill": {
     "duration": 0.232034,
     "end_time": "2022-03-11T12:05:46.672860",
     "exception": false,
     "start_time": "2022-03-11T12:05:46.440826",
     "status": "completed"
    },
    "tags": []
   },
   "outputs": [],
   "source": [
    "from sklearn.linear_model import LinearRegression"
   ]
  },
  {
   "cell_type": "code",
   "execution_count": 120,
   "id": "e0111eaf",
   "metadata": {
    "execution": {
     "iopub.execute_input": "2022-03-11T12:05:46.995498Z",
     "iopub.status.busy": "2022-03-11T12:05:46.994855Z",
     "iopub.status.idle": "2022-03-11T12:05:46.997768Z",
     "shell.execute_reply": "2022-03-11T12:05:46.998204Z",
     "shell.execute_reply.started": "2022-03-10T15:44:08.321267Z"
    },
    "papermill": {
     "duration": 0.166513,
     "end_time": "2022-03-11T12:05:46.998359",
     "exception": false,
     "start_time": "2022-03-11T12:05:46.831846",
     "status": "completed"
    },
    "tags": []
   },
   "outputs": [],
   "source": [
    "model = LinearRegression()"
   ]
  },
  {
   "cell_type": "code",
   "execution_count": 121,
   "id": "856bfbee",
   "metadata": {
    "execution": {
     "iopub.execute_input": "2022-03-11T12:05:47.311640Z",
     "iopub.status.busy": "2022-03-11T12:05:47.311048Z",
     "iopub.status.idle": "2022-03-11T12:05:47.346983Z",
     "shell.execute_reply": "2022-03-11T12:05:47.348078Z",
     "shell.execute_reply.started": "2022-03-10T15:44:08.332258Z"
    },
    "papermill": {
     "duration": 0.195353,
     "end_time": "2022-03-11T12:05:47.348365",
     "exception": false,
     "start_time": "2022-03-11T12:05:47.153012",
     "status": "completed"
    },
    "tags": []
   },
   "outputs": [],
   "source": [
    "model.fit(x_train , y_train)\n",
    "predictions = model.predict(x_test)"
   ]
  },
  {
   "cell_type": "code",
   "execution_count": 122,
   "id": "c2d850c0",
   "metadata": {
    "execution": {
     "iopub.execute_input": "2022-03-11T12:05:47.718382Z",
     "iopub.status.busy": "2022-03-11T12:05:47.717799Z",
     "iopub.status.idle": "2022-03-11T12:05:47.720170Z",
     "shell.execute_reply": "2022-03-11T12:05:47.719597Z",
     "shell.execute_reply.started": "2022-03-10T15:44:08.367773Z"
    },
    "papermill": {
     "duration": 0.161382,
     "end_time": "2022-03-11T12:05:47.720301",
     "exception": false,
     "start_time": "2022-03-11T12:05:47.558919",
     "status": "completed"
    },
    "tags": []
   },
   "outputs": [],
   "source": [
    "from sklearn import metrics\n",
    "from sklearn.metrics import mean_squared_error,mean_absolute_error,explained_variance_score, r2_score"
   ]
  },
  {
   "cell_type": "code",
   "execution_count": 123,
   "id": "28e92413",
   "metadata": {
    "execution": {
     "iopub.execute_input": "2022-03-11T12:05:48.037487Z",
     "iopub.status.busy": "2022-03-11T12:05:48.036654Z",
     "iopub.status.idle": "2022-03-11T12:05:48.041929Z",
     "shell.execute_reply": "2022-03-11T12:05:48.042457Z",
     "shell.execute_reply.started": "2022-03-10T15:44:08.374996Z"
    },
    "papermill": {
     "duration": 0.164736,
     "end_time": "2022-03-11T12:05:48.042624",
     "exception": false,
     "start_time": "2022-03-11T12:05:47.877888",
     "status": "completed"
    },
    "tags": []
   },
   "outputs": [
    {
     "name": "stdout",
     "output_type": "stream",
     "text": [
      "Mean Absolute Error(MAE): 0.08710870393765907\n"
     ]
    }
   ],
   "source": [
    "print('Mean Absolute Error(MAE):', metrics.mean_absolute_error(y_test, predictions))"
   ]
  },
  {
   "cell_type": "code",
   "execution_count": 124,
   "id": "e47ae347",
   "metadata": {
    "execution": {
     "iopub.execute_input": "2022-03-11T12:05:48.356691Z",
     "iopub.status.busy": "2022-03-11T12:05:48.356112Z",
     "iopub.status.idle": "2022-03-11T12:05:48.363043Z",
     "shell.execute_reply": "2022-03-11T12:05:48.362215Z",
     "shell.execute_reply.started": "2022-03-10T15:44:08.389934Z"
    },
    "papermill": {
     "duration": 0.164821,
     "end_time": "2022-03-11T12:05:48.363272",
     "exception": false,
     "start_time": "2022-03-11T12:05:48.198451",
     "status": "completed"
    },
    "tags": []
   },
   "outputs": [
    {
     "name": "stdout",
     "output_type": "stream",
     "text": [
      "Mean Squared Error(MSE): 0.013733778618474714\n"
     ]
    }
   ],
   "source": [
    "print('Mean Squared Error(MSE):', metrics.mean_squared_error(y_test, predictions))"
   ]
  },
  {
   "cell_type": "code",
   "execution_count": 125,
   "id": "0dc8899b",
   "metadata": {
    "execution": {
     "iopub.execute_input": "2022-03-11T12:05:48.680254Z",
     "iopub.status.busy": "2022-03-11T12:05:48.679619Z",
     "iopub.status.idle": "2022-03-11T12:05:48.683693Z",
     "shell.execute_reply": "2022-03-11T12:05:48.683255Z",
     "shell.execute_reply.started": "2022-03-10T15:44:08.401714Z"
    },
    "papermill": {
     "duration": 0.164766,
     "end_time": "2022-03-11T12:05:48.683861",
     "exception": false,
     "start_time": "2022-03-11T12:05:48.519095",
     "status": "completed"
    },
    "tags": []
   },
   "outputs": [
    {
     "name": "stdout",
     "output_type": "stream",
     "text": [
      "Root Mean Squared Error (RMSE): 0.11719120538024479\n"
     ]
    }
   ],
   "source": [
    "print('Root Mean Squared Error (RMSE):', np.sqrt(metrics.mean_squared_error(y_test, predictions)))"
   ]
  },
  {
   "cell_type": "code",
   "execution_count": 126,
   "id": "89ea1ca8",
   "metadata": {
    "execution": {
     "iopub.execute_input": "2022-03-11T12:05:49.001266Z",
     "iopub.status.busy": "2022-03-11T12:05:49.000666Z",
     "iopub.status.idle": "2022-03-11T12:05:49.004126Z",
     "shell.execute_reply": "2022-03-11T12:05:49.004528Z",
     "shell.execute_reply.started": "2022-03-10T15:44:08.420566Z"
    },
    "papermill": {
     "duration": 0.165194,
     "end_time": "2022-03-11T12:05:49.004689",
     "exception": false,
     "start_time": "2022-03-11T12:05:48.839495",
     "status": "completed"
    },
    "tags": []
   },
   "outputs": [
    {
     "name": "stdout",
     "output_type": "stream",
     "text": [
      "Explained Variance Score (EVS): 0.904755445038005\n"
     ]
    }
   ],
   "source": [
    "print('Explained Variance Score (EVS):',explained_variance_score(y_test,predictions))"
   ]
  },
  {
   "cell_type": "code",
   "execution_count": 127,
   "id": "dcbcc5bb",
   "metadata": {
    "execution": {
     "iopub.execute_input": "2022-03-11T12:05:49.323197Z",
     "iopub.status.busy": "2022-03-11T12:05:49.322549Z",
     "iopub.status.idle": "2022-03-11T12:05:49.327023Z",
     "shell.execute_reply": "2022-03-11T12:05:49.326353Z",
     "shell.execute_reply.started": "2022-03-10T15:44:08.438226Z"
    },
    "papermill": {
     "duration": 0.166792,
     "end_time": "2022-03-11T12:05:49.327165",
     "exception": false,
     "start_time": "2022-03-11T12:05:49.160373",
     "status": "completed"
    },
    "tags": []
   },
   "outputs": [
    {
     "name": "stdout",
     "output_type": "stream",
     "text": [
      "R2: 0.9047476006497244\n"
     ]
    }
   ],
   "source": [
    "print('R2:',metrics.r2_score(y_test, predictions))"
   ]
  },
  {
   "cell_type": "code",
   "execution_count": 128,
   "id": "f378c0d2",
   "metadata": {
    "execution": {
     "iopub.execute_input": "2022-03-11T12:05:49.648842Z",
     "iopub.status.busy": "2022-03-11T12:05:49.648204Z",
     "iopub.status.idle": "2022-03-11T12:05:49.652083Z",
     "shell.execute_reply": "2022-03-11T12:05:49.651627Z",
     "shell.execute_reply.started": "2022-03-10T15:44:08.455991Z"
    },
    "papermill": {
     "duration": 0.168002,
     "end_time": "2022-03-11T12:05:49.652219",
     "exception": false,
     "start_time": "2022-03-11T12:05:49.484217",
     "status": "completed"
    },
    "tags": []
   },
   "outputs": [
    {
     "name": "stdout",
     "output_type": "stream",
     "text": [
      "R2 rounded: 0.9\n"
     ]
    }
   ],
   "source": [
    "print('R2 rounded:',(metrics.r2_score(y_test, predictions)).round(2))\n",
    "r2 = r2_score(y_test, predictions)\n",
    "r2_rounded = r2_score(y_test, predictions).round(2)"
   ]
  },
  {
   "cell_type": "code",
   "execution_count": 129,
   "id": "0675c523",
   "metadata": {
    "execution": {
     "iopub.execute_input": "2022-03-11T12:05:49.972048Z",
     "iopub.status.busy": "2022-03-11T12:05:49.971418Z",
     "iopub.status.idle": "2022-03-11T12:05:49.974215Z",
     "shell.execute_reply": "2022-03-11T12:05:49.973693Z",
     "shell.execute_reply.started": "2022-03-10T15:44:08.479259Z"
    },
    "papermill": {
     "duration": 0.164745,
     "end_time": "2022-03-11T12:05:49.974349",
     "exception": false,
     "start_time": "2022-03-11T12:05:49.809604",
     "status": "completed"
    },
    "tags": []
   },
   "outputs": [],
   "source": [
    "def get_best_score(grid):\n",
    "    \n",
    "    best_score = np.sqrt(-grid.best_score_)\n",
    "    print(best_score)    \n",
    "    print(grid.best_params_)\n",
    "    print(grid.best_estimator_)\n",
    "    \n",
    "    return best_score"
   ]
  },
  {
   "cell_type": "code",
   "execution_count": 130,
   "id": "c6e0bee3",
   "metadata": {
    "execution": {
     "iopub.execute_input": "2022-03-11T12:05:50.311440Z",
     "iopub.status.busy": "2022-03-11T12:05:50.310604Z",
     "iopub.status.idle": "2022-03-11T12:05:50.339347Z",
     "shell.execute_reply": "2022-03-11T12:05:50.338495Z",
     "shell.execute_reply.started": "2022-03-10T15:44:08.495594Z"
    },
    "papermill": {
     "duration": 0.208842,
     "end_time": "2022-03-11T12:05:50.339554",
     "exception": false,
     "start_time": "2022-03-11T12:05:50.130712",
     "status": "completed"
    },
    "tags": []
   },
   "outputs": [],
   "source": [
    "from sklearn.linear_model import Ridge\n",
    "\n",
    "model_ridge = Ridge()\n",
    "model.fit(x_train , y_train)\n",
    "ridge_predictions = model.predict(x_test)"
   ]
  },
  {
   "cell_type": "code",
   "execution_count": 131,
   "id": "fe3c53c2",
   "metadata": {
    "execution": {
     "iopub.execute_input": "2022-03-11T12:05:50.738934Z",
     "iopub.status.busy": "2022-03-11T12:05:50.738306Z",
     "iopub.status.idle": "2022-03-11T12:05:50.747167Z",
     "shell.execute_reply": "2022-03-11T12:05:50.747611Z",
     "shell.execute_reply.started": "2022-03-10T15:44:08.546546Z"
    },
    "papermill": {
     "duration": 0.172276,
     "end_time": "2022-03-11T12:05:50.747811",
     "exception": false,
     "start_time": "2022-03-11T12:05:50.575535",
     "status": "completed"
    },
    "tags": []
   },
   "outputs": [
    {
     "name": "stdout",
     "output_type": "stream",
     "text": [
      "Mean Absolute Error(MAE): 0.08710870393765907\n",
      "Mean Squared Error(MSE): 0.013733778618474714\n",
      "Root Mean Squared Error (RMSE): 0.11719120538024479\n",
      "Explained Variance Score (EVS): 0.904755445038005\n",
      "R2: 0.9047476006497244\n",
      "R2 rounded: 0.9\n"
     ]
    }
   ],
   "source": [
    "print('Mean Absolute Error(MAE):', metrics.mean_absolute_error(y_test, ridge_predictions))\n",
    "print('Mean Squared Error(MSE):', metrics.mean_squared_error(y_test, ridge_predictions))\n",
    "print('Root Mean Squared Error (RMSE):', np.sqrt(metrics.mean_squared_error(y_test, ridge_predictions)))\n",
    "print('Explained Variance Score (EVS):',explained_variance_score(y_test,ridge_predictions))\n",
    "print('R2:',metrics.r2_score(y_test, ridge_predictions))\n",
    "print('R2 rounded:',(metrics.r2_score(y_test, ridge_predictions)).round(2))\n",
    "r2 = r2_score(y_test, ridge_predictions)\n",
    "r2_rounded = r2_score(y_test, ridge_predictions).round(2)"
   ]
  },
  {
   "cell_type": "code",
   "execution_count": 132,
   "id": "58356199",
   "metadata": {
    "execution": {
     "iopub.execute_input": "2022-03-11T12:05:51.066860Z",
     "iopub.status.busy": "2022-03-11T12:05:51.066092Z",
     "iopub.status.idle": "2022-03-11T12:05:51.149305Z",
     "shell.execute_reply": "2022-03-11T12:05:51.148725Z",
     "shell.execute_reply.started": "2022-03-10T15:44:08.579824Z"
    },
    "papermill": {
     "duration": 0.243251,
     "end_time": "2022-03-11T12:05:51.149440",
     "exception": false,
     "start_time": "2022-03-11T12:05:50.906189",
     "status": "completed"
    },
    "tags": []
   },
   "outputs": [],
   "source": [
    "from sklearn.tree import DecisionTreeRegressor"
   ]
  },
  {
   "cell_type": "code",
   "execution_count": 133,
   "id": "7fccd6bc",
   "metadata": {
    "execution": {
     "iopub.execute_input": "2022-03-11T12:05:51.470584Z",
     "iopub.status.busy": "2022-03-11T12:05:51.469976Z",
     "iopub.status.idle": "2022-03-11T12:05:51.493554Z",
     "shell.execute_reply": "2022-03-11T12:05:51.494386Z",
     "shell.execute_reply.started": "2022-03-10T15:44:08.597579Z"
    },
    "papermill": {
     "duration": 0.188172,
     "end_time": "2022-03-11T12:05:51.494671",
     "exception": false,
     "start_time": "2022-03-11T12:05:51.306499",
     "status": "completed"
    },
    "tags": []
   },
   "outputs": [],
   "source": [
    "model_DecisionTree = DecisionTreeRegressor()\n",
    "model.fit(x_train , y_train)\n",
    "DecisionTree_predictions = model.predict(x_test)"
   ]
  },
  {
   "cell_type": "code",
   "execution_count": 134,
   "id": "9417afeb",
   "metadata": {
    "execution": {
     "iopub.execute_input": "2022-03-11T12:05:51.902897Z",
     "iopub.status.busy": "2022-03-11T12:05:51.898182Z",
     "iopub.status.idle": "2022-03-11T12:05:51.910390Z",
     "shell.execute_reply": "2022-03-11T12:05:51.911088Z",
     "shell.execute_reply.started": "2022-03-10T15:44:08.660199Z"
    },
    "papermill": {
     "duration": 0.172879,
     "end_time": "2022-03-11T12:05:51.911308",
     "exception": false,
     "start_time": "2022-03-11T12:05:51.738429",
     "status": "completed"
    },
    "tags": []
   },
   "outputs": [
    {
     "name": "stdout",
     "output_type": "stream",
     "text": [
      "Mean Absolute Error(MAE): 0.08710870393765907\n",
      "Mean Squared Error(MSE): 0.013733778618474714\n",
      "Root Mean Squared Error (RMSE): 0.11719120538024479\n",
      "Explained Variance Score (EVS): 0.904755445038005\n",
      "R2: 0.9047476006497244\n",
      "R2 rounded: 0.9\n"
     ]
    }
   ],
   "source": [
    "print('Mean Absolute Error(MAE):', metrics.mean_absolute_error(y_test, DecisionTree_predictions))\n",
    "print('Mean Squared Error(MSE):', metrics.mean_squared_error(y_test, DecisionTree_predictions))\n",
    "print('Root Mean Squared Error (RMSE):', np.sqrt(metrics.mean_squared_error(y_test, DecisionTree_predictions)))\n",
    "print('Explained Variance Score (EVS):',explained_variance_score(y_test,DecisionTree_predictions))\n",
    "print('R2:',metrics.r2_score(y_test, DecisionTree_predictions))\n",
    "print('R2 rounded:',(metrics.r2_score(y_test, DecisionTree_predictions)).round(2))\n",
    "r2 = r2_score(y_test, DecisionTree_predictions)\n",
    "r2_rounded = r2_score(y_test, DecisionTree_predictions).round(2)"
   ]
  },
  {
   "cell_type": "code",
   "execution_count": 135,
   "id": "17d72af4",
   "metadata": {
    "execution": {
     "iopub.execute_input": "2022-03-11T12:05:52.233255Z",
     "iopub.status.busy": "2022-03-11T12:05:52.232576Z",
     "iopub.status.idle": "2022-03-11T12:05:52.294001Z",
     "shell.execute_reply": "2022-03-11T12:05:52.294423Z",
     "shell.execute_reply.started": "2022-03-10T15:44:08.702864Z"
    },
    "papermill": {
     "duration": 0.222049,
     "end_time": "2022-03-11T12:05:52.294609",
     "exception": false,
     "start_time": "2022-03-11T12:05:52.072560",
     "status": "completed"
    },
    "tags": []
   },
   "outputs": [],
   "source": [
    "from sklearn.ensemble import RandomForestRegressor"
   ]
  },
  {
   "cell_type": "code",
   "execution_count": 136,
   "id": "0afc7201",
   "metadata": {
    "execution": {
     "iopub.execute_input": "2022-03-11T12:05:52.613769Z",
     "iopub.status.busy": "2022-03-11T12:05:52.612794Z",
     "iopub.status.idle": "2022-03-11T12:05:52.658083Z",
     "shell.execute_reply": "2022-03-11T12:05:52.659923Z",
     "shell.execute_reply.started": "2022-03-10T15:44:08.71525Z"
    },
    "papermill": {
     "duration": 0.207584,
     "end_time": "2022-03-11T12:05:52.660220",
     "exception": false,
     "start_time": "2022-03-11T12:05:52.452636",
     "status": "completed"
    },
    "tags": []
   },
   "outputs": [],
   "source": [
    "model_RandomForest = RandomForestRegressor()\n",
    "model.fit(x_train , y_train)\n",
    "RandomForest_predictions = model.predict(x_test)"
   ]
  },
  {
   "cell_type": "code",
   "execution_count": 137,
   "id": "a1cd9f7e",
   "metadata": {
    "execution": {
     "iopub.execute_input": "2022-03-11T12:05:53.057777Z",
     "iopub.status.busy": "2022-03-11T12:05:53.057153Z",
     "iopub.status.idle": "2022-03-11T12:05:53.065325Z",
     "shell.execute_reply": "2022-03-11T12:05:53.065906Z",
     "shell.execute_reply.started": "2022-03-10T15:44:08.771601Z"
    },
    "papermill": {
     "duration": 0.176446,
     "end_time": "2022-03-11T12:05:53.066075",
     "exception": false,
     "start_time": "2022-03-11T12:05:52.889629",
     "status": "completed"
    },
    "tags": []
   },
   "outputs": [
    {
     "name": "stdout",
     "output_type": "stream",
     "text": [
      "Mean Absolute Error(MAE): 0.08710870393765907\n",
      "Mean Squared Error(MSE): 0.013733778618474714\n",
      "Root Mean Squared Error (RMSE): 0.11719120538024479\n",
      "Explained Variance Score (EVS): 0.904755445038005\n",
      "R2: 0.9047476006497244\n",
      "R2 rounded: 0.9\n"
     ]
    }
   ],
   "source": [
    "print('Mean Absolute Error(MAE):', metrics.mean_absolute_error(y_test, RandomForest_predictions))\n",
    "print('Mean Squared Error(MSE):', metrics.mean_squared_error(y_test, RandomForest_predictions))\n",
    "print('Root Mean Squared Error (RMSE):', np.sqrt(metrics.mean_squared_error(y_test, RandomForest_predictions)))\n",
    "print('Explained Variance Score (EVS):',explained_variance_score(y_test,RandomForest_predictions))\n",
    "print('R2:',metrics.r2_score(y_test, RandomForest_predictions))\n",
    "print('R2 rounded:',(metrics.r2_score(y_test, RandomForest_predictions)).round(2))\n",
    "r2 = r2_score(y_test, RandomForest_predictions)\n",
    "r2_rounded = r2_score(y_test, RandomForest_predictions).round(2)"
   ]
  },
  {
   "cell_type": "code",
   "execution_count": 138,
   "id": "94f95955",
   "metadata": {
    "execution": {
     "iopub.execute_input": "2022-03-11T12:05:53.384124Z",
     "iopub.status.busy": "2022-03-11T12:05:53.383187Z",
     "iopub.status.idle": "2022-03-11T12:05:53.391206Z",
     "shell.execute_reply": "2022-03-11T12:05:53.391690Z",
     "shell.execute_reply.started": "2022-03-10T15:44:08.807095Z"
    },
    "papermill": {
     "duration": 0.167664,
     "end_time": "2022-03-11T12:05:53.391868",
     "exception": false,
     "start_time": "2022-03-11T12:05:53.224204",
     "status": "completed"
    },
    "tags": []
   },
   "outputs": [
    {
     "data": {
      "text/plain": [
       "array([12.19865655, 12.21836881, 12.2262514 , 12.39061049, 11.78225693,\n",
       "       11.71841948, 11.67919472, 11.83408959, 11.75659412, 11.82949187,\n",
       "       11.81579033, 11.589882  , 11.6285514 , 11.66847933, 12.11108054,\n",
       "       11.94760826, 11.40105033, 12.13714922, 11.34369285, 13.1001601 ,\n",
       "       11.84836861, 12.18883833, 11.87661555, 12.37933381, 11.89453203,\n",
       "       12.57674397, 12.00385139, 11.7572944 , 11.69450187, 11.94593098,\n",
       "       12.85317061, 12.82447016, 12.56036367, 12.26815219, 12.00838139,\n",
       "       11.81175096, 11.89415369, 11.62604353, 12.91333195, 12.45549194,\n",
       "       11.73945471, 11.68853097, 11.78905669, 11.96677035, 12.38173887,\n",
       "       12.18975175, 12.21899143, 13.00847132, 12.59731393, 12.40544977,\n",
       "       11.25281042, 12.24768836, 11.72703573, 12.42597223, 12.05113766,\n",
       "       12.59980093, 11.8753197 , 11.63481295, 12.46361248, 12.42760034,\n",
       "       12.14127512, 12.11146807, 11.74888869, 11.59096666, 11.53620831,\n",
       "       11.8515105 , 11.68520113, 11.517361  , 12.13625912, 12.65271723,\n",
       "       11.93503067, 12.27219767, 12.16481465, 11.9362977 , 12.22947246,\n",
       "       12.02370954, 11.85725048, 12.16157628, 11.4990619 , 11.60519256,\n",
       "       12.63291667, 11.67214068, 11.88762838, 12.20435698, 11.56224277,\n",
       "       12.26286355, 11.70949973, 12.1030885 , 12.48391956, 12.00799962,\n",
       "       12.65126462, 12.42618667, 11.36250368, 12.25796672, 11.54735428,\n",
       "       11.55460986, 11.8066241 , 11.7732425 , 12.40770067, 12.60541393,\n",
       "       11.4655169 , 11.92324092, 11.65523236, 12.1326304 , 12.20593739,\n",
       "       12.0883748 , 12.34964083, 11.75919824, 11.71528456, 12.01470167,\n",
       "       11.93777345, 12.11021753, 12.1676846 , 13.02809351, 12.02913789,\n",
       "       12.22127702, 11.07445599, 11.78849434, 11.62776299, 12.25626412,\n",
       "       11.53882022, 12.54735006, 11.61859154, 11.89899214, 12.37539751,\n",
       "       12.00154843, 11.32499474, 11.82620035, 11.68085204, 12.07409949,\n",
       "       12.44111101, 11.74932345, 11.70181275, 12.27587905, 12.0883562 ,\n",
       "       12.59762206, 12.25956168, 11.35798424, 12.00367598, 12.13893685,\n",
       "       11.52071574, 12.42357236, 11.91260269, 11.75175578, 11.68324981,\n",
       "       12.38765344, 11.45175322, 12.40208032, 12.7741907 , 12.79425047,\n",
       "       11.75030216, 11.58342728, 11.45015007, 11.88071898, 11.82627178,\n",
       "       11.37618972, 11.93232632, 12.54458323, 12.20623912, 12.35516737,\n",
       "       11.85639111, 11.86438698, 12.599846  , 12.44270723, 11.86594083,\n",
       "       11.78274766, 11.50082029, 12.09160429, 12.08844873, 13.02644976,\n",
       "       11.56217487, 12.32024173, 11.75242906, 12.51467674, 11.84067674,\n",
       "       12.36496432, 11.58941286, 12.24865952, 12.08471365, 11.76082993,\n",
       "       12.15464209, 11.94906628, 12.1338681 , 11.90037375, 12.91539776,\n",
       "       11.95135628, 12.03803131, 11.51604316, 11.92313389, 11.97044273,\n",
       "       11.67388643, 12.0261845 , 12.40971701, 12.13183635, 11.99738504,\n",
       "       12.14564551, 12.16980345, 11.49358939, 11.83276122, 12.08975067,\n",
       "       11.69916849, 11.94730832, 12.49449817, 11.9780912 , 11.92224139,\n",
       "       12.12103112, 12.27036567, 11.87508118, 11.5377963 , 12.76300059,\n",
       "       11.69920161, 11.55444608, 12.11709594, 11.86409186, 11.9241671 ,\n",
       "       11.31808471, 11.84604937, 11.97692744, 12.26360317, 11.78701401,\n",
       "       11.96574374, 12.22666487, 11.73556685, 12.13772143, 11.61082121,\n",
       "       12.24148406, 12.03735926, 11.42845728, 11.99492523, 11.59459207,\n",
       "       12.32792126, 12.46294099, 12.07620776, 11.99835283, 12.08062844,\n",
       "       11.99374434, 11.93921853, 12.37600965, 12.08340939, 12.13221905,\n",
       "       11.3384321 , 11.66769284, 12.66744758, 12.20775566, 11.76451291,\n",
       "       11.90527591, 11.53179774, 12.15620729, 12.45043228, 12.00695453,\n",
       "       12.12352217, 12.28794363, 11.84976072, 11.76984704, 12.07498168,\n",
       "       11.46417583, 12.63367292, 12.21989166, 12.88954791, 12.47021941,\n",
       "       12.05223646, 12.42532855, 12.39608051, 11.66683459, 12.4296275 ,\n",
       "       12.11835579, 12.64574877, 13.00950344, 12.1528063 , 11.44358452,\n",
       "       11.83970758, 12.44210589, 12.17138605, 11.94755784, 12.3828417 ,\n",
       "       12.76840483, 11.80951971, 12.18880543, 11.87165311, 11.70310997,\n",
       "       11.74783225, 11.59321992, 11.3646679 , 11.67987716, 11.44136029,\n",
       "       11.90152033, 12.44972264, 12.40715429, 12.12769145, 11.92652452])"
      ]
     },
     "execution_count": 138,
     "metadata": {},
     "output_type": "execute_result"
    }
   ],
   "source": [
    "RandomForest_predictions"
   ]
  },
  {
   "cell_type": "code",
   "execution_count": 139,
   "id": "31b3aca6",
   "metadata": {
    "execution": {
     "iopub.execute_input": "2022-03-11T12:05:53.711303Z",
     "iopub.status.busy": "2022-03-11T12:05:53.710404Z",
     "iopub.status.idle": "2022-03-11T12:05:53.726263Z",
     "shell.execute_reply": "2022-03-11T12:05:53.726814Z",
     "shell.execute_reply.started": "2022-03-10T15:44:08.837517Z"
    },
    "papermill": {
     "duration": 0.178038,
     "end_time": "2022-03-11T12:05:53.726987",
     "exception": false,
     "start_time": "2022-03-11T12:05:53.548949",
     "status": "completed"
    },
    "tags": []
   },
   "outputs": [
    {
     "data": {
      "text/html": [
       "<div>\n",
       "<style scoped>\n",
       "    .dataframe tbody tr th:only-of-type {\n",
       "        vertical-align: middle;\n",
       "    }\n",
       "\n",
       "    .dataframe tbody tr th {\n",
       "        vertical-align: top;\n",
       "    }\n",
       "\n",
       "    .dataframe thead th {\n",
       "        text-align: right;\n",
       "    }\n",
       "</style>\n",
       "<table border=\"1\" class=\"dataframe\">\n",
       "  <thead>\n",
       "    <tr style=\"text-align: right;\">\n",
       "      <th></th>\n",
       "      <th>Id</th>\n",
       "      <th>MSSubClass</th>\n",
       "      <th>MSZoning</th>\n",
       "      <th>LotFrontage</th>\n",
       "      <th>LotArea</th>\n",
       "      <th>Street</th>\n",
       "      <th>LotShape</th>\n",
       "      <th>LandContour</th>\n",
       "      <th>Utilities</th>\n",
       "      <th>LotConfig</th>\n",
       "      <th>...</th>\n",
       "      <th>OpenPorchSF</th>\n",
       "      <th>EnclosedPorch</th>\n",
       "      <th>3SsnPorch</th>\n",
       "      <th>ScreenPorch</th>\n",
       "      <th>PoolArea</th>\n",
       "      <th>MiscVal</th>\n",
       "      <th>MoSold</th>\n",
       "      <th>YrSold</th>\n",
       "      <th>SaleType</th>\n",
       "      <th>SaleCondition</th>\n",
       "    </tr>\n",
       "  </thead>\n",
       "  <tbody>\n",
       "    <tr>\n",
       "      <th>0</th>\n",
       "      <td>1461</td>\n",
       "      <td>0</td>\n",
       "      <td>2</td>\n",
       "      <td>80.0</td>\n",
       "      <td>11622</td>\n",
       "      <td>1</td>\n",
       "      <td>3</td>\n",
       "      <td>3</td>\n",
       "      <td>0</td>\n",
       "      <td>4</td>\n",
       "      <td>...</td>\n",
       "      <td>0</td>\n",
       "      <td>0</td>\n",
       "      <td>0</td>\n",
       "      <td>120</td>\n",
       "      <td>0</td>\n",
       "      <td>0</td>\n",
       "      <td>5</td>\n",
       "      <td>4</td>\n",
       "      <td>8</td>\n",
       "      <td>4</td>\n",
       "    </tr>\n",
       "    <tr>\n",
       "      <th>1</th>\n",
       "      <td>1462</td>\n",
       "      <td>0</td>\n",
       "      <td>3</td>\n",
       "      <td>81.0</td>\n",
       "      <td>14267</td>\n",
       "      <td>1</td>\n",
       "      <td>0</td>\n",
       "      <td>3</td>\n",
       "      <td>0</td>\n",
       "      <td>0</td>\n",
       "      <td>...</td>\n",
       "      <td>36</td>\n",
       "      <td>0</td>\n",
       "      <td>0</td>\n",
       "      <td>0</td>\n",
       "      <td>0</td>\n",
       "      <td>12500</td>\n",
       "      <td>5</td>\n",
       "      <td>4</td>\n",
       "      <td>8</td>\n",
       "      <td>4</td>\n",
       "    </tr>\n",
       "    <tr>\n",
       "      <th>2</th>\n",
       "      <td>1463</td>\n",
       "      <td>5</td>\n",
       "      <td>3</td>\n",
       "      <td>74.0</td>\n",
       "      <td>13830</td>\n",
       "      <td>1</td>\n",
       "      <td>0</td>\n",
       "      <td>3</td>\n",
       "      <td>0</td>\n",
       "      <td>4</td>\n",
       "      <td>...</td>\n",
       "      <td>34</td>\n",
       "      <td>0</td>\n",
       "      <td>0</td>\n",
       "      <td>0</td>\n",
       "      <td>0</td>\n",
       "      <td>0</td>\n",
       "      <td>2</td>\n",
       "      <td>4</td>\n",
       "      <td>8</td>\n",
       "      <td>4</td>\n",
       "    </tr>\n",
       "    <tr>\n",
       "      <th>3</th>\n",
       "      <td>1464</td>\n",
       "      <td>5</td>\n",
       "      <td>3</td>\n",
       "      <td>78.0</td>\n",
       "      <td>9978</td>\n",
       "      <td>1</td>\n",
       "      <td>0</td>\n",
       "      <td>3</td>\n",
       "      <td>0</td>\n",
       "      <td>4</td>\n",
       "      <td>...</td>\n",
       "      <td>36</td>\n",
       "      <td>0</td>\n",
       "      <td>0</td>\n",
       "      <td>0</td>\n",
       "      <td>0</td>\n",
       "      <td>0</td>\n",
       "      <td>5</td>\n",
       "      <td>4</td>\n",
       "      <td>8</td>\n",
       "      <td>4</td>\n",
       "    </tr>\n",
       "    <tr>\n",
       "      <th>4</th>\n",
       "      <td>1465</td>\n",
       "      <td>11</td>\n",
       "      <td>3</td>\n",
       "      <td>43.0</td>\n",
       "      <td>5005</td>\n",
       "      <td>1</td>\n",
       "      <td>0</td>\n",
       "      <td>1</td>\n",
       "      <td>0</td>\n",
       "      <td>4</td>\n",
       "      <td>...</td>\n",
       "      <td>82</td>\n",
       "      <td>0</td>\n",
       "      <td>0</td>\n",
       "      <td>144</td>\n",
       "      <td>0</td>\n",
       "      <td>0</td>\n",
       "      <td>0</td>\n",
       "      <td>4</td>\n",
       "      <td>8</td>\n",
       "      <td>4</td>\n",
       "    </tr>\n",
       "  </tbody>\n",
       "</table>\n",
       "<p>5 rows × 75 columns</p>\n",
       "</div>"
      ],
      "text/plain": [
       "     Id  MSSubClass  MSZoning  LotFrontage  LotArea  Street  LotShape  \\\n",
       "0  1461           0         2         80.0    11622       1         3   \n",
       "1  1462           0         3         81.0    14267       1         0   \n",
       "2  1463           5         3         74.0    13830       1         0   \n",
       "3  1464           5         3         78.0     9978       1         0   \n",
       "4  1465          11         3         43.0     5005       1         0   \n",
       "\n",
       "   LandContour  Utilities  LotConfig  ...  OpenPorchSF  EnclosedPorch  \\\n",
       "0            3          0          4  ...            0              0   \n",
       "1            3          0          0  ...           36              0   \n",
       "2            3          0          4  ...           34              0   \n",
       "3            3          0          4  ...           36              0   \n",
       "4            1          0          4  ...           82              0   \n",
       "\n",
       "   3SsnPorch  ScreenPorch  PoolArea  MiscVal  MoSold  YrSold  SaleType  \\\n",
       "0          0          120         0        0       5       4         8   \n",
       "1          0            0         0    12500       5       4         8   \n",
       "2          0            0         0        0       2       4         8   \n",
       "3          0            0         0        0       5       4         8   \n",
       "4          0          144         0        0       0       4         8   \n",
       "\n",
       "   SaleCondition  \n",
       "0              4  \n",
       "1              4  \n",
       "2              4  \n",
       "3              4  \n",
       "4              4  \n",
       "\n",
       "[5 rows x 75 columns]"
      ]
     },
     "execution_count": 139,
     "metadata": {},
     "output_type": "execute_result"
    }
   ],
   "source": [
    "df_test.head()"
   ]
  },
  {
   "cell_type": "code",
   "execution_count": 140,
   "id": "da8321c5",
   "metadata": {
    "execution": {
     "iopub.execute_input": "2022-03-11T12:05:54.051811Z",
     "iopub.status.busy": "2022-03-11T12:05:54.050704Z",
     "iopub.status.idle": "2022-03-11T12:05:54.063899Z",
     "shell.execute_reply": "2022-03-11T12:05:54.064399Z",
     "shell.execute_reply.started": "2022-03-10T15:44:08.892185Z"
    },
    "papermill": {
     "duration": 0.176756,
     "end_time": "2022-03-11T12:05:54.064568",
     "exception": false,
     "start_time": "2022-03-11T12:05:53.887812",
     "status": "completed"
    },
    "tags": []
   },
   "outputs": [
    {
     "name": "stdout",
     "output_type": "stream",
     "text": [
      "<class 'pandas.core.frame.DataFrame'>\n",
      "RangeIndex: 1459 entries, 0 to 1458\n",
      "Data columns (total 75 columns):\n",
      " #   Column         Non-Null Count  Dtype  \n",
      "---  ------         --------------  -----  \n",
      " 0   Id             1459 non-null   int64  \n",
      " 1   MSSubClass     1459 non-null   int64  \n",
      " 2   MSZoning       1459 non-null   int64  \n",
      " 3   LotFrontage    1459 non-null   float64\n",
      " 4   LotArea        1459 non-null   int64  \n",
      " 5   Street         1459 non-null   int64  \n",
      " 6   LotShape       1459 non-null   int64  \n",
      " 7   LandContour    1459 non-null   int64  \n",
      " 8   Utilities      1459 non-null   int64  \n",
      " 9   LotConfig      1459 non-null   int64  \n",
      " 10  LandSlope      1459 non-null   int64  \n",
      " 11  Neighborhood   1459 non-null   int64  \n",
      " 12  Condition1     1459 non-null   int64  \n",
      " 13  Condition2     1459 non-null   int64  \n",
      " 14  BldgType       1459 non-null   int64  \n",
      " 15  HouseStyle     1459 non-null   int64  \n",
      " 16  OverallQual    1459 non-null   int64  \n",
      " 17  OverallCond    1459 non-null   int64  \n",
      " 18  YearBuilt      1459 non-null   int64  \n",
      " 19  YearRemodAdd   1459 non-null   int64  \n",
      " 20  RoofStyle      1459 non-null   int64  \n",
      " 21  RoofMatl       1459 non-null   int64  \n",
      " 22  Exterior1st    1459 non-null   int64  \n",
      " 23  Exterior2nd    1459 non-null   int64  \n",
      " 24  MasVnrType     1459 non-null   int64  \n",
      " 25  MasVnrArea     1459 non-null   float64\n",
      " 26  ExterQual      1459 non-null   int64  \n",
      " 27  ExterCond      1459 non-null   int64  \n",
      " 28  Foundation     1459 non-null   int64  \n",
      " 29  BsmtQual       1459 non-null   int64  \n",
      " 30  BsmtCond       1459 non-null   int64  \n",
      " 31  BsmtExposure   1459 non-null   int64  \n",
      " 32  BsmtFinType1   1459 non-null   int64  \n",
      " 33  BsmtFinSF1     1459 non-null   float64\n",
      " 34  BsmtFinType2   1459 non-null   int64  \n",
      " 35  BsmtFinSF2     1459 non-null   float64\n",
      " 36  BsmtUnfSF      1459 non-null   float64\n",
      " 37  TotalBsmtSF    1459 non-null   float64\n",
      " 38  Heating        1459 non-null   int64  \n",
      " 39  HeatingQC      1459 non-null   int64  \n",
      " 40  CentralAir     1459 non-null   int64  \n",
      " 41  Electrical     1459 non-null   int64  \n",
      " 42  1stFlrSF       1459 non-null   int64  \n",
      " 43  2ndFlrSF       1459 non-null   int64  \n",
      " 44  LowQualFinSF   1459 non-null   int64  \n",
      " 45  GrLivArea      1459 non-null   int64  \n",
      " 46  BsmtFullBath   1459 non-null   float64\n",
      " 47  BsmtHalfBath   1459 non-null   float64\n",
      " 48  FullBath       1459 non-null   int64  \n",
      " 49  HalfBath       1459 non-null   int64  \n",
      " 50  BedroomAbvGr   1459 non-null   int64  \n",
      " 51  KitchenAbvGr   1459 non-null   int64  \n",
      " 52  KitchenQual    1459 non-null   int64  \n",
      " 53  TotRmsAbvGrd   1459 non-null   int64  \n",
      " 54  Functional     1459 non-null   int64  \n",
      " 55  Fireplaces     1459 non-null   int64  \n",
      " 56  GarageType     1459 non-null   int64  \n",
      " 57  GarageYrBlt    1459 non-null   float64\n",
      " 58  GarageFinish   1459 non-null   int64  \n",
      " 59  GarageCars     1459 non-null   float64\n",
      " 60  GarageArea     1459 non-null   float64\n",
      " 61  GarageQual     1459 non-null   int64  \n",
      " 62  GarageCond     1459 non-null   int64  \n",
      " 63  PavedDrive     1459 non-null   int64  \n",
      " 64  WoodDeckSF     1459 non-null   int64  \n",
      " 65  OpenPorchSF    1459 non-null   int64  \n",
      " 66  EnclosedPorch  1459 non-null   int64  \n",
      " 67  3SsnPorch      1459 non-null   int64  \n",
      " 68  ScreenPorch    1459 non-null   int64  \n",
      " 69  PoolArea       1459 non-null   int64  \n",
      " 70  MiscVal        1459 non-null   int64  \n",
      " 71  MoSold         1459 non-null   int64  \n",
      " 72  YrSold         1459 non-null   int64  \n",
      " 73  SaleType       1459 non-null   int64  \n",
      " 74  SaleCondition  1459 non-null   int64  \n",
      "dtypes: float64(11), int64(64)\n",
      "memory usage: 855.0 KB\n"
     ]
    }
   ],
   "source": [
    "df_test.info()"
   ]
  },
  {
   "cell_type": "code",
   "execution_count": 141,
   "id": "bc0c2493",
   "metadata": {
    "execution": {
     "iopub.execute_input": "2022-03-11T12:05:54.454171Z",
     "iopub.status.busy": "2022-03-11T12:05:54.441628Z",
     "iopub.status.idle": "2022-03-11T12:05:54.458005Z",
     "shell.execute_reply": "2022-03-11T12:05:54.458782Z",
     "shell.execute_reply.started": "2022-03-10T15:44:08.912845Z"
    },
    "papermill": {
     "duration": 0.181015,
     "end_time": "2022-03-11T12:05:54.459005",
     "exception": false,
     "start_time": "2022-03-11T12:05:54.277990",
     "status": "completed"
    },
    "tags": []
   },
   "outputs": [
    {
     "name": "stdout",
     "output_type": "stream",
     "text": [
      "<class 'pandas.core.frame.DataFrame'>\n",
      "Int64Index: 290 entries, 827 to 214\n",
      "Data columns (total 75 columns):\n",
      " #   Column         Non-Null Count  Dtype  \n",
      "---  ------         --------------  -----  \n",
      " 0   Id             290 non-null    int64  \n",
      " 1   MSSubClass     290 non-null    int64  \n",
      " 2   MSZoning       290 non-null    int64  \n",
      " 3   LotFrontage    290 non-null    float64\n",
      " 4   LotArea        290 non-null    int64  \n",
      " 5   Street         290 non-null    int64  \n",
      " 6   LotShape       290 non-null    int64  \n",
      " 7   LandContour    290 non-null    int64  \n",
      " 8   Utilities      290 non-null    int64  \n",
      " 9   LotConfig      290 non-null    int64  \n",
      " 10  LandSlope      290 non-null    int64  \n",
      " 11  Neighborhood   290 non-null    int64  \n",
      " 12  Condition1     290 non-null    int64  \n",
      " 13  Condition2     290 non-null    int64  \n",
      " 14  BldgType       290 non-null    int64  \n",
      " 15  HouseStyle     290 non-null    int64  \n",
      " 16  OverallQual    290 non-null    int64  \n",
      " 17  OverallCond    290 non-null    int64  \n",
      " 18  YearBuilt      290 non-null    int64  \n",
      " 19  YearRemodAdd   290 non-null    int64  \n",
      " 20  RoofStyle      290 non-null    int64  \n",
      " 21  RoofMatl       290 non-null    int64  \n",
      " 22  Exterior1st    290 non-null    int64  \n",
      " 23  Exterior2nd    290 non-null    int64  \n",
      " 24  MasVnrType     290 non-null    int64  \n",
      " 25  MasVnrArea     290 non-null    float64\n",
      " 26  ExterQual      290 non-null    int64  \n",
      " 27  ExterCond      290 non-null    int64  \n",
      " 28  Foundation     290 non-null    int64  \n",
      " 29  BsmtQual       290 non-null    int64  \n",
      " 30  BsmtCond       290 non-null    int64  \n",
      " 31  BsmtExposure   290 non-null    int64  \n",
      " 32  BsmtFinType1   290 non-null    int64  \n",
      " 33  BsmtFinSF1     290 non-null    int64  \n",
      " 34  BsmtFinType2   290 non-null    int64  \n",
      " 35  BsmtFinSF2     290 non-null    int64  \n",
      " 36  BsmtUnfSF      290 non-null    int64  \n",
      " 37  TotalBsmtSF    290 non-null    int64  \n",
      " 38  Heating        290 non-null    int64  \n",
      " 39  HeatingQC      290 non-null    int64  \n",
      " 40  CentralAir     290 non-null    int64  \n",
      " 41  Electrical     290 non-null    int64  \n",
      " 42  1stFlrSF       290 non-null    int64  \n",
      " 43  2ndFlrSF       290 non-null    int64  \n",
      " 44  LowQualFinSF   290 non-null    int64  \n",
      " 45  GrLivArea      290 non-null    int64  \n",
      " 46  BsmtFullBath   290 non-null    int64  \n",
      " 47  BsmtHalfBath   290 non-null    int64  \n",
      " 48  FullBath       290 non-null    int64  \n",
      " 49  HalfBath       290 non-null    int64  \n",
      " 50  BedroomAbvGr   290 non-null    int64  \n",
      " 51  KitchenAbvGr   290 non-null    int64  \n",
      " 52  KitchenQual    290 non-null    int64  \n",
      " 53  TotRmsAbvGrd   290 non-null    int64  \n",
      " 54  Functional     290 non-null    int64  \n",
      " 55  Fireplaces     290 non-null    int64  \n",
      " 56  GarageType     290 non-null    int64  \n",
      " 57  GarageYrBlt    290 non-null    float64\n",
      " 58  GarageFinish   290 non-null    int64  \n",
      " 59  GarageCars     290 non-null    int64  \n",
      " 60  GarageArea     290 non-null    int64  \n",
      " 61  GarageQual     290 non-null    int64  \n",
      " 62  GarageCond     290 non-null    int64  \n",
      " 63  PavedDrive     290 non-null    int64  \n",
      " 64  WoodDeckSF     290 non-null    int64  \n",
      " 65  OpenPorchSF    290 non-null    int64  \n",
      " 66  EnclosedPorch  290 non-null    int64  \n",
      " 67  3SsnPorch      290 non-null    int64  \n",
      " 68  ScreenPorch    290 non-null    int64  \n",
      " 69  PoolArea       290 non-null    int64  \n",
      " 70  MiscVal        290 non-null    int64  \n",
      " 71  MoSold         290 non-null    int64  \n",
      " 72  YrSold         290 non-null    int64  \n",
      " 73  SaleType       290 non-null    int64  \n",
      " 74  SaleCondition  290 non-null    int64  \n",
      "dtypes: float64(3), int64(72)\n",
      "memory usage: 172.2 KB\n"
     ]
    }
   ],
   "source": [
    "x_test.info()"
   ]
  },
  {
   "cell_type": "code",
   "execution_count": 142,
   "id": "94c2c46d",
   "metadata": {
    "execution": {
     "iopub.execute_input": "2022-03-11T12:05:54.784311Z",
     "iopub.status.busy": "2022-03-11T12:05:54.783670Z",
     "iopub.status.idle": "2022-03-11T12:05:54.796634Z",
     "shell.execute_reply": "2022-03-11T12:05:54.797123Z",
     "shell.execute_reply.started": "2022-03-10T15:44:08.939875Z"
    },
    "papermill": {
     "duration": 0.177424,
     "end_time": "2022-03-11T12:05:54.797284",
     "exception": false,
     "start_time": "2022-03-11T12:05:54.619860",
     "status": "completed"
    },
    "tags": []
   },
   "outputs": [
    {
     "data": {
      "text/html": [
       "<div>\n",
       "<style scoped>\n",
       "    .dataframe tbody tr th:only-of-type {\n",
       "        vertical-align: middle;\n",
       "    }\n",
       "\n",
       "    .dataframe tbody tr th {\n",
       "        vertical-align: top;\n",
       "    }\n",
       "\n",
       "    .dataframe thead th {\n",
       "        text-align: right;\n",
       "    }\n",
       "</style>\n",
       "<table border=\"1\" class=\"dataframe\">\n",
       "  <thead>\n",
       "    <tr style=\"text-align: right;\">\n",
       "      <th></th>\n",
       "      <th>Missing Ratio</th>\n",
       "    </tr>\n",
       "  </thead>\n",
       "  <tbody>\n",
       "    <tr>\n",
       "      <th>Id</th>\n",
       "      <td>0.0</td>\n",
       "    </tr>\n",
       "    <tr>\n",
       "      <th>GarageType</th>\n",
       "      <td>0.0</td>\n",
       "    </tr>\n",
       "    <tr>\n",
       "      <th>Functional</th>\n",
       "      <td>0.0</td>\n",
       "    </tr>\n",
       "    <tr>\n",
       "      <th>TotRmsAbvGrd</th>\n",
       "      <td>0.0</td>\n",
       "    </tr>\n",
       "    <tr>\n",
       "      <th>KitchenQual</th>\n",
       "      <td>0.0</td>\n",
       "    </tr>\n",
       "    <tr>\n",
       "      <th>KitchenAbvGr</th>\n",
       "      <td>0.0</td>\n",
       "    </tr>\n",
       "    <tr>\n",
       "      <th>BedroomAbvGr</th>\n",
       "      <td>0.0</td>\n",
       "    </tr>\n",
       "    <tr>\n",
       "      <th>HalfBath</th>\n",
       "      <td>0.0</td>\n",
       "    </tr>\n",
       "    <tr>\n",
       "      <th>FullBath</th>\n",
       "      <td>0.0</td>\n",
       "    </tr>\n",
       "    <tr>\n",
       "      <th>BsmtHalfBath</th>\n",
       "      <td>0.0</td>\n",
       "    </tr>\n",
       "    <tr>\n",
       "      <th>BsmtFullBath</th>\n",
       "      <td>0.0</td>\n",
       "    </tr>\n",
       "    <tr>\n",
       "      <th>GrLivArea</th>\n",
       "      <td>0.0</td>\n",
       "    </tr>\n",
       "    <tr>\n",
       "      <th>LowQualFinSF</th>\n",
       "      <td>0.0</td>\n",
       "    </tr>\n",
       "    <tr>\n",
       "      <th>2ndFlrSF</th>\n",
       "      <td>0.0</td>\n",
       "    </tr>\n",
       "    <tr>\n",
       "      <th>1stFlrSF</th>\n",
       "      <td>0.0</td>\n",
       "    </tr>\n",
       "    <tr>\n",
       "      <th>Electrical</th>\n",
       "      <td>0.0</td>\n",
       "    </tr>\n",
       "    <tr>\n",
       "      <th>CentralAir</th>\n",
       "      <td>0.0</td>\n",
       "    </tr>\n",
       "    <tr>\n",
       "      <th>Fireplaces</th>\n",
       "      <td>0.0</td>\n",
       "    </tr>\n",
       "    <tr>\n",
       "      <th>GarageYrBlt</th>\n",
       "      <td>0.0</td>\n",
       "    </tr>\n",
       "    <tr>\n",
       "      <th>Heating</th>\n",
       "      <td>0.0</td>\n",
       "    </tr>\n",
       "    <tr>\n",
       "      <th>GarageFinish</th>\n",
       "      <td>0.0</td>\n",
       "    </tr>\n",
       "    <tr>\n",
       "      <th>SaleType</th>\n",
       "      <td>0.0</td>\n",
       "    </tr>\n",
       "    <tr>\n",
       "      <th>YrSold</th>\n",
       "      <td>0.0</td>\n",
       "    </tr>\n",
       "    <tr>\n",
       "      <th>MoSold</th>\n",
       "      <td>0.0</td>\n",
       "    </tr>\n",
       "    <tr>\n",
       "      <th>MiscVal</th>\n",
       "      <td>0.0</td>\n",
       "    </tr>\n",
       "    <tr>\n",
       "      <th>PoolArea</th>\n",
       "      <td>0.0</td>\n",
       "    </tr>\n",
       "    <tr>\n",
       "      <th>ScreenPorch</th>\n",
       "      <td>0.0</td>\n",
       "    </tr>\n",
       "    <tr>\n",
       "      <th>3SsnPorch</th>\n",
       "      <td>0.0</td>\n",
       "    </tr>\n",
       "    <tr>\n",
       "      <th>EnclosedPorch</th>\n",
       "      <td>0.0</td>\n",
       "    </tr>\n",
       "    <tr>\n",
       "      <th>OpenPorchSF</th>\n",
       "      <td>0.0</td>\n",
       "    </tr>\n",
       "  </tbody>\n",
       "</table>\n",
       "</div>"
      ],
      "text/plain": [
       "               Missing Ratio\n",
       "Id                       0.0\n",
       "GarageType               0.0\n",
       "Functional               0.0\n",
       "TotRmsAbvGrd             0.0\n",
       "KitchenQual              0.0\n",
       "KitchenAbvGr             0.0\n",
       "BedroomAbvGr             0.0\n",
       "HalfBath                 0.0\n",
       "FullBath                 0.0\n",
       "BsmtHalfBath             0.0\n",
       "BsmtFullBath             0.0\n",
       "GrLivArea                0.0\n",
       "LowQualFinSF             0.0\n",
       "2ndFlrSF                 0.0\n",
       "1stFlrSF                 0.0\n",
       "Electrical               0.0\n",
       "CentralAir               0.0\n",
       "Fireplaces               0.0\n",
       "GarageYrBlt              0.0\n",
       "Heating                  0.0\n",
       "GarageFinish             0.0\n",
       "SaleType                 0.0\n",
       "YrSold                   0.0\n",
       "MoSold                   0.0\n",
       "MiscVal                  0.0\n",
       "PoolArea                 0.0\n",
       "ScreenPorch              0.0\n",
       "3SsnPorch                0.0\n",
       "EnclosedPorch            0.0\n",
       "OpenPorchSF              0.0"
      ]
     },
     "execution_count": 142,
     "metadata": {},
     "output_type": "execute_result"
    }
   ],
   "source": [
    "df_test_nu = (df_test.isnull().sum() / len(df_test)) * 100\n",
    "df_test_nu = df_test_nu.drop(df_train_nu[df_test_nu == 0].index).sort_values(ascending=False)[:30]\n",
    "missing_data = pd.DataFrame({'Missing Ratio' :df_test_nu})\n",
    "missing_data.head(100)"
   ]
  },
  {
   "cell_type": "code",
   "execution_count": 143,
   "id": "d87dc74d",
   "metadata": {
    "execution": {
     "iopub.execute_input": "2022-03-11T12:05:55.131093Z",
     "iopub.status.busy": "2022-03-11T12:05:55.129941Z",
     "iopub.status.idle": "2022-03-11T12:05:55.136029Z",
     "shell.execute_reply": "2022-03-11T12:05:55.136974Z",
     "shell.execute_reply.started": "2022-03-10T15:44:08.969135Z"
    },
    "papermill": {
     "duration": 0.180874,
     "end_time": "2022-03-11T12:05:55.137237",
     "exception": false,
     "start_time": "2022-03-11T12:05:54.956363",
     "status": "completed"
    },
    "tags": []
   },
   "outputs": [],
   "source": [
    "test_RandomForest_predictions = model.predict(df_test)"
   ]
  },
  {
   "cell_type": "code",
   "execution_count": 144,
   "id": "2197f0b6",
   "metadata": {
    "execution": {
     "iopub.execute_input": "2022-03-11T12:05:55.514661Z",
     "iopub.status.busy": "2022-03-11T12:05:55.514054Z",
     "iopub.status.idle": "2022-03-11T12:05:55.517461Z",
     "shell.execute_reply": "2022-03-11T12:05:55.516906Z",
     "shell.execute_reply.started": "2022-03-10T15:45:02.386202Z"
    },
    "papermill": {
     "duration": 0.166792,
     "end_time": "2022-03-11T12:05:55.517593",
     "exception": false,
     "start_time": "2022-03-11T12:05:55.350801",
     "status": "completed"
    },
    "tags": []
   },
   "outputs": [
    {
     "data": {
      "text/plain": [
       "array([11.71500643, 11.98548737, 12.10129369, ..., 12.08584585,\n",
       "       11.74026449, 12.3752145 ])"
      ]
     },
     "execution_count": 144,
     "metadata": {},
     "output_type": "execute_result"
    }
   ],
   "source": [
    "test_RandomForest_predictions"
   ]
  },
  {
   "cell_type": "code",
   "execution_count": 145,
   "id": "a48a71a5",
   "metadata": {
    "execution": {
     "iopub.execute_input": "2022-03-11T12:05:55.851412Z",
     "iopub.status.busy": "2022-03-11T12:05:55.850769Z",
     "iopub.status.idle": "2022-03-11T12:05:55.854960Z",
     "shell.execute_reply": "2022-03-11T12:05:55.855424Z",
     "shell.execute_reply.started": "2022-03-10T15:44:08.990604Z"
    },
    "papermill": {
     "duration": 0.17329,
     "end_time": "2022-03-11T12:05:55.855596",
     "exception": false,
     "start_time": "2022-03-11T12:05:55.682306",
     "status": "completed"
    },
    "tags": []
   },
   "outputs": [],
   "source": [
    "submission = df_test[['Id']]"
   ]
  },
  {
   "cell_type": "code",
   "execution_count": 146,
   "id": "fd09b1dd",
   "metadata": {
    "execution": {
     "iopub.execute_input": "2022-03-11T12:05:56.185964Z",
     "iopub.status.busy": "2022-03-11T12:05:56.185285Z",
     "iopub.status.idle": "2022-03-11T12:05:56.189305Z",
     "shell.execute_reply": "2022-03-11T12:05:56.188798Z",
     "shell.execute_reply.started": "2022-03-10T15:44:09.006253Z"
    },
    "papermill": {
     "duration": 0.17317,
     "end_time": "2022-03-11T12:05:56.189452",
     "exception": false,
     "start_time": "2022-03-11T12:05:56.016282",
     "status": "completed"
    },
    "tags": []
   },
   "outputs": [
    {
     "data": {
      "text/html": [
       "<div>\n",
       "<style scoped>\n",
       "    .dataframe tbody tr th:only-of-type {\n",
       "        vertical-align: middle;\n",
       "    }\n",
       "\n",
       "    .dataframe tbody tr th {\n",
       "        vertical-align: top;\n",
       "    }\n",
       "\n",
       "    .dataframe thead th {\n",
       "        text-align: right;\n",
       "    }\n",
       "</style>\n",
       "<table border=\"1\" class=\"dataframe\">\n",
       "  <thead>\n",
       "    <tr style=\"text-align: right;\">\n",
       "      <th></th>\n",
       "      <th>Id</th>\n",
       "    </tr>\n",
       "  </thead>\n",
       "  <tbody>\n",
       "    <tr>\n",
       "      <th>0</th>\n",
       "      <td>1461</td>\n",
       "    </tr>\n",
       "    <tr>\n",
       "      <th>1</th>\n",
       "      <td>1462</td>\n",
       "    </tr>\n",
       "    <tr>\n",
       "      <th>2</th>\n",
       "      <td>1463</td>\n",
       "    </tr>\n",
       "    <tr>\n",
       "      <th>3</th>\n",
       "      <td>1464</td>\n",
       "    </tr>\n",
       "    <tr>\n",
       "      <th>4</th>\n",
       "      <td>1465</td>\n",
       "    </tr>\n",
       "    <tr>\n",
       "      <th>...</th>\n",
       "      <td>...</td>\n",
       "    </tr>\n",
       "    <tr>\n",
       "      <th>1454</th>\n",
       "      <td>2915</td>\n",
       "    </tr>\n",
       "    <tr>\n",
       "      <th>1455</th>\n",
       "      <td>2916</td>\n",
       "    </tr>\n",
       "    <tr>\n",
       "      <th>1456</th>\n",
       "      <td>2917</td>\n",
       "    </tr>\n",
       "    <tr>\n",
       "      <th>1457</th>\n",
       "      <td>2918</td>\n",
       "    </tr>\n",
       "    <tr>\n",
       "      <th>1458</th>\n",
       "      <td>2919</td>\n",
       "    </tr>\n",
       "  </tbody>\n",
       "</table>\n",
       "<p>1459 rows × 1 columns</p>\n",
       "</div>"
      ],
      "text/plain": [
       "        Id\n",
       "0     1461\n",
       "1     1462\n",
       "2     1463\n",
       "3     1464\n",
       "4     1465\n",
       "...    ...\n",
       "1454  2915\n",
       "1455  2916\n",
       "1456  2917\n",
       "1457  2918\n",
       "1458  2919\n",
       "\n",
       "[1459 rows x 1 columns]"
      ]
     },
     "execution_count": 146,
     "metadata": {},
     "output_type": "execute_result"
    }
   ],
   "source": [
    "submission"
   ]
  },
  {
   "cell_type": "code",
   "execution_count": 147,
   "id": "42dd552b",
   "metadata": {
    "execution": {
     "iopub.execute_input": "2022-03-11T12:05:56.520055Z",
     "iopub.status.busy": "2022-03-11T12:05:56.517602Z",
     "iopub.status.idle": "2022-03-11T12:05:56.523915Z",
     "shell.execute_reply": "2022-03-11T12:05:56.523441Z",
     "shell.execute_reply.started": "2022-03-10T15:45:31.064211Z"
    },
    "papermill": {
     "duration": 0.173098,
     "end_time": "2022-03-11T12:05:56.524052",
     "exception": false,
     "start_time": "2022-03-11T12:05:56.350954",
     "status": "completed"
    },
    "tags": []
   },
   "outputs": [
    {
     "name": "stderr",
     "output_type": "stream",
     "text": [
      "/opt/conda/lib/python3.7/site-packages/ipykernel_launcher.py:1: SettingWithCopyWarning: \n",
      "A value is trying to be set on a copy of a slice from a DataFrame.\n",
      "Try using .loc[row_indexer,col_indexer] = value instead\n",
      "\n",
      "See the caveats in the documentation: https://pandas.pydata.org/pandas-docs/stable/user_guide/indexing.html#returning-a-view-versus-a-copy\n",
      "  \"\"\"Entry point for launching an IPython kernel.\n"
     ]
    }
   ],
   "source": [
    "submission['SalePrice'] = test_RandomForest_predictions"
   ]
  },
  {
   "cell_type": "code",
   "execution_count": 148,
   "id": "1e68faaa",
   "metadata": {
    "execution": {
     "iopub.execute_input": "2022-03-11T12:05:56.855061Z",
     "iopub.status.busy": "2022-03-11T12:05:56.854381Z",
     "iopub.status.idle": "2022-03-11T12:05:56.863311Z",
     "shell.execute_reply": "2022-03-11T12:05:56.863799Z",
     "shell.execute_reply.started": "2022-03-10T15:45:36.224717Z"
    },
    "papermill": {
     "duration": 0.176151,
     "end_time": "2022-03-11T12:05:56.863967",
     "exception": false,
     "start_time": "2022-03-11T12:05:56.687816",
     "status": "completed"
    },
    "tags": []
   },
   "outputs": [
    {
     "data": {
      "text/html": [
       "<div>\n",
       "<style scoped>\n",
       "    .dataframe tbody tr th:only-of-type {\n",
       "        vertical-align: middle;\n",
       "    }\n",
       "\n",
       "    .dataframe tbody tr th {\n",
       "        vertical-align: top;\n",
       "    }\n",
       "\n",
       "    .dataframe thead th {\n",
       "        text-align: right;\n",
       "    }\n",
       "</style>\n",
       "<table border=\"1\" class=\"dataframe\">\n",
       "  <thead>\n",
       "    <tr style=\"text-align: right;\">\n",
       "      <th></th>\n",
       "      <th>Id</th>\n",
       "      <th>SalePrice</th>\n",
       "    </tr>\n",
       "  </thead>\n",
       "  <tbody>\n",
       "    <tr>\n",
       "      <th>0</th>\n",
       "      <td>1461</td>\n",
       "      <td>11.715006</td>\n",
       "    </tr>\n",
       "    <tr>\n",
       "      <th>1</th>\n",
       "      <td>1462</td>\n",
       "      <td>11.985487</td>\n",
       "    </tr>\n",
       "    <tr>\n",
       "      <th>2</th>\n",
       "      <td>1463</td>\n",
       "      <td>12.101294</td>\n",
       "    </tr>\n",
       "    <tr>\n",
       "      <th>3</th>\n",
       "      <td>1464</td>\n",
       "      <td>12.208187</td>\n",
       "    </tr>\n",
       "    <tr>\n",
       "      <th>4</th>\n",
       "      <td>1465</td>\n",
       "      <td>12.155724</td>\n",
       "    </tr>\n",
       "    <tr>\n",
       "      <th>...</th>\n",
       "      <td>...</td>\n",
       "      <td>...</td>\n",
       "    </tr>\n",
       "    <tr>\n",
       "      <th>1454</th>\n",
       "      <td>2915</td>\n",
       "      <td>11.536287</td>\n",
       "    </tr>\n",
       "    <tr>\n",
       "      <th>1455</th>\n",
       "      <td>2916</td>\n",
       "      <td>11.391184</td>\n",
       "    </tr>\n",
       "    <tr>\n",
       "      <th>1456</th>\n",
       "      <td>2917</td>\n",
       "      <td>12.085846</td>\n",
       "    </tr>\n",
       "    <tr>\n",
       "      <th>1457</th>\n",
       "      <td>2918</td>\n",
       "      <td>11.740264</td>\n",
       "    </tr>\n",
       "    <tr>\n",
       "      <th>1458</th>\n",
       "      <td>2919</td>\n",
       "      <td>12.375214</td>\n",
       "    </tr>\n",
       "  </tbody>\n",
       "</table>\n",
       "<p>1459 rows × 2 columns</p>\n",
       "</div>"
      ],
      "text/plain": [
       "        Id  SalePrice\n",
       "0     1461  11.715006\n",
       "1     1462  11.985487\n",
       "2     1463  12.101294\n",
       "3     1464  12.208187\n",
       "4     1465  12.155724\n",
       "...    ...        ...\n",
       "1454  2915  11.536287\n",
       "1455  2916  11.391184\n",
       "1456  2917  12.085846\n",
       "1457  2918  11.740264\n",
       "1458  2919  12.375214\n",
       "\n",
       "[1459 rows x 2 columns]"
      ]
     },
     "execution_count": 148,
     "metadata": {},
     "output_type": "execute_result"
    }
   ],
   "source": [
    "submission"
   ]
  },
  {
   "cell_type": "code",
   "execution_count": 149,
   "id": "296f17cb",
   "metadata": {
    "execution": {
     "iopub.execute_input": "2022-03-11T12:05:57.191674Z",
     "iopub.status.busy": "2022-03-11T12:05:57.191075Z",
     "iopub.status.idle": "2022-03-11T12:05:57.200618Z",
     "shell.execute_reply": "2022-03-11T12:05:57.201161Z",
     "shell.execute_reply.started": "2022-03-10T15:45:41.013297Z"
    },
    "papermill": {
     "duration": 0.17473,
     "end_time": "2022-03-11T12:05:57.201339",
     "exception": false,
     "start_time": "2022-03-11T12:05:57.026609",
     "status": "completed"
    },
    "tags": []
   },
   "outputs": [],
   "source": [
    "submission.to_csv('submission.csv', index = None)"
   ]
  },
  {
   "cell_type": "code",
   "execution_count": 150,
   "id": "70b1c679",
   "metadata": {
    "execution": {
     "iopub.execute_input": "2022-03-11T12:05:57.530847Z",
     "iopub.status.busy": "2022-03-11T12:05:57.530108Z",
     "iopub.status.idle": "2022-03-11T12:05:57.539910Z",
     "shell.execute_reply": "2022-03-11T12:05:57.540326Z",
     "shell.execute_reply.started": "2022-03-10T15:45:43.859242Z"
    },
    "papermill": {
     "duration": 0.174834,
     "end_time": "2022-03-11T12:05:57.540516",
     "exception": false,
     "start_time": "2022-03-11T12:05:57.365682",
     "status": "completed"
    },
    "tags": []
   },
   "outputs": [
    {
     "data": {
      "text/html": [
       "<div>\n",
       "<style scoped>\n",
       "    .dataframe tbody tr th:only-of-type {\n",
       "        vertical-align: middle;\n",
       "    }\n",
       "\n",
       "    .dataframe tbody tr th {\n",
       "        vertical-align: top;\n",
       "    }\n",
       "\n",
       "    .dataframe thead th {\n",
       "        text-align: right;\n",
       "    }\n",
       "</style>\n",
       "<table border=\"1\" class=\"dataframe\">\n",
       "  <thead>\n",
       "    <tr style=\"text-align: right;\">\n",
       "      <th></th>\n",
       "      <th>Id</th>\n",
       "      <th>SalePrice</th>\n",
       "    </tr>\n",
       "  </thead>\n",
       "  <tbody>\n",
       "    <tr>\n",
       "      <th>0</th>\n",
       "      <td>1461</td>\n",
       "      <td>11.715006</td>\n",
       "    </tr>\n",
       "    <tr>\n",
       "      <th>1</th>\n",
       "      <td>1462</td>\n",
       "      <td>11.985487</td>\n",
       "    </tr>\n",
       "    <tr>\n",
       "      <th>2</th>\n",
       "      <td>1463</td>\n",
       "      <td>12.101294</td>\n",
       "    </tr>\n",
       "    <tr>\n",
       "      <th>3</th>\n",
       "      <td>1464</td>\n",
       "      <td>12.208187</td>\n",
       "    </tr>\n",
       "    <tr>\n",
       "      <th>4</th>\n",
       "      <td>1465</td>\n",
       "      <td>12.155724</td>\n",
       "    </tr>\n",
       "  </tbody>\n",
       "</table>\n",
       "</div>"
      ],
      "text/plain": [
       "     Id  SalePrice\n",
       "0  1461  11.715006\n",
       "1  1462  11.985487\n",
       "2  1463  12.101294\n",
       "3  1464  12.208187\n",
       "4  1465  12.155724"
      ]
     },
     "execution_count": 150,
     "metadata": {},
     "output_type": "execute_result"
    }
   ],
   "source": [
    "subb = pd.read_csv('submission.csv')\n",
    "subb.head()"
   ]
  },
  {
   "cell_type": "code",
   "execution_count": null,
   "id": "c3bdb8a2",
   "metadata": {
    "papermill": {
     "duration": 0.163192,
     "end_time": "2022-03-11T12:05:57.868964",
     "exception": false,
     "start_time": "2022-03-11T12:05:57.705772",
     "status": "completed"
    },
    "tags": []
   },
   "outputs": [],
   "source": []
  },
  {
   "cell_type": "code",
   "execution_count": null,
   "id": "b52b97ea",
   "metadata": {
    "papermill": {
     "duration": 0.163264,
     "end_time": "2022-03-11T12:05:58.194667",
     "exception": false,
     "start_time": "2022-03-11T12:05:58.031403",
     "status": "completed"
    },
    "tags": []
   },
   "outputs": [],
   "source": []
  },
  {
   "cell_type": "code",
   "execution_count": null,
   "id": "0e64f7c8",
   "metadata": {
    "papermill": {
     "duration": 0.160987,
     "end_time": "2022-03-11T12:05:58.516754",
     "exception": false,
     "start_time": "2022-03-11T12:05:58.355767",
     "status": "completed"
    },
    "tags": []
   },
   "outputs": [],
   "source": []
  }
 ],
 "metadata": {
  "kernelspec": {
   "display_name": "Python 3",
   "language": "python",
   "name": "python3"
  },
  "language_info": {
   "codemirror_mode": {
    "name": "ipython",
    "version": 3
   },
   "file_extension": ".py",
   "mimetype": "text/x-python",
   "name": "python",
   "nbconvert_exporter": "python",
   "pygments_lexer": "ipython3",
   "version": "3.7.12"
  },
  "papermill": {
   "default_parameters": {},
   "duration": 62.946053,
   "end_time": "2022-03-11T12:05:59.391304",
   "environment_variables": {},
   "exception": null,
   "input_path": "__notebook__.ipynb",
   "output_path": "__notebook__.ipynb",
   "parameters": {},
   "start_time": "2022-03-11T12:04:56.445251",
   "version": "2.3.3"
  }
 },
 "nbformat": 4,
 "nbformat_minor": 5
}
